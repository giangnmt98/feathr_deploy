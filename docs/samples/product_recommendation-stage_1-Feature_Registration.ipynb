{
 "cells": [
  {
   "cell_type": "markdown",
   "metadata": {
    "application/vnd.databricks.v1+cell": {
     "inputWidgets": {},
     "nuid": "e5545a38-44a7-4aca-be6d-a66c51c75ec8",
     "showTitle": false,
     "title": ""
    }
   },
   "source": [
    "# Product Recommendation with Feathr\n",
    "\n",
    "This notebook illustrates the use of Feathr Feature Store to create a model that predict users' rating for different products for a e-commerce website.\n",
    "\n",
    "### Model Problem Statement\n",
    "The e-commerce website has collected past user ratings for various products. The website also collected data about user and product, like user age, product category etc. Now we want to predict users' product rating for new product so that we can recommend the new product to users that give a high rating for those products.\n",
    "\n",
    "### Feature Creation Illustration\n",
    "In this example, our observation data has compound entity key where a record is uniquely identified by `user_id` and `product_id`. With that, we can think about three types of features:\n",
    "1. **User features** that are different for different users but are the same for different products. For example, user age is different for different users but it's product-agnostic.\n",
    "2. **Product features** that are different for different products but are the same for all the users.\n",
    "3. **User-to-product** features that are different for different users AND different products. For example, a feature to represent if the user has bought this product before or not.\n",
    "\n",
    "In this example, we will focus on the first two types of features. After we train a model based on those features, we predict the product ratings that users will give for the products.\n",
    "\n",
    "The feature creation flow is as below:\n",
    "![Feature Flow](https://github.com/feathr-ai/feathr/blob/main/docs/images/product_recommendation_advanced.jpg?raw=true)"
   ]
  },
  {
   "cell_type": "markdown",
   "metadata": {},
   "source": [
    "## 2. Config Feathr Client"
   ]
  },
  {
   "cell_type": "code",
   "execution_count": 1,
   "metadata": {
    "application/vnd.databricks.v1+cell": {
     "inputWidgets": {},
     "nuid": "0f3135eb-15c5-4f46-90ff-881a21cc59df",
     "showTitle": false,
     "title": ""
    }
   },
   "outputs": [
    {
     "name": "stdout",
     "output_type": "stream",
     "text": [
      "Feathr version: 1.0.0\n"
     ]
    }
   ],
   "source": [
    "import glob\n",
    "import os\n",
    "import tempfile\n",
    "from datetime import datetime, timedelta\n",
    "from math import sqrt\n",
    "\n",
    "import pandas as pd\n",
    "from pyspark.sql import DataFrame\n",
    "# from interpret.provider import InlineProvider\n",
    "# from interpret import set_visualize_provider\n",
    "\n",
    "# set_visualize_provider(InlineProvider())\n",
    "\n",
    "import feathr\n",
    "from feathr import (\n",
    "    FeathrClient,\n",
    "    BOOLEAN, FLOAT, INT32, ValueType,\n",
    "    Feature, DerivedFeature, FeatureAnchor,\n",
    "    BackfillTime, MaterializationSettings,\n",
    "    FeatureQuery, ObservationSettings,\n",
    "    RedisSink,\n",
    "    INPUT_CONTEXT, HdfsSource,\n",
    "    WindowAggTransformation,\n",
    "    TypedKey,\n",
    ")\n",
    "from feathr.datasets.constants import (\n",
    "    PRODUCT_RECOMMENDATION_USER_OBSERVATION_URL,\n",
    "    PRODUCT_RECOMMENDATION_USER_PROFILE_URL,\n",
    "    PRODUCT_RECOMMENDATION_USER_PURCHASE_HISTORY_URL,\n",
    "    PRODUCT_RECOMMENDATION_PRODUCT_DETAIL_URL,\n",
    ")\n",
    "from feathr.datasets.utils import maybe_download\n",
    "from feathr.utils.config import generate_config\n",
    "from feathr.utils.job_utils import get_result_df\n",
    "\n",
    "print(f\"Feathr version: {feathr.__version__}\")"
   ]
  },
  {
   "cell_type": "code",
   "execution_count": 2,
   "metadata": {},
   "outputs": [],
   "source": [
    "os.environ['SPARK_LOCAL_IP'] = \"127.0.0.1\"\n",
    "os.environ['REDIS_PASSWORD'] = \"password\"\n",
    "PROJECT_NAME = \"product_recommendation\""
   ]
  },
  {
   "cell_type": "code",
   "execution_count": 3,
   "metadata": {
    "tags": [
     "parameters"
    ]
   },
   "outputs": [
    {
     "name": "stdout",
     "output_type": "stream",
     "text": [
      "Found jar file at ./vnpt_feathr-0.0.1.jar\n"
     ]
    },
    {
     "data": {
      "text/plain": [
       "714"
      ]
     },
     "execution_count": 3,
     "metadata": {},
     "output_type": "execute_result"
    }
   ],
   "source": [
    "from pathlib import Path\n",
    "\n",
    "\n",
    "import glob\n",
    "jar_name = glob.glob(\"./*.jar\")[0]\n",
    "print(f\"Found jar file at {jar_name}\")\n",
    "\n",
    "yaml_config = f\"\"\"\n",
    "api_version: 1\n",
    "project_config:\n",
    "  project_name: {PROJECT_NAME}\n",
    "\n",
    "spark_config:\n",
    "  # choice for spark runtime. Currently support: azure_synapse, databricks, local\n",
    "  spark_cluster: 'local'\n",
    "  spark_result_output_parts: '1'\n",
    "  local:\n",
    "    master: 'local[*]'\n",
    "    spark.sql.shuffle.partitions: '12'\n",
    "    feathr_runtime_location: \"{jar_name}\"\n",
    "\n",
    "online_store:\n",
    "  mongodb:\n",
    "    # mongodb configs\n",
    "    host: '127.0.0.1'\n",
    "    port: 27017\n",
    "    database: _feathr\n",
    "    \n",
    "  redis:\n",
    "    # Redis configs to access Redis cluster\n",
    "    host: '172.20.0.3'\n",
    "    port: 6379\n",
    "    ssl_enabled: False\n",
    "    cluster_mode: True\n",
    "\n",
    "\n",
    "feature_registry:\n",
    "  # The API endpoint of the registry service\n",
    "  api_endpoint: \"http://127.0.0.1:8081/api/v1\"\n",
    "\"\"\"\n",
    "feathr_workspace_folder = Path(f\"./{PROJECT_NAME}_feathr_config.yaml\")\n",
    "feathr_workspace_folder.parent.mkdir(exist_ok=True, parents=True)\n",
    "feathr_workspace_folder.write_text(yaml_config)"
   ]
  },
  {
   "cell_type": "markdown",
   "metadata": {
    "application/vnd.databricks.v1+cell": {
     "inputWidgets": {},
     "nuid": "794492ed-66b0-4787-adc6-3f234c4739a9",
     "showTitle": false,
     "title": ""
    }
   },
   "source": [
    "### Initialize Feathr Client"
   ]
  },
  {
   "cell_type": "code",
   "execution_count": 4,
   "metadata": {
    "application/vnd.databricks.v1+cell": {
     "inputWidgets": {},
     "nuid": "0c748f9d-210b-4c1d-a414-b30328d5e219",
     "showTitle": false,
     "title": ""
    }
   },
   "outputs": [
    {
     "name": "stderr",
     "output_type": "stream",
     "text": [
      "2024-11-11 17:30:09.075 | INFO     | feathr.utils._env_config_reader:get:62 - Config secrets__azure_key_vault__name is not found in the environment variable, configuration file, or the remote key value store. Returning the default value: None.\n",
      "2024-11-11 17:30:09.087 | INFO     | feathr.client:_construct_mongodb_client:621 - fffffffffffffffffffffffffffffffffffffffffffffff\n",
      "2024-11-11 17:30:09.087 | INFO     | feathr.client:_construct_mongodb_client:622 - True\n",
      "2024-11-11 17:30:09.088 | INFO     | feathr.client:_construct_mongodb_client:624 - 127.0.0.1\n",
      "2024-11-11 17:30:09.088 | INFO     | feathr.client:_construct_mongodb_client:625 - 27017\n",
      "2024-11-11 17:30:09.090 | INFO     | feathr.client:_construct_mongodb_client:626 - _feathr\n",
      "2024-11-11 17:30:09.091 | INFO     | feathr.client:_construct_mongodb_client:627 - True\n",
      "2024-11-11 17:30:09.091 | INFO     | feathr.client:_construct_mongodb_client:628 - 9999999999999999999999999999999999999999999999999999999999999999999999\n",
      "2024-11-11 17:30:09.097 | INFO     | feathr.client:_construct_mongodb_client:644 - Successfully connected to MongoDB at 127.0.0.1:27017.\n",
      "2024-11-11 17:30:09.098 | INFO     | feathr.utils._env_config_reader:get:62 - Config offline_store__s3__s3_enabled is not found in the environment variable, configuration file, or the remote key value store. Returning the default value: None.\n",
      "2024-11-11 17:30:09.099 | INFO     | feathr.utils._env_config_reader:get:62 - Config offline_store__adls__adls_enabled is not found in the environment variable, configuration file, or the remote key value store. Returning the default value: None.\n",
      "2024-11-11 17:30:09.099 | INFO     | feathr.utils._env_config_reader:get:62 - Config offline_store__wasb__wasb_enabled is not found in the environment variable, configuration file, or the remote key value store. Returning the default value: None.\n",
      "2024-11-11 17:30:09.100 | INFO     | feathr.utils._env_config_reader:get:62 - Config offline_store__jdbc__jdbc_enabled is not found in the environment variable, configuration file, or the remote key value store. Returning the default value: None.\n",
      "2024-11-11 17:30:09.101 | INFO     | feathr.utils._env_config_reader:get:62 - Config offline_store__snowflake__snowflake_enabled is not found in the environment variable, configuration file, or the remote key value store. Returning the default value: None.\n",
      "No offline storage enabled.\n",
      "2024-11-11 17:30:09.102 | INFO     | feathr.utils._env_config_reader:get:62 - Config spark_config__local__workspace is not found in the environment variable, configuration file, or the remote key value store. Returning the default value: None.\n",
      "2024-11-11 17:30:09.103 | INFO     | feathr.utils._env_config_reader:get:62 - Config feature_registry__purview__purview_name is not found in the environment variable, configuration file, or the remote key value store. Returning the default value: None.\n",
      "2024-11-11 17:30:09.105 | INFO     | feathr.client:__init__:231 - Feathr client 1.0.0 initialized successfully.\n"
     ]
    },
    {
     "name": "stdout",
     "output_type": "stream",
     "text": [
      "yyyyyyyyyyyyyyyyyyyyyyyyyyyyyyyyyyyyyyyyyyyyyyyyyyyy\n",
      "2222222222222222222222222222222222222222222222222222222222222222222222222222222222\n"
     ]
    }
   ],
   "source": [
    "from pathlib import Path\n",
    "feathr_workspace_folder = Path(f\"./{PROJECT_NAME}_feathr_config.yaml\")\n",
    "client = FeathrClient(str(feathr_workspace_folder))"
   ]
  },
  {
   "cell_type": "markdown",
   "metadata": {},
   "source": [
    "## 3. Prepare Datasets"
   ]
  },
  {
   "cell_type": "code",
   "execution_count": 5,
   "metadata": {},
   "outputs": [],
   "source": [
    "# Download datasets\n",
    "WORKING_DIR = PROJECT_NAME\n",
    "user_observation_file_path = f\"{WORKING_DIR}/user_observation.csv\"\n",
    "user_profile_file_path = f\"{WORKING_DIR}/user_profile.csv\"\n",
    "user_purchase_history_file_path = f\"{WORKING_DIR}/user_purchase_history.csv\"\n",
    "product_detail_file_path = f\"{WORKING_DIR}/product_detail.csv\"\n",
    "# maybe_download(\n",
    "#     src_url=PRODUCT_RECOMMENDATION_USER_OBSERVATION_URL,\n",
    "#     dst_filepath=user_observation_file_path,\n",
    "# )\n",
    "# maybe_download(\n",
    "#     src_url=PRODUCT_RECOMMENDATION_USER_PROFILE_URL,\n",
    "#     dst_filepath=user_profile_file_path,\n",
    "# )\n",
    "# maybe_download(\n",
    "#     src_url=PRODUCT_RECOMMENDATION_USER_PURCHASE_HISTORY_URL,\n",
    "#     dst_filepath=user_purchase_history_file_path,\n",
    "# )\n",
    "# maybe_download(\n",
    "#     src_url=PRODUCT_RECOMMENDATION_PRODUCT_DETAIL_URL,\n",
    "#     dst_filepath=product_detail_file_path,\n",
    "# )\n",
    "\n",
    "# In local mode, we can use the same data path as the source.\n",
    "user_observation_source_path = user_observation_file_path\n",
    "user_profile_source_path = user_profile_file_path\n",
    "user_purchase_history_source_path = user_purchase_history_file_path\n",
    "product_detail_source_path = product_detail_file_path"
   ]
  },
  {
   "cell_type": "code",
   "execution_count": 6,
   "metadata": {},
   "outputs": [
    {
     "name": "stdout",
     "output_type": "stream",
     "text": [
      "mkdir: cannot create directory ‘product_recommendation’: File exists\n"
     ]
    }
   ],
   "source": [
    "!mkdir {PROJECT_NAME}"
   ]
  },
  {
   "cell_type": "code",
   "execution_count": 7,
   "metadata": {
    "tags": []
   },
   "outputs": [],
   "source": [
    "import pandas as pd\n",
    "import numpy as np\n",
    "import random"
   ]
  },
  {
   "cell_type": "code",
   "execution_count": 8,
   "metadata": {
    "tags": []
   },
   "outputs": [],
   "source": [
    "user_ids = np.arange(1, 500 + 1)\n",
    "product_ids = np.arange(1, 100 + 1)"
   ]
  },
  {
   "cell_type": "code",
   "execution_count": 9,
   "metadata": {
    "tags": []
   },
   "outputs": [],
   "source": [
    "# Create a DataFrame with random data for each column\n",
    "data = {\n",
    "    'user_id': np.random.permutation(user_ids),\n",
    "    'age': np.random.randint(18, 65, size=len(user_ids)),\n",
    "    'gift_card_balance': np.random.randint(0, 2000, size=len(user_ids)),\n",
    "    'tax_rate': np.random.randint(1, 6, size=len(user_ids)),\n",
    "    'number_of_credit_cards': np.random.randint(1, 3, size=len(user_ids))\n",
    "}\n",
    "\n",
    "df = pd.DataFrame(data)\n",
    "\n",
    "# Hiển thị DataFrame\n",
    "df.to_csv(user_profile_file_path, index=False)"
   ]
  },
  {
   "cell_type": "code",
   "execution_count": 10,
   "metadata": {
    "tags": []
   },
   "outputs": [],
   "source": [
    "# Create random data for each column\n",
    "data = {\n",
    "    'product_id': np.random.permutation(product_ids) ,\n",
    "    'price': np.random.uniform(1, 200, size=len(product_ids)),\n",
    "    'quantity': np.random.randint(1, 100, size=len(product_ids))\n",
    "}\n",
    "\n",
    "# Create a DataFrame\n",
    "df = pd.DataFrame(data)\n",
    "\n",
    "# Save to CSV\n",
    "df.to_csv(product_detail_source_path, index=False)"
   ]
  },
  {
   "cell_type": "code",
   "execution_count": 11,
   "metadata": {
    "tags": []
   },
   "outputs": [],
   "source": [
    "from datetime import datetime, timedelta\n",
    "\n",
    "# Function to generate random dates\n",
    "def random_date(start, end):\n",
    "    return (start + timedelta(\n",
    "        seconds=random.randint(0, int((end - start).total_seconds())))).strftime('%d/%m/%Y')\n",
    "\n",
    "# Set the number of samples you want to generate\n"
   ]
  },
  {
   "cell_type": "code",
   "execution_count": 12,
   "metadata": {
    "tags": []
   },
   "outputs": [],
   "source": [
    "num_samples = 1000"
   ]
  },
  {
   "cell_type": "code",
   "execution_count": 13,
   "metadata": {
    "tags": []
   },
   "outputs": [],
   "source": [
    "\n",
    "# Generate random data\n",
    "data = {\n",
    "    'user_id': np.random.choice(user_ids, num_samples, replace=True),\n",
    "    'product_id': np.random.choice(product_ids, num_samples, replace=True),\n",
    "    'event_timestamp': [random_date(datetime(2022, 1, 1), datetime(2024, 12, 31)) for _ in range(num_samples)],\n",
    "    'Product_rating': [random.randint(0, 5) for _ in range(num_samples)]\n",
    "}\n",
    "\n",
    "# Create DataFrame\n",
    "df = pd.DataFrame(data)\n",
    "df[\"event_timestamp\"] = pd.to_datetime(df[\"event_timestamp\"], dayfirst=True)\n",
    "# Save DataFrame to CSV\n",
    "df.to_csv(user_observation_source_path, index=False)\n"
   ]
  },
  {
   "cell_type": "code",
   "execution_count": 14,
   "metadata": {
    "tags": []
   },
   "outputs": [],
   "source": [
    "# Generate random data\n",
    "purchase_time = [random_date(datetime(2022, 1, 1), datetime(2024, 12, 31)) for _ in range(num_samples)]\n",
    "data = {\n",
    "    'user_id': np.random.choice(user_ids, num_samples, replace=True),\n",
    "    'purchase_time': purchase_time,\n",
    "    'purchase_amount': np.random.uniform(1, 150, size=num_samples).round(2),\n",
    "    'purchase_date': purchase_time\n",
    "}\n",
    "\n",
    "# Create DataFrame\n",
    "df = pd.DataFrame(data)\n",
    "df[\"purchase_time\"] = pd.to_datetime(df[\"purchase_time\"], dayfirst=True)\n",
    "df[\"purchase_date\"] = pd.to_datetime(df[\"purchase_date\"], dayfirst=True)\n",
    "# Save DataFrame to CSV\n",
    "df.to_csv(user_purchase_history_source_path, index=False)\n"
   ]
  },
  {
   "cell_type": "markdown",
   "metadata": {
    "application/vnd.databricks.v1+cell": {
     "inputWidgets": {},
     "nuid": "46b45998-d933-4417-b152-7db091c0d5bd",
     "showTitle": false,
     "title": ""
    }
   },
   "source": [
    "## 4. Define Sharable Features using Feathr API\n",
    "\n",
    "### Understand raw datasets\n",
    "We have three datasets to work with:\n",
    "* Observation dataset (a.k.a. labeled dataset)\n",
    "* User profile\n",
    "* User purchase history\n",
    "* Product details"
   ]
  },
  {
   "cell_type": "code",
   "execution_count": 15,
   "metadata": {
    "application/vnd.databricks.v1+cell": {
     "inputWidgets": {},
     "nuid": "11b8a74f-c0e1-4556-9a97-f17f8a90a795",
     "showTitle": false,
     "title": ""
    }
   },
   "outputs": [
    {
     "data": {
      "text/html": [
       "<div>\n",
       "<style scoped>\n",
       "    .dataframe tbody tr th:only-of-type {\n",
       "        vertical-align: middle;\n",
       "    }\n",
       "\n",
       "    .dataframe tbody tr th {\n",
       "        vertical-align: top;\n",
       "    }\n",
       "\n",
       "    .dataframe thead th {\n",
       "        text-align: right;\n",
       "    }\n",
       "</style>\n",
       "<table border=\"1\" class=\"dataframe\">\n",
       "  <thead>\n",
       "    <tr style=\"text-align: right;\">\n",
       "      <th></th>\n",
       "      <th>user_id</th>\n",
       "      <th>age</th>\n",
       "      <th>gift_card_balance</th>\n",
       "      <th>tax_rate</th>\n",
       "      <th>number_of_credit_cards</th>\n",
       "    </tr>\n",
       "  </thead>\n",
       "  <tbody>\n",
       "    <tr>\n",
       "      <th>0</th>\n",
       "      <td>56</td>\n",
       "      <td>58</td>\n",
       "      <td>1812</td>\n",
       "      <td>2</td>\n",
       "      <td>2</td>\n",
       "    </tr>\n",
       "    <tr>\n",
       "      <th>1</th>\n",
       "      <td>101</td>\n",
       "      <td>59</td>\n",
       "      <td>1109</td>\n",
       "      <td>4</td>\n",
       "      <td>1</td>\n",
       "    </tr>\n",
       "    <tr>\n",
       "      <th>2</th>\n",
       "      <td>487</td>\n",
       "      <td>22</td>\n",
       "      <td>1760</td>\n",
       "      <td>5</td>\n",
       "      <td>1</td>\n",
       "    </tr>\n",
       "    <tr>\n",
       "      <th>3</th>\n",
       "      <td>60</td>\n",
       "      <td>44</td>\n",
       "      <td>701</td>\n",
       "      <td>4</td>\n",
       "      <td>2</td>\n",
       "    </tr>\n",
       "    <tr>\n",
       "      <th>4</th>\n",
       "      <td>227</td>\n",
       "      <td>18</td>\n",
       "      <td>866</td>\n",
       "      <td>4</td>\n",
       "      <td>2</td>\n",
       "    </tr>\n",
       "  </tbody>\n",
       "</table>\n",
       "</div>"
      ],
      "text/plain": [
       "   user_id  age  gift_card_balance  tax_rate  number_of_credit_cards\n",
       "0       56   58               1812         2                       2\n",
       "1      101   59               1109         4                       1\n",
       "2      487   22               1760         5                       1\n",
       "3       60   44                701         4                       2\n",
       "4      227   18                866         4                       2"
      ]
     },
     "execution_count": 15,
     "metadata": {},
     "output_type": "execute_result"
    }
   ],
   "source": [
    "# User profile dataset\n",
    "# Used to generate user features\n",
    "pd.read_csv(user_profile_file_path).head()"
   ]
  },
  {
   "cell_type": "code",
   "execution_count": 16,
   "metadata": {
    "application/vnd.databricks.v1+cell": {
     "inputWidgets": {},
     "nuid": "12f237da-a7fb-48c2-985e-a8cdfa3bb3fc",
     "showTitle": false,
     "title": ""
    }
   },
   "outputs": [
    {
     "data": {
      "text/html": [
       "<div>\n",
       "<style scoped>\n",
       "    .dataframe tbody tr th:only-of-type {\n",
       "        vertical-align: middle;\n",
       "    }\n",
       "\n",
       "    .dataframe tbody tr th {\n",
       "        vertical-align: top;\n",
       "    }\n",
       "\n",
       "    .dataframe thead th {\n",
       "        text-align: right;\n",
       "    }\n",
       "</style>\n",
       "<table border=\"1\" class=\"dataframe\">\n",
       "  <thead>\n",
       "    <tr style=\"text-align: right;\">\n",
       "      <th></th>\n",
       "      <th>user_id</th>\n",
       "      <th>purchase_time</th>\n",
       "      <th>purchase_amount</th>\n",
       "      <th>purchase_date</th>\n",
       "    </tr>\n",
       "  </thead>\n",
       "  <tbody>\n",
       "    <tr>\n",
       "      <th>0</th>\n",
       "      <td>299</td>\n",
       "      <td>2022-07-06</td>\n",
       "      <td>139.75</td>\n",
       "      <td>2022-07-06</td>\n",
       "    </tr>\n",
       "    <tr>\n",
       "      <th>1</th>\n",
       "      <td>245</td>\n",
       "      <td>2023-11-09</td>\n",
       "      <td>143.66</td>\n",
       "      <td>2023-11-09</td>\n",
       "    </tr>\n",
       "    <tr>\n",
       "      <th>2</th>\n",
       "      <td>312</td>\n",
       "      <td>2024-06-19</td>\n",
       "      <td>30.94</td>\n",
       "      <td>2024-06-19</td>\n",
       "    </tr>\n",
       "    <tr>\n",
       "      <th>3</th>\n",
       "      <td>235</td>\n",
       "      <td>2023-01-31</td>\n",
       "      <td>33.96</td>\n",
       "      <td>2023-01-31</td>\n",
       "    </tr>\n",
       "    <tr>\n",
       "      <th>4</th>\n",
       "      <td>221</td>\n",
       "      <td>2024-05-18</td>\n",
       "      <td>31.51</td>\n",
       "      <td>2024-05-18</td>\n",
       "    </tr>\n",
       "  </tbody>\n",
       "</table>\n",
       "</div>"
      ],
      "text/plain": [
       "   user_id purchase_time  purchase_amount purchase_date\n",
       "0      299    2022-07-06           139.75    2022-07-06\n",
       "1      245    2023-11-09           143.66    2023-11-09\n",
       "2      312    2024-06-19            30.94    2024-06-19\n",
       "3      235    2023-01-31            33.96    2023-01-31\n",
       "4      221    2024-05-18            31.51    2024-05-18"
      ]
     },
     "execution_count": 16,
     "metadata": {},
     "output_type": "execute_result"
    }
   ],
   "source": [
    "# User purchase history dataset.\n",
    "# Used to generate user features. This is activity type data, so we need to use aggregation to generate features.\n",
    "pd.read_csv(user_purchase_history_file_path).head()"
   ]
  },
  {
   "cell_type": "code",
   "execution_count": 17,
   "metadata": {
    "application/vnd.databricks.v1+cell": {
     "inputWidgets": {},
     "nuid": "333ef001-50c8-4556-b484-78715b657dbb",
     "showTitle": false,
     "title": ""
    }
   },
   "outputs": [
    {
     "data": {
      "text/html": [
       "<div>\n",
       "<style scoped>\n",
       "    .dataframe tbody tr th:only-of-type {\n",
       "        vertical-align: middle;\n",
       "    }\n",
       "\n",
       "    .dataframe tbody tr th {\n",
       "        vertical-align: top;\n",
       "    }\n",
       "\n",
       "    .dataframe thead th {\n",
       "        text-align: right;\n",
       "    }\n",
       "</style>\n",
       "<table border=\"1\" class=\"dataframe\">\n",
       "  <thead>\n",
       "    <tr style=\"text-align: right;\">\n",
       "      <th></th>\n",
       "      <th>product_id</th>\n",
       "      <th>price</th>\n",
       "      <th>quantity</th>\n",
       "    </tr>\n",
       "  </thead>\n",
       "  <tbody>\n",
       "    <tr>\n",
       "      <th>0</th>\n",
       "      <td>12</td>\n",
       "      <td>159.582276</td>\n",
       "      <td>48</td>\n",
       "    </tr>\n",
       "    <tr>\n",
       "      <th>1</th>\n",
       "      <td>67</td>\n",
       "      <td>100.176701</td>\n",
       "      <td>64</td>\n",
       "    </tr>\n",
       "    <tr>\n",
       "      <th>2</th>\n",
       "      <td>88</td>\n",
       "      <td>61.170795</td>\n",
       "      <td>25</td>\n",
       "    </tr>\n",
       "    <tr>\n",
       "      <th>3</th>\n",
       "      <td>90</td>\n",
       "      <td>111.296690</td>\n",
       "      <td>82</td>\n",
       "    </tr>\n",
       "    <tr>\n",
       "      <th>4</th>\n",
       "      <td>79</td>\n",
       "      <td>66.178578</td>\n",
       "      <td>30</td>\n",
       "    </tr>\n",
       "  </tbody>\n",
       "</table>\n",
       "</div>"
      ],
      "text/plain": [
       "   product_id       price  quantity\n",
       "0          12  159.582276        48\n",
       "1          67  100.176701        64\n",
       "2          88   61.170795        25\n",
       "3          90  111.296690        82\n",
       "4          79   66.178578        30"
      ]
     },
     "execution_count": 17,
     "metadata": {},
     "output_type": "execute_result"
    }
   ],
   "source": [
    "# Product detail dataset.\n",
    "# Used to generate product features.\n",
    "pd.read_csv(product_detail_file_path).head()"
   ]
  },
  {
   "cell_type": "markdown",
   "metadata": {
    "application/vnd.databricks.v1+cell": {
     "inputWidgets": {},
     "nuid": "bdc5a2e1-ccd4-4d61-9168-b0e4f571587b",
     "showTitle": false,
     "title": ""
    }
   },
   "source": [
    "### What's a feature in Feathr\n",
    "A feature is an individual measurable property or characteristic of a phenomenon which is sometimes time-sensitive.\n",
    "\n",
    "In Feathr, a feature is defined by the following characteristics:\n",
    "* The typed key (a.k.a. entity id): identifies the subject of feature, e.g. a user id of 123, a product id of SKU234456.\n",
    "* The feature name: the unique identifier of the feature, e.g. user_age, total_spending_in_30_days.\n",
    "* The feature value: the actual value of that aspect at a particular time, e.g. the feature value of the person's age is 30 at year 2022.\n",
    "* The timestamp: this indicates when the event happened. For example, the user purchased certain product on a certain timestamp. This is usually used for point-in-time join.\n",
    "\n",
    "You can feel that this is defined from a feature consumer (a person who wants to use a feature) perspective. It only tells us what a feature is like. In later sections, you can see how a feature consumer can access the features in a very simple way.\n",
    "\n",
    "To define how to produce the feature, we need to specify:\n",
    "* Feature source: what source data that this feature is based on\n",
    "* Transformation: what transformation is used to transform the source data into feature. Transformation can be optional when you just want to take a column out from the source data.\n",
    "\n",
    "(For more details on feature definition, please refer to the [Feathr Feature Definition Guide](https://feathr-ai.github.io/feathr/concepts/feature-definition.html).)"
   ]
  },
  {
   "cell_type": "markdown",
   "metadata": {
    "application/vnd.databricks.v1+cell": {
     "inputWidgets": {},
     "nuid": "30e2c57d-6487-4d72-bd78-80d17325f1a9",
     "showTitle": false,
     "title": ""
    }
   },
   "source": [
    "Note: in some cases, such as features defined on top of request data, may have no entity key or timestamp.\n",
    "It is merely a function/transformation executing against request data at runtime.\n",
    "For example, the day of week of the request, which is calculated by converting the request UNIX timestamp.\n",
    "(We won't cover this in the tutorial.)"
   ]
  },
  {
   "cell_type": "markdown",
   "metadata": {
    "application/vnd.databricks.v1+cell": {
     "inputWidgets": {},
     "nuid": "64fc4ef8-ccde-4724-8eff-1263c08de39f",
     "showTitle": false,
     "title": ""
    }
   },
   "source": [
    "### Define Sources Section with UDFs\n",
    "\n",
    "A feature is called an anchored feature when the feature is directly extracted from the source data, rather than computed on top of other features. The latter case is called derived feature.\n",
    "\n",
    "A [feature source](https://feathr.readthedocs.io/en/latest/#feathr.Source) is needed for anchored features that describes the raw data in which the feature values are computed from. See the python documentation to get the details on each input column.\n",
    "\n",
    "See [the python API documentation](https://feathr.readthedocs.io/en/latest/#feathr.HdfsSource) to get the details of each input fields."
   ]
  },
  {
   "cell_type": "code",
   "execution_count": 18,
   "metadata": {
    "application/vnd.databricks.v1+cell": {
     "inputWidgets": {},
     "nuid": "c32249b5-599b-4337-bebf-c33693354685",
     "showTitle": false,
     "title": ""
    }
   },
   "outputs": [],
   "source": [
    "def feathr_udf_preprocessing(df: DataFrame) -> DataFrame:\n",
    "    from pyspark.sql.functions import col\n",
    "\n",
    "    return df.withColumn(\"tax_rate_decimal\", col(\"tax_rate\") / 100)\n",
    "\n",
    "batch_source = HdfsSource(\n",
    "    name=\"userProfileData\",\n",
    "    path=user_profile_source_path,\n",
    "    preprocessing=feathr_udf_preprocessing,\n",
    ")"
   ]
  },
  {
   "cell_type": "code",
   "execution_count": 19,
   "metadata": {
    "application/vnd.databricks.v1+cell": {
     "inputWidgets": {},
     "nuid": "2961afe9-4bdc-48ba-a63f-229081f557a3",
     "showTitle": false,
     "title": ""
    }
   },
   "outputs": [],
   "source": [
    "# Let's define some features for users so our recommendation can be customized for users.\n",
    "user_id = TypedKey(\n",
    "    key_column=\"user_id\",\n",
    "    key_column_type=ValueType.INT32,\n",
    "    description=\"user id\",\n",
    "    full_name=\"product_recommendation.user_id\",\n",
    ")\n",
    "\n",
    "feature_user_age = Feature(\n",
    "    name=\"feature_user_age\",\n",
    "    key=user_id,\n",
    "    feature_type=INT32,\n",
    "    transform=\"age\",\n",
    ")\n",
    "feature_user_tax_rate = Feature(\n",
    "    name=\"feature_user_tax_rate\",\n",
    "    key=user_id,\n",
    "    feature_type=FLOAT,\n",
    "    transform=\"tax_rate_decimal\",\n",
    ")\n",
    "feature_user_gift_card_balance = Feature(\n",
    "    name=\"feature_user_gift_card_balance\",\n",
    "    key=user_id,\n",
    "    feature_type=FLOAT,\n",
    "    transform=\"gift_card_balance\",\n",
    ")\n",
    "feature_user_has_valid_credit_card = Feature(\n",
    "    name=\"feature_user_has_valid_credit_card\",\n",
    "    key=user_id,\n",
    "    feature_type=BOOLEAN,\n",
    "    transform=\"number_of_credit_cards > 0\",\n",
    ")\n",
    "\n",
    "features = [\n",
    "    feature_user_age,\n",
    "    feature_user_tax_rate,\n",
    "    feature_user_gift_card_balance,\n",
    "    feature_user_has_valid_credit_card,\n",
    "]\n",
    "\n",
    "user_feature_anchor = FeatureAnchor(\n",
    "    name=\"anchored_features\", source=batch_source, features=features\n",
    ")"
   ]
  },
  {
   "cell_type": "code",
   "execution_count": 20,
   "metadata": {
    "application/vnd.databricks.v1+cell": {
     "inputWidgets": {},
     "nuid": "4da453e8-a8fd-40b8-a1e6-2a0e7cac3f6e",
     "showTitle": false,
     "title": ""
    }
   },
   "outputs": [],
   "source": [
    "# Let's define some features for the products so our recommendation can be customized for products.\n",
    "product_batch_source = HdfsSource(\n",
    "    name=\"productProfileData\",\n",
    "    path=product_detail_source_path,\n",
    ")\n",
    "\n",
    "product_id = TypedKey(\n",
    "    key_column=\"product_id\",\n",
    "    key_column_type=ValueType.INT32,\n",
    "    description=\"product id\",\n",
    "    full_name=\"product_recommendation.product_id\",\n",
    ")\n",
    "\n",
    "feature_product_quantity = Feature(\n",
    "    name=\"feature_product_quantity\",\n",
    "    key=product_id,\n",
    "    feature_type=FLOAT,\n",
    "    transform=\"quantity\",\n",
    ")\n",
    "feature_product_price = Feature(\n",
    "    name=\"feature_product_price\", key=product_id, feature_type=FLOAT, transform=\"price\"\n",
    ")\n",
    "\n",
    "product_features = [feature_product_quantity, feature_product_price]\n",
    "\n",
    "product_feature_anchor = FeatureAnchor(\n",
    "    name=\"product_anchored_features\",\n",
    "    source=product_batch_source,\n",
    "    features=product_features,\n",
    ")"
   ]
  },
  {
   "cell_type": "markdown",
   "metadata": {
    "application/vnd.databricks.v1+cell": {
     "inputWidgets": {},
     "nuid": "78e240b4-dcab-499f-b6ed-72a14bfab968",
     "showTitle": false,
     "title": ""
    }
   },
   "source": [
    "### Define window aggregation features\n",
    "\n",
    "[Window aggregation](https://en.wikipedia.org/wiki/Window_function_%28SQL%29) helps us to create more powerful features by compressing large amount of information. For example, we can compute *average purchase amount over the last 90 days* from the purchase history to capture user's recent consumption trend.\n",
    "\n",
    "To create window aggregation features, we define `WindowAggTransformation` with following arguments:\n",
    "1. `agg_expr`: the field/column you want to aggregate. It can be an ANSI SQL expression, e.g. `cast_float(purchase_amount)` to cast `str` type values to `float`.\n",
    "2. `agg_func`: the aggregation function, e.g. `AVG`. See below table for the full list of supported functions.\n",
    "3. `window`: the aggregation window size, e.g. `90d` to aggregate over the 90 days.\n",
    "\n",
    "| Aggregation Type | Input Type | Description |\n",
    "| --- | --- | --- |\n",
    "| `SUM`, `COUNT`, `MAX`, `MIN`, `AVG` | Numeric | Applies the the numerical operation on the numeric inputs. |\n",
    "| `MAX_POOLING`, `MIN_POOLING`, `AVG_POOLING`\t| Numeric Vector | Applies the max/min/avg operation on a per entry basis for a given a collection of numbers. |\n",
    "| `LATEST` | Any | Returns the latest not-null values from within the defined time window. |\n",
    "\n",
    "After you have defined features and sources, bring them together to build an anchor:\n",
    "\n",
    "> Note that if the features comes directly from the observation data, the `source` argument should be `INPUT_CONTEXT` to indicate the source of the anchor is the observation data."
   ]
  },
  {
   "cell_type": "code",
   "execution_count": 21,
   "metadata": {
    "application/vnd.databricks.v1+cell": {
     "inputWidgets": {},
     "nuid": "b62a9041-73dc-45e1-add5-8fe01ebf355f",
     "showTitle": false,
     "title": ""
    }
   },
   "outputs": [],
   "source": [
    "purchase_history_data = HdfsSource(\n",
    "    name=\"purchase_history_data\",\n",
    "    path=user_purchase_history_source_path,\n",
    "    event_timestamp_column=\"purchase_date\",\n",
    "    timestamp_format=\"yyyy-MM-dd\",\n",
    ")\n",
    "\n",
    "agg_features = [\n",
    "    Feature(\n",
    "        name=\"feature_user_avg_purchase_for_90days\",\n",
    "        key=user_id,\n",
    "        feature_type=FLOAT,\n",
    "        transform=WindowAggTransformation(\n",
    "            agg_expr=\"cast_float(purchase_amount)\", agg_func=\"AVG\", window=\"90d\"\n",
    "        ),\n",
    "    )\n",
    "]\n",
    "\n",
    "user_agg_feature_anchor = FeatureAnchor(\n",
    "    name=\"aggregationFeatures\", source=purchase_history_data, features=agg_features\n",
    ")"
   ]
  },
  {
   "cell_type": "markdown",
   "metadata": {
    "application/vnd.databricks.v1+cell": {
     "inputWidgets": {},
     "nuid": "a04373b5-8ab9-4c36-892f-6aa8129df999",
     "showTitle": false,
     "title": ""
    }
   },
   "source": [
    "### Derived Features Section\n",
    "Derived features are the features that are computed from other features. They could be computed from anchored features or other derived features."
   ]
  },
  {
   "cell_type": "code",
   "execution_count": 22,
   "metadata": {
    "application/vnd.databricks.v1+cell": {
     "inputWidgets": {},
     "nuid": "688a4562-d8e9-468a-a900-77e750a3c903",
     "showTitle": false,
     "title": ""
    }
   },
   "outputs": [],
   "source": [
    "derived_features = [\n",
    "    DerivedFeature(\n",
    "        name=\"feature_user_purchasing_power\",\n",
    "        key=user_id,\n",
    "        feature_type=FLOAT,\n",
    "        input_features=[feature_user_gift_card_balance, feature_user_has_valid_credit_card],\n",
    "        transform=\"feature_user_gift_card_balance + if(boolean(feature_user_has_valid_credit_card), 100, 0)\",\n",
    "    )\n",
    "]"
   ]
  },
  {
   "cell_type": "markdown",
   "metadata": {
    "application/vnd.databricks.v1+cell": {
     "inputWidgets": {},
     "nuid": "f4d8f829-bfbc-4d6f-bc32-3a419a32e3d3",
     "showTitle": false,
     "title": ""
    }
   },
   "source": [
    "### Build features\n",
    "\n",
    "Lastly, we need to build those features so that it can be consumed later. Note that we have to build both the \"anchor\" and the \"derived\" features which is not anchored to a source."
   ]
  },
  {
   "cell_type": "code",
   "execution_count": 23,
   "metadata": {
    "application/vnd.databricks.v1+cell": {
     "inputWidgets": {},
     "nuid": "4c617bb8-2605-4d40-acc9-2156c86dfc56",
     "showTitle": false,
     "title": ""
    }
   },
   "outputs": [],
   "source": [
    "client.build_features(\n",
    "    anchor_list=[user_agg_feature_anchor, user_feature_anchor, product_feature_anchor],\n",
    "    derived_feature_list=derived_features,\n",
    ")"
   ]
  },
  {
   "cell_type": "markdown",
   "metadata": {},
   "source": [
    "## Feature Registration\n",
    "Lastly, we can also register the features and share them across teams:"
   ]
  },
  {
   "cell_type": "code",
   "execution_count": 24,
   "metadata": {},
   "outputs": [
    {
     "name": "stdout",
     "output_type": "stream",
     "text": [
      "[{'name': 'feature_user_age', 'id': '56d0a8e0-ee1e-4d4a-9dd4-7a86b759ddb7', 'qualifiedName': 'product_recommendation__anchored_features__feature_user_age'}, {'name': 'feature_product_quantity', 'id': '46783279-8804-4a49-aec1-144e2480682c', 'qualifiedName': 'product_recommendation__product_anchored_features__feature_product_quantity'}, {'name': 'feature_user_tax_rate', 'id': '9e285cd3-1349-4b32-925a-687193a6c383', 'qualifiedName': 'product_recommendation__anchored_features__feature_user_tax_rate'}, {'name': 'feature_product_price', 'id': '5208e000-14b5-44df-9552-4e6bcddc53c2', 'qualifiedName': 'product_recommendation__product_anchored_features__feature_product_price'}, {'name': 'feature_user_gift_card_balance', 'id': 'e802dce6-9bd0-494d-afd1-c3fb0673443b', 'qualifiedName': 'product_recommendation__anchored_features__feature_user_gift_card_balance'}, {'name': 'feature_user_purchasing_power', 'id': 'b729c70e-c594-4b56-a5b4-9ed9a56b1798', 'qualifiedName': 'product_recommendation__feature_user_purchasing_power'}, {'name': 'feature_user_avg_purchase_for_90days', 'id': 'aab9e9b0-c0db-4643-9986-d627ab75a3b2', 'qualifiedName': 'product_recommendation__aggregationFeatures__feature_user_avg_purchase_for_90days'}, {'name': 'feature_user_has_valid_credit_card', 'id': '606498ea-fa76-4277-a6ef-ee568822c02f', 'qualifiedName': 'product_recommendation__anchored_features__feature_user_has_valid_credit_card'}]\n"
     ]
    }
   ],
   "source": [
    "try:\n",
    "    client.register_features()\n",
    "except Exception as e:\n",
    "    print(e)\n",
    "print(client.list_registered_features(project_name=PROJECT_NAME))"
   ]
  },
  {
   "cell_type": "code",
   "execution_count": 25,
   "metadata": {},
   "outputs": [
    {
     "data": {
      "text/plain": [
       "[{'name': 'feature_user_age',\n",
       "  'id': '56d0a8e0-ee1e-4d4a-9dd4-7a86b759ddb7',\n",
       "  'qualifiedName': 'product_recommendation__anchored_features__feature_user_age'},\n",
       " {'name': 'feature_product_quantity',\n",
       "  'id': '46783279-8804-4a49-aec1-144e2480682c',\n",
       "  'qualifiedName': 'product_recommendation__product_anchored_features__feature_product_quantity'},\n",
       " {'name': 'feature_user_tax_rate',\n",
       "  'id': '9e285cd3-1349-4b32-925a-687193a6c383',\n",
       "  'qualifiedName': 'product_recommendation__anchored_features__feature_user_tax_rate'},\n",
       " {'name': 'feature_product_price',\n",
       "  'id': '5208e000-14b5-44df-9552-4e6bcddc53c2',\n",
       "  'qualifiedName': 'product_recommendation__product_anchored_features__feature_product_price'},\n",
       " {'name': 'feature_user_gift_card_balance',\n",
       "  'id': 'e802dce6-9bd0-494d-afd1-c3fb0673443b',\n",
       "  'qualifiedName': 'product_recommendation__anchored_features__feature_user_gift_card_balance'},\n",
       " {'name': 'feature_user_purchasing_power',\n",
       "  'id': 'b729c70e-c594-4b56-a5b4-9ed9a56b1798',\n",
       "  'qualifiedName': 'product_recommendation__feature_user_purchasing_power'},\n",
       " {'name': 'feature_user_avg_purchase_for_90days',\n",
       "  'id': 'aab9e9b0-c0db-4643-9986-d627ab75a3b2',\n",
       "  'qualifiedName': 'product_recommendation__aggregationFeatures__feature_user_avg_purchase_for_90days'},\n",
       " {'name': 'feature_user_has_valid_credit_card',\n",
       "  'id': '606498ea-fa76-4277-a6ef-ee568822c02f',\n",
       "  'qualifiedName': 'product_recommendation__anchored_features__feature_user_has_valid_credit_card'}]"
      ]
     },
     "execution_count": 25,
     "metadata": {},
     "output_type": "execute_result"
    }
   ],
   "source": [
    "client.list_registered_features(project_name=PROJECT_NAME)"
   ]
  },
  {
   "cell_type": "code",
   "execution_count": 26,
   "metadata": {},
   "outputs": [
    {
     "name": "stderr",
     "output_type": "stream",
     "text": [
      "2024-11-11 17:30:14.293 | INFO     | feathr.client:get_features_from_registry:1282 - Get anchor features from registry: \n",
      "2024-11-11 17:30:14.294 | INFO     | feathr.client:get_features_from_registry:1288 - {\n",
      "  \"name\": \"feature_user_avg_purchase_for_90days\",\n",
      "  \"featureType\": {\n",
      "    \"type\": \"TENSOR\",\n",
      "    \"tensorCategory\": \"DENSE\",\n",
      "    \"dimensionType\": [],\n",
      "    \"valType\": \"FLOAT\"\n",
      "  },\n",
      "  \"key\": [\n",
      "    {\n",
      "      \"keyColumn\": \"user_id\",\n",
      "      \"keyColumnType\": \"INT\",\n",
      "      \"fullName\": \"product_recommendation.user_id\",\n",
      "      \"description\": \"product_recommendation.user_id\",\n",
      "      \"keyColumnAlias\": \"user_id\"\n",
      "    }\n",
      "  ],\n",
      "  \"transformation\": {\n",
      "    \"defExpr\": \"cast_float(purchase_amount)\",\n",
      "    \"aggFunc\": \"AVG\",\n",
      "    \"window\": \"90d\"\n",
      "  }\n",
      "}\n",
      "2024-11-11 17:30:14.295 | INFO     | feathr.client:get_features_from_registry:1288 - {\n",
      "  \"name\": \"feature_user_tax_rate\",\n",
      "  \"featureType\": {\n",
      "    \"type\": \"TENSOR\",\n",
      "    \"tensorCategory\": \"DENSE\",\n",
      "    \"dimensionType\": [],\n",
      "    \"valType\": \"FLOAT\"\n",
      "  },\n",
      "  \"key\": [\n",
      "    {\n",
      "      \"keyColumn\": \"user_id\",\n",
      "      \"keyColumnType\": \"INT\",\n",
      "      \"fullName\": \"product_recommendation.user_id\",\n",
      "      \"description\": \"product_recommendation.user_id\",\n",
      "      \"keyColumnAlias\": \"user_id\"\n",
      "    }\n",
      "  ],\n",
      "  \"transformation\": {\n",
      "    \"transformExpr\": \"tax_rate_decimal\"\n",
      "  }\n",
      "}\n",
      "2024-11-11 17:30:14.295 | INFO     | feathr.client:get_features_from_registry:1288 - {\n",
      "  \"name\": \"feature_user_age\",\n",
      "  \"featureType\": {\n",
      "    \"type\": \"TENSOR\",\n",
      "    \"tensorCategory\": \"DENSE\",\n",
      "    \"dimensionType\": [],\n",
      "    \"valType\": \"INT\"\n",
      "  },\n",
      "  \"key\": [\n",
      "    {\n",
      "      \"keyColumn\": \"user_id\",\n",
      "      \"keyColumnType\": \"INT\",\n",
      "      \"fullName\": \"product_recommendation.user_id\",\n",
      "      \"description\": \"product_recommendation.user_id\",\n",
      "      \"keyColumnAlias\": \"user_id\"\n",
      "    }\n",
      "  ],\n",
      "  \"transformation\": {\n",
      "    \"transformExpr\": \"age\"\n",
      "  }\n",
      "}\n",
      "2024-11-11 17:30:14.296 | INFO     | feathr.client:get_features_from_registry:1288 - {\n",
      "  \"name\": \"feature_user_gift_card_balance\",\n",
      "  \"featureType\": {\n",
      "    \"type\": \"TENSOR\",\n",
      "    \"tensorCategory\": \"DENSE\",\n",
      "    \"dimensionType\": [],\n",
      "    \"valType\": \"FLOAT\"\n",
      "  },\n",
      "  \"key\": [\n",
      "    {\n",
      "      \"keyColumn\": \"user_id\",\n",
      "      \"keyColumnType\": \"INT\",\n",
      "      \"fullName\": \"product_recommendation.user_id\",\n",
      "      \"description\": \"product_recommendation.user_id\",\n",
      "      \"keyColumnAlias\": \"user_id\"\n",
      "    }\n",
      "  ],\n",
      "  \"transformation\": {\n",
      "    \"transformExpr\": \"gift_card_balance\"\n",
      "  }\n",
      "}\n",
      "2024-11-11 17:30:14.297 | INFO     | feathr.client:get_features_from_registry:1288 - {\n",
      "  \"name\": \"feature_user_has_valid_credit_card\",\n",
      "  \"featureType\": {\n",
      "    \"type\": \"TENSOR\",\n",
      "    \"tensorCategory\": \"DENSE\",\n",
      "    \"dimensionType\": [],\n",
      "    \"valType\": \"BOOLEAN\"\n",
      "  },\n",
      "  \"key\": [\n",
      "    {\n",
      "      \"keyColumn\": \"user_id\",\n",
      "      \"keyColumnType\": \"INT\",\n",
      "      \"fullName\": \"product_recommendation.user_id\",\n",
      "      \"description\": \"product_recommendation.user_id\",\n",
      "      \"keyColumnAlias\": \"user_id\"\n",
      "    }\n",
      "  ],\n",
      "  \"transformation\": {\n",
      "    \"transformExpr\": \"number_of_credit_cards > 0\"\n",
      "  }\n",
      "}\n",
      "2024-11-11 17:30:14.298 | INFO     | feathr.client:get_features_from_registry:1288 - {\n",
      "  \"name\": \"feature_product_price\",\n",
      "  \"featureType\": {\n",
      "    \"type\": \"TENSOR\",\n",
      "    \"tensorCategory\": \"DENSE\",\n",
      "    \"dimensionType\": [],\n",
      "    \"valType\": \"FLOAT\"\n",
      "  },\n",
      "  \"key\": [\n",
      "    {\n",
      "      \"keyColumn\": \"product_id\",\n",
      "      \"keyColumnType\": \"INT\",\n",
      "      \"fullName\": \"product_recommendation.product_id\",\n",
      "      \"description\": \"product_recommendation.product_id\",\n",
      "      \"keyColumnAlias\": \"product_id\"\n",
      "    }\n",
      "  ],\n",
      "  \"transformation\": {\n",
      "    \"transformExpr\": \"price\"\n",
      "  }\n",
      "}\n",
      "2024-11-11 17:30:14.298 | INFO     | feathr.client:get_features_from_registry:1288 - {\n",
      "  \"name\": \"feature_product_quantity\",\n",
      "  \"featureType\": {\n",
      "    \"type\": \"TENSOR\",\n",
      "    \"tensorCategory\": \"DENSE\",\n",
      "    \"dimensionType\": [],\n",
      "    \"valType\": \"FLOAT\"\n",
      "  },\n",
      "  \"key\": [\n",
      "    {\n",
      "      \"keyColumn\": \"product_id\",\n",
      "      \"keyColumnType\": \"INT\",\n",
      "      \"fullName\": \"product_recommendation.product_id\",\n",
      "      \"description\": \"product_recommendation.product_id\",\n",
      "      \"keyColumnAlias\": \"product_id\"\n",
      "    }\n",
      "  ],\n",
      "  \"transformation\": {\n",
      "    \"transformExpr\": \"quantity\"\n",
      "  }\n",
      "}\n",
      "2024-11-11 17:30:14.299 | INFO     | feathr.client:get_features_from_registry:1290 - Get derived features from registry: \n",
      "2024-11-11 17:30:14.299 | INFO     | feathr.client:get_features_from_registry:1295 - {\n",
      "  \"name\": \"feature_user_purchasing_power\",\n",
      "  \"featureType\": {\n",
      "    \"type\": \"TENSOR\",\n",
      "    \"tensorCategory\": \"DENSE\",\n",
      "    \"dimensionType\": [],\n",
      "    \"valType\": \"FLOAT\"\n",
      "  },\n",
      "  \"key\": [\n",
      "    {\n",
      "      \"keyColumn\": \"user_id\",\n",
      "      \"keyColumnType\": \"INT\",\n",
      "      \"fullName\": \"product_recommendation.user_id\",\n",
      "      \"description\": \"product_recommendation.user_id\",\n",
      "      \"keyColumnAlias\": \"user_id\"\n",
      "    }\n",
      "  ],\n",
      "  \"inputAnchorFeatures\": [\n",
      "    \"e802dce6-9bd0-494d-afd1-c3fb0673443b\",\n",
      "    \"606498ea-fa76-4277-a6ef-ee568822c02f\"\n",
      "  ],\n",
      "  \"inputDerivedFeatures\": [],\n",
      "  \"transformation\": {\n",
      "    \"transformExpr\": \"feature_user_gift_card_balance + if(boolean(feature_user_has_valid_credit_card), 100, 0)\"\n",
      "  }\n",
      "}\n"
     ]
    }
   ],
   "source": [
    "feature_dict = client.get_features_from_registry(project_name=PROJECT_NAME, return_keys=True, verbose=True)"
   ]
  },
  {
   "cell_type": "markdown",
   "metadata": {},
   "source": [
    "## we can list all features"
   ]
  },
  {
   "cell_type": "code",
   "execution_count": 27,
   "metadata": {},
   "outputs": [
    {
     "data": {
      "text/plain": [
       "['feature_user_avg_purchase_for_90days',\n",
       " 'feature_user_tax_rate',\n",
       " 'feature_user_age',\n",
       " 'feature_user_gift_card_balance',\n",
       " 'feature_user_has_valid_credit_card',\n",
       " 'feature_product_price',\n",
       " 'feature_product_quantity',\n",
       " 'feature_user_purchasing_power']"
      ]
     },
     "execution_count": 27,
     "metadata": {},
     "output_type": "execute_result"
    }
   ],
   "source": [
    "[feat.name for feat in list(feature_dict[0].values())]"
   ]
  },
  {
   "cell_type": "markdown",
   "metadata": {},
   "source": [
    "## we can list all type_key"
   ]
  },
  {
   "cell_type": "code",
   "execution_count": 28,
   "metadata": {},
   "outputs": [
    {
     "data": {
      "text/plain": [
       "['user_id',\n",
       " 'user_id',\n",
       " 'user_id',\n",
       " 'user_id',\n",
       " 'user_id',\n",
       " 'product_id',\n",
       " 'product_id',\n",
       " 'user_id']"
      ]
     },
     "execution_count": 28,
     "metadata": {},
     "output_type": "execute_result"
    }
   ],
   "source": [
    "[type_key.key_column for type_keys in list(feature_dict[1].values()) for type_key in type_keys]"
   ]
  },
  {
   "cell_type": "markdown",
   "metadata": {
    "application/vnd.databricks.v1+cell": {
     "inputWidgets": {},
     "nuid": "7fb61ed8-6db4-461c-bd86-a5ff268a7c3d",
     "showTitle": false,
     "title": ""
    }
   },
   "source": [
    "We can then get the features from the online store (Redis):"
   ]
  },
  {
   "cell_type": "markdown",
   "metadata": {},
   "source": [
    "You should be able to see the Feathr UI by visiting the website below:\n",
    "\n",
    "http://localhost:8081/"
   ]
  },
  {
   "cell_type": "code",
   "execution_count": 29,
   "metadata": {
    "tags": []
   },
   "outputs": [
    {
     "data": {
      "text/html": [
       "\n",
       "        <iframe\n",
       "            width=\"900\"\n",
       "            height=\"500\"\n",
       "            src=\"http://localhost:8081/projects\"\n",
       "            frameborder=\"0\"\n",
       "            allowfullscreen\n",
       "            \n",
       "        ></iframe>\n",
       "        "
      ],
      "text/plain": [
       "<IPython.lib.display.IFrame at 0x78bdb82ad130>"
      ]
     },
     "execution_count": 29,
     "metadata": {},
     "output_type": "execute_result"
    }
   ],
   "source": [
    "from IPython.display import IFrame\n",
    "IFrame(\"http://localhost:8081/projects\", 900,500)"
   ]
  },
  {
   "cell_type": "code",
   "execution_count": null,
   "metadata": {},
   "outputs": [],
   "source": []
  }
 ],
 "metadata": {
  "application/vnd.databricks.v1+notebook": {
   "dashboards": [],
   "language": "python",
   "notebookMetadata": {
    "pythonIndentUnit": 4
   },
   "notebookName": "product_recommendation_demo_advanced",
   "notebookOrigID": 411375353096492,
   "widgets": {}
  },
  "kernelspec": {
   "display_name": "Python (feathr39)",
   "language": "python",
   "name": "feathr39"
  },
  "language_info": {
   "codemirror_mode": {
    "name": "ipython",
    "version": 3
   },
   "file_extension": ".py",
   "mimetype": "text/x-python",
   "name": "python",
   "nbconvert_exporter": "python",
   "pygments_lexer": "ipython3",
   "version": "3.9.20"
  },
  "vscode": {
   "interpreter": {
    "hash": "197b83f153f250c1ab26c6f20b4199af9ff4d61ee3c56eceb059d2c848b8ae73"
   }
  }
 },
 "nbformat": 4,
 "nbformat_minor": 4
}
