{
 "cells": [
  {
   "cell_type": "markdown",
   "metadata": {
    "application/vnd.databricks.v1+cell": {
     "inputWidgets": {},
     "nuid": "384e5e16-7213-4186-9d04-09d03b155534",
     "showTitle": false,
     "title": ""
    }
   },
   "source": [
    "# Feathr Quick Start Notebook\n",
    "\n",
    "This notebook illustrates the use of Feathr Feature Store to create a model that predicts NYC Taxi fares. The dataset comes from [here](https://www1.nyc.gov/site/tlc/about/tlc-trip-record-data.page).\n",
    "\n",
    "The major problems Feathr solves are:\n",
    "\n",
    "1. Create, share and manage useful features from raw source data.\n",
    "2. Provide Point-in-time feature join to create training dataset to ensure no data leakage.\n",
    "3. Deploy the same feature data to online store to eliminate training and inference data skew."
   ]
  },
  {
   "cell_type": "markdown",
   "metadata": {},
   "source": [
    "## Prerequisite\n",
    "\n",
    "Feathr has native cloud integration. First step is to provision required cloud resources if you want to use Feathr.\n",
    "\n",
    "Follow the [Feathr ARM deployment guide](https://feathr-ai.github.io/feathr/how-to-guides/azure-deployment-arm.html) to run Feathr on Azure. This allows you to quickly get started with automated deployment using Azure Resource Manager template. For more details, please refer [README.md](https://github.com/feathr-ai/feathr#%EF%B8%8F-running-feathr-on-cloud-with-a-few-simple-steps).\n",
    "\n",
    "Additionally, to run this notebook, you'll need to install `feathr` pip package. For local spark, simply run `pip install feathr` on the machine that runs this notebook. To use Databricks or Azure Synapse Analytics, please see dependency management documents:\n",
    "- [Azure Databricks dependency management](https://learn.microsoft.com/en-us/azure/databricks/libraries/)\n",
    "- [Azure Synapse Analytics dependency management](https://learn.microsoft.com/en-us/azure/synapse-analytics/spark/apache-spark-azure-portal-add-libraries)"
   ]
  },
  {
   "cell_type": "markdown",
   "metadata": {},
   "source": [
    "## Notebook Steps\n",
    "\n",
    "This tutorial demonstrates the key capabilities of Feathr, including:\n",
    "\n",
    "1. Install Feathr and necessary dependencies\n",
    "2. Create shareable features with Feathr feature definition configs\n",
    "3. Create training data using point-in-time correct feature join\n",
    "4. Train a prediction model and evaluate the model and features\n",
    "5. Register the features to share across teams\n",
    "6. Materialize feature values for online scoring\n",
    "\n",
    "The overall data flow is as follows:\n",
    "\n",
    "<img src=\"https://raw.githubusercontent.com/feathr-ai/feathr/main/docs/images/feature_flow.png\" width=\"800\">"
   ]
  },
  {
   "cell_type": "markdown",
   "metadata": {},
   "source": [
    "## 1. Install Feathr and Necessary Dependancies\n",
    "\n",
    "Install feathr and necessary packages by running one of following commends if you haven't installed them already:"
   ]
  },
  {
   "cell_type": "code",
   "execution_count": 1,
   "metadata": {},
   "outputs": [],
   "source": [
    "# To install feathr from the latest codes in the repo:\n",
    "#%pip install \"git+https://github.com/feathr-ai/feathr.git#subdirectory=feathr_project&egg=feathr[notebook]\" \n",
    "\n",
    "# To install the latest release:\n",
    "#%pip install \"feathr[notebook]\""
   ]
  },
  {
   "cell_type": "code",
   "execution_count": 2,
   "metadata": {},
   "outputs": [],
   "source": [
    "%load_ext autoreload\n",
    "%autoreload 2"
   ]
  },
  {
   "cell_type": "code",
   "execution_count": 3,
   "metadata": {
    "application/vnd.databricks.v1+cell": {
     "inputWidgets": {},
     "nuid": "80223a02-631c-40c8-91b3-a037249ffff9",
     "showTitle": false,
     "title": ""
    }
   },
   "outputs": [
    {
     "name": "stdout",
     "output_type": "stream",
     "text": [
      "Feathr version: 1.0.0\n"
     ]
    }
   ],
   "source": [
    "from datetime import timedelta\n",
    "import os\n",
    "from pathlib import Path\n",
    "\n",
    "from pyspark.ml import Pipeline\n",
    "from pyspark.ml.evaluation import RegressionEvaluator\n",
    "from pyspark.ml.feature import VectorAssembler\n",
    "from pyspark.ml.regression import GBTRegressor\n",
    "from pyspark.sql import DataFrame, SparkSession\n",
    "import pyspark.sql.functions as F\n",
    "\n",
    "import feathr\n",
    "from feathr import (\n",
    "    FeathrClient,\n",
    "    # Feature data types\n",
    "    BOOLEAN, FLOAT, INT32, ValueType,\n",
    "    # Feature data sources\n",
    "    INPUT_CONTEXT, HdfsSource,\n",
    "    # Feature aggregations\n",
    "    TypedKey, WindowAggTransformation,\n",
    "    # Feature types and anchor\n",
    "    DerivedFeature, Feature, FeatureAnchor,\n",
    "    # Materialization\n",
    "    BackfillTime, MaterializationSettings, RedisSink,\n",
    "    # Offline feature computation\n",
    "    FeatureQuery, ObservationSettings,\n",
    ")\n",
    "from feathr.datasets import nyc_taxi\n",
    "from feathr.spark_provider.feathr_configurations import SparkExecutionConfiguration\n",
    "from feathr.utils.config import generate_config\n",
    "from feathr.utils.job_utils import get_result_df\n",
    "from feathr.utils.platform import is_databricks, is_jupyter\n",
    "\n",
    "print(f\"Feathr version: {feathr.__version__}\")"
   ]
  },
  {
   "cell_type": "markdown",
   "metadata": {},
   "source": [
    "## 2. Create Shareable Features with Feathr Feature Definition Configs\n",
    "\n",
    "First, we define all the necessary resource key values for authentication. These values are retrieved by using [Azure Key Vault](https://azure.microsoft.com/en-us/services/key-vault/) cloud key value store. For authentication, we use Azure CLI credential in this notebook, but you may add secrets' list and get permission for the necessary service principal instead of running `az login --use-device-code`.\n",
    "\n",
    "Please refer to [A note on using azure key vault to store credentials](https://github.com/feathr-ai/feathr/blob/41e7496b38c43af6d7f8f1de842f657b27840f6d/docs/how-to-guides/feathr-configuration-and-env.md#a-note-on-using-azure-key-vault-to-store-credentials) for more details."
   ]
  },
  {
   "cell_type": "code",
   "execution_count": 4,
   "metadata": {
    "tags": [
     "parameters"
    ]
   },
   "outputs": [],
   "source": [
    "RESOURCE_PREFIX = None  # TODO fill the value used to deploy the resources via ARM template\n",
    "PROJECT_NAME = \"nyc_taxi\"\n",
    "\n",
    "# Currently support: 'azure_synapse', 'databricks', and 'local' \n",
    "SPARK_CLUSTER = \"local\"\n",
    "\n",
    "# TODO fill values to use databricks cluster:\n",
    "DATABRICKS_CLUSTER_ID = None             # Set Databricks cluster id to use an existing cluster\n",
    "if is_databricks():\n",
    "    # If this notebook is running on Databricks, its context can be used to retrieve token and instance URL\n",
    "    ctx = dbutils.notebook.entry_point.getDbutils().notebook().getContext()\n",
    "    DATABRICKS_WORKSPACE_TOKEN_VALUE = ctx.apiToken().get()\n",
    "    SPARK_CONFIG__DATABRICKS__WORKSPACE_INSTANCE_URL = f\"https://{ctx.tags().get('browserHostName').get()}\"\n",
    "else:\n",
    "    DATABRICKS_WORKSPACE_TOKEN_VALUE = None                  # Set Databricks workspace token to use databricks\n",
    "    SPARK_CONFIG__DATABRICKS__WORKSPACE_INSTANCE_URL = None  # Set Databricks workspace url to use databricks\n",
    "\n",
    "# TODO fill values to use Azure Synapse cluster:\n",
    "AZURE_SYNAPSE_SPARK_POOL = None  # Set Azure Synapse Spark pool name\n",
    "AZURE_SYNAPSE_URL = None         # Set Azure Synapse workspace url to use Azure Synapse\n",
    "ADLS_KEY = None                  # Set Azure Data Lake Storage key to use Azure Synapse\n",
    "\n",
    "# An existing Feathr config file path. If None, we'll generate a new config based on the constants in this cell.\n",
    "FEATHR_CONFIG_PATH = None\n",
    "\n",
    "# If set True, use an interactive browser authentication to get the redis password.\n",
    "USE_CLI_AUTH = False\n",
    "\n",
    "# If set True, register the features to Feathr registry.\n",
    "REGISTER_FEATURES = False\n",
    "\n",
    "# (For the notebook test pipeline) If true, use ScrapBook package to collect the results.\n",
    "SCRAP_RESULTS = False"
   ]
  },
  {
   "cell_type": "markdown",
   "metadata": {},
   "source": [
    "To use Databricks as the feathr client's target platform, you may need to set a databricks token to an environment variable like:\n",
    "\n",
    "`export DATABRICKS_WORKSPACE_TOKEN_VALUE=your-token`\n",
    "\n",
    "or in the notebook cell,\n",
    "\n",
    "`os.environ[\"DATABRICKS_WORKSPACE_TOKEN_VALUE\"] = your-token`\n",
    "\n",
    "If you are running this notebook on Databricks, the token will be automatically retrieved by using the current Databricks notebook context.\n",
    "\n",
    "On the other hand, to use Azure Synapse cluster, you have to specify the synapse workspace storage key:\n",
    "\n",
    "`export ADLS_KEY=your-key`\n",
    "\n",
    "or in the notebook cell,\n",
    "\n",
    "`os.environ[\"ADLS_KEY\"] = your-key`"
   ]
  },
  {
   "cell_type": "code",
   "execution_count": 5,
   "metadata": {},
   "outputs": [],
   "source": [
    "if SPARK_CLUSTER == \"azure_synapse\" and not os.environ.get(\"ADLS_KEY\"):\n",
    "    os.environ[\"ADLS_KEY\"] = ADLS_KEY\n",
    "elif SPARK_CLUSTER == \"databricks\" and not os.environ.get(\"DATABRICKS_WORKSPACE_TOKEN_VALUE\"):\n",
    "    os.environ[\"DATABRICKS_WORKSPACE_TOKEN_VALUE\"] = DATABRICKS_WORKSPACE_TOKEN_VALUE"
   ]
  },
  {
   "cell_type": "code",
   "execution_count": 6,
   "metadata": {},
   "outputs": [],
   "source": [
    "# Get an authentication credential to access Azure resources and register features\n",
    "if USE_CLI_AUTH:\n",
    "    # Use AZ CLI interactive browser authentication\n",
    "    !az login --use-device-code\n",
    "    from azure.identity import AzureCliCredential\n",
    "    credential = AzureCliCredential(additionally_allowed_tenants=['*'],)\n",
    "elif \"AZURE_TENANT_ID\" in os.environ and \"AZURE_CLIENT_ID\" in os.environ and \"AZURE_CLIENT_SECRET\" in os.environ:\n",
    "    # Use Environment variable secret\n",
    "    from azure.identity import EnvironmentCredential\n",
    "    credential = EnvironmentCredential()\n",
    "else:\n",
    "    # Try to use the default credential\n",
    "    from azure.identity import DefaultAzureCredential\n",
    "    credential = DefaultAzureCredential(\n",
    "        exclude_interactive_browser_credential=False,\n",
    "        additionally_allowed_tenants=['*'],\n",
    "    )"
   ]
  },
  {
   "cell_type": "code",
   "execution_count": null,
   "metadata": {},
   "outputs": [],
   "source": []
  },
  {
   "cell_type": "markdown",
   "metadata": {
    "application/vnd.databricks.v1+cell": {
     "inputWidgets": {},
     "nuid": "41d3648a-9bc9-40dc-90da-bc82b21ef9b3",
     "showTitle": false,
     "title": ""
    }
   },
   "source": [
    "### Configurations\n",
    "\n",
    "Feathr uses a yaml file to define configurations. Please refer to [feathr_config.yaml]( https://github.com//feathr-ai/feathr/blob/main/feathr_project/feathrcli/data/feathr_user_workspace/feathr_config.yaml) for the meaning of each field.\n",
    "\n",
    "All the Feathr configurations can be set to the yaml file via keyword arguments of `generate_config` helper function. Each keyword argument should be the concatenation of different layers of the config name using `__` as a separator.\n",
    "For example, if you want to specify a different value for the feature registry api endpoint, you can pass `        feature_registry__api_endpoint=\"YOUR-API-ENDPOINT-URL\"`.\n",
    "\n",
    "Note, a default value for the api endpoint will be set based on `RESOURCE_PREFIX`."
   ]
  },
  {
   "cell_type": "code",
   "execution_count": 7,
   "metadata": {},
   "outputs": [],
   "source": [
    "os.environ['JDBC_USER'] = \"root\"\n",
    "os.environ['JDBC_PASSWORD'] = \"DsteamIC2024\"\n",
    "os.environ['SPARK_LOCAL_IP'] = \"127.0.0.1\"\n",
    "os.environ['REDIS_PASSWORD'] = \"foobared\"  # default password for Redis\n",
    "\n",
    "\n",
    "# Make sure we get the Feathr jar name, assuming we just have one jar file.\n",
    "PROJECT_NAME = \"nyc_taxi\""
   ]
  },
  {
   "cell_type": "code",
   "execution_count": 8,
   "metadata": {},
   "outputs": [
    {
     "name": "stdout",
     "output_type": "stream",
     "text": [
      "Found jar file at ./vnpt_feathr-0.0.1.jar\n",
      "\n",
      "api_version: 1\n",
      "project_config:\n",
      "  project_name: nyc_taxi\n",
      "  \n",
      "spark_config:\n",
      "  # choice for spark runtime. Currently support: azure_synapse, databricks, local\n",
      "  spark_cluster: 'local'\n",
      "  spark_result_output_parts: '1'\n",
      "  local:\n",
      "    master: 'local[*]'\n",
      "    spark.sql.shuffle.partitions: '10'\n",
      "    spark.driver.memory: \"10g\"\n",
      "    spark.executor.memory: \"10g\"\n",
      "    feathr_runtime_location: \"./vnpt_feathr-0.0.1.jar\"\n",
      "\n",
      "online_store:\n",
      "  redis:\n",
      "    # Redis configs to access Redis cluster\n",
      "    host: '127.0.0.1'\n",
      "    port: 6379\n",
      "    ssl_enabled: False\n",
      "\n",
      "feature_registry:\n",
      "  # The API endpoint of the registry service\n",
      "  api_endpoint: \"http://127.0.0.1:8081/api/v1\"\n",
      "\n"
     ]
    }
   ],
   "source": [
    "import glob\n",
    "jar_name = glob.glob(\"./*.jar\")[0]\n",
    "print(f\"Found jar file at {jar_name}\")\n",
    "\n",
    "\n",
    "yaml_config = f\"\"\"\n",
    "api_version: 1\n",
    "project_config:\n",
    "  project_name: {PROJECT_NAME}\n",
    "  \n",
    "spark_config:\n",
    "  # choice for spark runtime. Currently support: azure_synapse, databricks, local\n",
    "  spark_cluster: 'local'\n",
    "  spark_result_output_parts: '1'\n",
    "  local:\n",
    "    master: 'local[*]'\n",
    "    spark.sql.shuffle.partitions: '10'\n",
    "    spark.driver.memory: \"10g\"\n",
    "    spark.executor.memory: \"10g\"\n",
    "    feathr_runtime_location: \"{jar_name}\"\n",
    "\n",
    "online_store:\n",
    "  redis:\n",
    "    # Redis configs to access Redis cluster\n",
    "    host: '127.0.0.1'\n",
    "    port: 6379\n",
    "    ssl_enabled: False\n",
    "\n",
    "feature_registry:\n",
    "  # The API endpoint of the registry service\n",
    "  api_endpoint: \"http://127.0.0.1:8081/api/v1\"\n",
    "\"\"\"\n",
    "feathr_workspace_folder = Path(f\"./{PROJECT_NAME}_feathr_config.yaml\")\n",
    "feathr_workspace_folder.parent.mkdir(exist_ok=True, parents=True)\n",
    "feathr_workspace_folder.write_text(yaml_config)\n",
    "print(yaml_config)"
   ]
  },
  {
   "cell_type": "markdown",
   "metadata": {},
   "source": [
    "All the configurations can be overwritten by environment variables with concatenation of `__` for different layers of the config file, same as how you may pass the keyword arguments to `generate_config` utility function.\n",
    "\n",
    "For example, `feathr_runtime_location` for databricks config can be overwritten by setting `spark_config__databricks__feathr_runtime_location` environment variable."
   ]
  },
  {
   "cell_type": "markdown",
   "metadata": {
    "application/vnd.databricks.v1+cell": {
     "inputWidgets": {},
     "nuid": "3fef7f2f-df19-4f53-90a5-ff7999ed983d",
     "showTitle": false,
     "title": ""
    }
   },
   "source": [
    "### Initialize Feathr client"
   ]
  },
  {
   "cell_type": "code",
   "execution_count": 9,
   "metadata": {
    "application/vnd.databricks.v1+cell": {
     "inputWidgets": {},
     "nuid": "9713a2df-c7b2-4562-88b0-b7acce3cc43a",
     "showTitle": false,
     "title": ""
    }
   },
   "outputs": [
    {
     "name": "stderr",
     "output_type": "stream",
     "text": [
      "2024-09-06 16:11:49.274 | INFO     | feathr.utils._env_config_reader:get:62 - Config secrets__azure_key_vault__name is not found in the environment variable, configuration file, or the remote key value store. Returning the default value: None.\n",
      "2024-09-06 16:11:49.276 | INFO     | feathr.utils._env_config_reader:get:62 - Config offline_store__s3__s3_enabled is not found in the environment variable, configuration file, or the remote key value store. Returning the default value: None.\n",
      "2024-09-06 16:11:49.276 | INFO     | feathr.utils._env_config_reader:get:62 - Config offline_store__adls__adls_enabled is not found in the environment variable, configuration file, or the remote key value store. Returning the default value: None.\n",
      "2024-09-06 16:11:49.277 | INFO     | feathr.utils._env_config_reader:get:62 - Config offline_store__wasb__wasb_enabled is not found in the environment variable, configuration file, or the remote key value store. Returning the default value: None.\n",
      "2024-09-06 16:11:49.278 | INFO     | feathr.utils._env_config_reader:get:62 - Config offline_store__jdbc__jdbc_enabled is not found in the environment variable, configuration file, or the remote key value store. Returning the default value: None.\n",
      "2024-09-06 16:11:49.278 | INFO     | feathr.utils._env_config_reader:get:62 - Config offline_store__snowflake__snowflake_enabled is not found in the environment variable, configuration file, or the remote key value store. Returning the default value: None.\n",
      "No offline storage enabled.\n",
      "2024-09-06 16:11:49.279 | INFO     | feathr.utils._env_config_reader:get:62 - Config spark_config__local__workspace is not found in the environment variable, configuration file, or the remote key value store. Returning the default value: None.\n",
      "2024-09-06 16:11:49.279 | INFO     | feathr.utils._env_config_reader:get:62 - Config feature_registry__purview__purview_name is not found in the environment variable, configuration file, or the remote key value store. Returning the default value: None.\n",
      "2024-09-06 16:11:49.279 | INFO     | feathr.client:__init__:208 - Feathr client 1.0.0 initialized successfully.\n"
     ]
    }
   ],
   "source": [
    "from pathlib import Path\n",
    "feathr_workspace_folder = Path(f\"./{PROJECT_NAME}_feathr_config.yaml\")\n",
    "client = FeathrClient(str(feathr_workspace_folder))"
   ]
  },
  {
   "cell_type": "markdown",
   "metadata": {
    "application/vnd.databricks.v1+cell": {
     "inputWidgets": {},
     "nuid": "c3b64bda-d42c-4a64-b976-0fb604cf38c5",
     "showTitle": false,
     "title": ""
    }
   },
   "source": [
    "### Prepare the NYC taxi fare dataset"
   ]
  },
  {
   "cell_type": "code",
   "execution_count": 10,
   "metadata": {},
   "outputs": [
    {
     "name": "stderr",
     "output_type": "stream",
     "text": [
      "bash: /mnt/e/setup/miniconda3/lib/libtinfo.so.6: no version information available (required by bash)\n",
      "bash: /mnt/e/setup/miniconda3/lib/libtinfo.so.6: no version information available (required by bash)\n"
     ]
    },
    {
     "name": "stdout",
     "output_type": "stream",
     "text": [
      ":: loading settings :: url = jar:file:/mnt/e/setup/miniconda3/envs/feathr3.9/lib/python3.9/site-packages/pyspark/jars/ivy-2.5.1.jar!/org/apache/ivy/core/settings/ivysettings.xml\n"
     ]
    },
    {
     "name": "stderr",
     "output_type": "stream",
     "text": [
      "Ivy Default Cache set to: /home/cuong/.ivy2/cache\n",
      "The jars for the packages stored in: /home/cuong/.ivy2/jars\n",
      "org.apache.spark#spark-avro_2.12 added as a dependency\n",
      "io.delta#delta-core_2.12 added as a dependency\n",
      ":: resolving dependencies :: org.apache.spark#spark-submit-parent-3e0688af-41a7-4c21-944f-7ab85f81be61;1.0\n",
      "\tconfs: [default]\n",
      "\tfound org.apache.spark#spark-avro_2.12;3.3.0 in central\n",
      "\tfound org.tukaani#xz;1.8 in central\n",
      "\tfound org.spark-project.spark#unused;1.0.0 in central\n",
      "\tfound io.delta#delta-core_2.12;2.1.1 in central\n",
      "\tfound io.delta#delta-storage;2.1.1 in central\n",
      "\tfound org.antlr#antlr4-runtime;4.8 in central\n",
      "\tfound org.codehaus.jackson#jackson-core-asl;1.9.13 in central\n",
      ":: resolution report :: resolve 138ms :: artifacts dl 3ms\n",
      "\t:: modules in use:\n",
      "\tio.delta#delta-core_2.12;2.1.1 from central in [default]\n",
      "\tio.delta#delta-storage;2.1.1 from central in [default]\n",
      "\torg.antlr#antlr4-runtime;4.8 from central in [default]\n",
      "\torg.apache.spark#spark-avro_2.12;3.3.0 from central in [default]\n",
      "\torg.codehaus.jackson#jackson-core-asl;1.9.13 from central in [default]\n",
      "\torg.spark-project.spark#unused;1.0.0 from central in [default]\n",
      "\torg.tukaani#xz;1.8 from central in [default]\n",
      "\t---------------------------------------------------------------------\n",
      "\t|                  |            modules            ||   artifacts   |\n",
      "\t|       conf       | number| search|dwnlded|evicted|| number|dwnlded|\n",
      "\t---------------------------------------------------------------------\n",
      "\t|      default     |   7   |   0   |   0   |   0   ||   7   |   0   |\n",
      "\t---------------------------------------------------------------------\n",
      ":: retrieving :: org.apache.spark#spark-submit-parent-3e0688af-41a7-4c21-944f-7ab85f81be61\n",
      "\tconfs: [default]\n",
      "\t0 artifacts copied, 7 already retrieved (0kB/5ms)\n"
     ]
    },
    {
     "name": "stdout",
     "output_type": "stream",
     "text": [
      "24/09/06 16:11:50 WARN NativeCodeLoader: Unable to load native-hadoop library for your platform... using builtin-java classes where applicable\n"
     ]
    },
    {
     "name": "stderr",
     "output_type": "stream",
     "text": [
      "Setting default log level to \"WARN\".\n",
      "To adjust logging level use sc.setLogLevel(newLevel). For SparkR, use setLogLevel(newLevel).\n"
     ]
    },
    {
     "name": "stdout",
     "output_type": "stream",
     "text": [
      "24/09/06 16:11:51 WARN Utils: Service 'SparkUI' could not bind on port 8080. Attempting port 8081.\n",
      "24/09/06 16:11:51 WARN Utils: Service 'SparkUI' could not bind on port 8081. Attempting port 8082.\n"
     ]
    }
   ],
   "source": [
    "# If the notebook is runnong on Jupyter, start a spark session:\n",
    "if is_jupyter():\n",
    "    spark = (\n",
    "        SparkSession\n",
    "        .builder\n",
    "        .appName(\"feathr\")\n",
    "        .config(\"spark.jars.packages\", \"org.apache.spark:spark-avro_2.12:3.3.0,io.delta:delta-core_2.12:2.1.1\")\n",
    "        .config(\"spark.sql.extensions\", \"io.delta.sql.DeltaSparkSessionExtension\")\n",
    "        .config(\"spark.sql.catalog.spark_catalog\", \"org.apache.spark.sql.delta.catalog.DeltaCatalog\")\n",
    "        .config(\"spark.ui.port\", \"8080\")  # Set ui port other than the default one (4040) so that feathr spark job doesn't fail. \n",
    "        .getOrCreate()\n",
    "    )\n",
    "\n",
    "# Else, you must already have a spark session object available in databricks or synapse notebooks."
   ]
  },
  {
   "cell_type": "code",
   "execution_count": 11,
   "metadata": {},
   "outputs": [],
   "source": [
    "# Use dbfs if the notebook is running on Databricks\n",
    "if is_databricks():\n",
    "    WORKING_DIR = f\"/dbfs/{PROJECT_NAME}\"\n",
    "else:\n",
    "    WORKING_DIR = PROJECT_NAME"
   ]
  },
  {
   "cell_type": "code",
   "execution_count": 12,
   "metadata": {},
   "outputs": [],
   "source": [
    "# Download the data file\n",
    "data_file_path = \"../../feathr_project/test/test_user_workspace/green_tripdata_2020-04_with_index.csv\"\n"
   ]
  },
  {
   "cell_type": "markdown",
   "metadata": {
    "application/vnd.databricks.v1+cell": {
     "inputWidgets": {},
     "nuid": "7430c942-64e5-4b70-b823-16ce1d1b3cee",
     "showTitle": false,
     "title": ""
    }
   },
   "source": [
    "### Defining features with Feathr\n",
    "\n",
    "In Feathr, a feature is viewed as a function, mapping a key and timestamp to a feature value. For more details, please see [Feathr Feature Definition Guide](https://github.com/feathr-ai/feathr/blob/main/docs/concepts/feature-definition.md).\n",
    "\n",
    "* The feature key (a.k.a. entity id) identifies the subject of feature, e.g. a user_id or location_id.\n",
    "* The feature name is the aspect of the entity that the feature is indicating, e.g. the age of the user.\n",
    "* The feature value is the actual value of that aspect at a particular time, e.g. the value is 30 at year 2022.\n",
    "\n",
    "Note that, in some cases, a feature could be just a transformation function that has no entity key or timestamp involved, e.g. *the day of week of the request timestamp*.\n",
    "\n",
    "There are two types of features -- anchored features and derivated features:\n",
    "\n",
    "* **Anchored features**: Features that are directly extracted from sources. Could be with or without aggregation. \n",
    "* **Derived features**: Features that are computed on top of other features.\n",
    "\n",
    "#### Define anchored features\n",
    "\n",
    "A feature source is needed for anchored features that describes the raw data in which the feature values are computed from. A source value should be either `INPUT_CONTEXT` (the features that will be extracted from the observation data directly) or `feathr.source.Source` object."
   ]
  },
  {
   "cell_type": "code",
   "execution_count": 13,
   "metadata": {},
   "outputs": [],
   "source": [
    "TIMESTAMP_COL = \"lpep_dropoff_datetime\"\n",
    "TIMESTAMP_FORMAT = \"yyyy-MM-dd HH:mm:ss\""
   ]
  },
  {
   "cell_type": "code",
   "execution_count": 14,
   "metadata": {
    "application/vnd.databricks.v1+cell": {
     "inputWidgets": {},
     "nuid": "a373ecbe-a040-4cd3-9d87-0d5f4c5ba553",
     "showTitle": false,
     "title": ""
    }
   },
   "outputs": [],
   "source": [
    "# We define f_trip_distance and f_trip_time_duration features separately\n",
    "# so that we can reuse them later for the derived features.\n",
    "f_trip_distance = Feature(\n",
    "    name=\"f_trip_distance\",\n",
    "    feature_type=FLOAT,\n",
    "    transform=\"trip_distance\",\n",
    ")\n",
    "f_trip_time_duration = Feature(\n",
    "    name=\"f_trip_time_duration\",\n",
    "    feature_type=FLOAT,\n",
    "    transform=\"cast_float((to_unix_timestamp(lpep_dropoff_datetime) - to_unix_timestamp(lpep_pickup_datetime)) / 60)\",\n",
    ")\n",
    "\n",
    "features = [\n",
    "    f_trip_distance,\n",
    "    f_trip_time_duration,\n",
    "    Feature(\n",
    "        name=\"f_is_long_trip_distance\",\n",
    "        feature_type=BOOLEAN,\n",
    "        transform=\"trip_distance > 30.0\",\n",
    "    ),\n",
    "    Feature(\n",
    "        name=\"f_day_of_week\",\n",
    "        feature_type=INT32,\n",
    "        transform=\"dayofweek(lpep_dropoff_datetime)\",\n",
    "    ),\n",
    "    Feature(\n",
    "        name=\"f_day_of_month\",\n",
    "        feature_type=INT32,\n",
    "        transform=\"dayofmonth(lpep_dropoff_datetime)\",\n",
    "    ),\n",
    "    Feature(\n",
    "        name=\"f_hour_of_day\",\n",
    "        feature_type=INT32,\n",
    "        transform=\"hour(lpep_dropoff_datetime)\",\n",
    "    ),\n",
    "]\n",
    "\n",
    "# After you have defined features, bring them together to build the anchor to the source.\n",
    "feature_anchor = FeatureAnchor(\n",
    "    name=\"feature_anchor\",\n",
    "    source=INPUT_CONTEXT,  # Pass through source, i.e. observation data.\n",
    "    features=features,\n",
    ")"
   ]
  },
  {
   "cell_type": "markdown",
   "metadata": {},
   "source": [
    "We can define the source with a preprocessing python function. In order to make the source data accessible from the target spark cluster, we upload the data file into either DBFS or Azure Blob Storage if needed."
   ]
  },
  {
   "cell_type": "code",
   "execution_count": 15,
   "metadata": {},
   "outputs": [],
   "source": [
    "# Upload files to cloud if needed\n",
    "if client.spark_runtime == \"local\":\n",
    "    # In local mode, we can use the same data path as the source.\n",
    "    data_source_path = data_file_path\n",
    "elif client.spark_runtime == \"databricks\" and is_databricks():\n",
    "    # If the notebook is running on databricks, we can use the same data path as the source.\n",
    "    data_source_path = data_file_path.replace(\"/dbfs\", \"dbfs:\", 1)\n",
    "else:\n",
    "    # Otherwise, upload the local file to the cloud storage (either dbfs or adls).\n",
    "    data_source_path = client.feathr_spark_launcher.upload_or_get_cloud_path(data_file_path)    "
   ]
  },
  {
   "cell_type": "code",
   "execution_count": 16,
   "metadata": {},
   "outputs": [],
   "source": [
    "def preprocessing(df: DataFrame) -> DataFrame:\n",
    "    import pyspark.sql.functions as F\n",
    "    df = df.withColumn(\"fare_amount_cents\", (F.col(\"fare_amount\") * 100.0).cast(\"float\"))\n",
    "    return df\n",
    "\n",
    "batch_source = HdfsSource(\n",
    "    name=\"nycTaxiBatchSource\",\n",
    "    path=data_source_path,\n",
    "    event_timestamp_column=TIMESTAMP_COL,\n",
    "    timestamp_format=TIMESTAMP_FORMAT,\n",
    "    preprocessing=preprocessing,\n",
    ")"
   ]
  },
  {
   "cell_type": "markdown",
   "metadata": {},
   "source": [
    "For the features with aggregation, the supported functions are as follows:\n",
    "\n",
    "| Aggregation Function | Input Type | Description |\n",
    "| --- | --- | --- |\n",
    "|SUM, COUNT, MAX, MIN, AVG\t|Numeric|Applies the the numerical operation on the numeric inputs. |\n",
    "|MAX_POOLING, MIN_POOLING, AVG_POOLING\t| Numeric Vector | Applies the max/min/avg operation on a per entry bassis for a given a collection of numbers.|\n",
    "|LATEST| Any |Returns the latest not-null values from within the defined time window |"
   ]
  },
  {
   "cell_type": "code",
   "execution_count": 17,
   "metadata": {},
   "outputs": [],
   "source": [
    "agg_key = TypedKey(\n",
    "    key_column=\"DOLocationID\",\n",
    "    key_column_type=ValueType.INT32,\n",
    "    description=\"location id in NYC\",\n",
    "    full_name=\"nyc_taxi.location_id\",\n",
    ")\n",
    "\n",
    "agg_window = \"90d\"\n",
    "\n",
    "# Anchored features with aggregations\n",
    "agg_features = [\n",
    "    Feature(\n",
    "        name=\"f_location_avg_fare\",\n",
    "        key=agg_key,\n",
    "        feature_type=FLOAT,\n",
    "        transform=WindowAggTransformation(\n",
    "            agg_expr=\"fare_amount_cents\",\n",
    "            agg_func=\"AVG\",\n",
    "            window=agg_window,\n",
    "        ),\n",
    "    ),\n",
    "    Feature(\n",
    "        name=\"f_location_max_fare\",\n",
    "        key=agg_key,\n",
    "        feature_type=FLOAT,\n",
    "        transform=WindowAggTransformation(\n",
    "            agg_expr=\"fare_amount_cents\",\n",
    "            agg_func=\"MAX\",\n",
    "            window=agg_window,\n",
    "        ),\n",
    "    ),\n",
    "]\n",
    "\n",
    "agg_feature_anchor = FeatureAnchor(\n",
    "    name=\"agg_feature_anchor\",\n",
    "    source=batch_source,  # External data source for feature. Typically a data table.\n",
    "    features=agg_features,\n",
    ")"
   ]
  },
  {
   "cell_type": "markdown",
   "metadata": {
    "application/vnd.databricks.v1+cell": {
     "inputWidgets": {},
     "nuid": "d2ecaca9-057e-4b36-811f-320f66f753ed",
     "showTitle": false,
     "title": ""
    }
   },
   "source": [
    "#### Define derived features\n",
    "\n",
    "We also define a derived feature, `f_trip_speed`, from the anchored features `f_trip_distance` and `f_trip_time_duration` as follows:"
   ]
  },
  {
   "cell_type": "code",
   "execution_count": 18,
   "metadata": {
    "application/vnd.databricks.v1+cell": {
     "inputWidgets": {},
     "nuid": "270fb11e-8a71-404f-9639-ad29d8e6a2c1",
     "showTitle": false,
     "title": ""
    }
   },
   "outputs": [],
   "source": [
    "derived_features = [\n",
    "    DerivedFeature(\n",
    "        name=\"f_trip_speed\",\n",
    "        feature_type=FLOAT,\n",
    "        input_features=[\n",
    "            f_trip_distance,\n",
    "            f_trip_time_duration,\n",
    "        ],\n",
    "        transform=\"f_trip_distance / f_trip_time_duration\",\n",
    "    )\n",
    "]"
   ]
  },
  {
   "cell_type": "markdown",
   "metadata": {
    "application/vnd.databricks.v1+cell": {
     "inputWidgets": {},
     "nuid": "ad102c45-586d-468c-85f0-9454401ef10b",
     "showTitle": false,
     "title": ""
    }
   },
   "source": [
    "### Build features\n",
    "\n",
    "Finally, we build the features."
   ]
  },
  {
   "cell_type": "code",
   "execution_count": 19,
   "metadata": {
    "application/vnd.databricks.v1+cell": {
     "inputWidgets": {},
     "nuid": "91bb5ebb-87e4-470b-b8eb-1c89b351740e",
     "showTitle": false,
     "title": ""
    }
   },
   "outputs": [],
   "source": [
    "client.build_features(\n",
    "    anchor_list=[feature_anchor, agg_feature_anchor],\n",
    "    derived_feature_list=derived_features,\n",
    ")"
   ]
  },
  {
   "cell_type": "markdown",
   "metadata": {},
   "source": [
    "# Register the Features to Share Across Teams\n",
    "\n",
    "You can register your features in the centralized registry and share the corresponding project with other team members who want to consume those features and for further use."
   ]
  },
  {
   "cell_type": "code",
   "execution_count": 20,
   "metadata": {},
   "outputs": [
    {
     "name": "stdout",
     "output_type": "stream",
     "text": [
      "[{'name': 'f_day_of_week', 'id': 'fd9c9f60-05ec-41b7-a0b8-c25fccd90b64', 'qualifiedName': 'nyc_taxi__feature_anchor__f_day_of_week'}, {'name': 'f_is_long_trip_distance', 'id': '420cec54-6906-49c2-b31f-b183fcc06295', 'qualifiedName': 'nyc_taxi__feature_anchor__f_is_long_trip_distance'}, {'name': 'f_trip_speed', 'id': '4f1c3162-dee8-42b2-8cdd-18d9e0fef25b', 'qualifiedName': 'nyc_taxi__f_trip_speed'}, {'name': 'f_trip_distance', 'id': '67a74383-ab2d-4621-894e-51a4c4f79770', 'qualifiedName': 'nyc_taxi__feature_anchor__f_trip_distance'}, {'name': 'f_trip_time_duration', 'id': 'bda71a00-67b9-49f2-8e35-51efc3f484e1', 'qualifiedName': 'nyc_taxi__feature_anchor__f_trip_time_duration'}, {'name': 'f_day_of_month', 'id': 'c9165e5d-3cd1-4bea-8e3d-a4d44b31a7ab', 'qualifiedName': 'nyc_taxi__feature_anchor__f_day_of_month'}, {'name': 'f_hour_of_day', 'id': '6530f88d-16b5-4cd6-972d-b3b64f0ba19d', 'qualifiedName': 'nyc_taxi__feature_anchor__f_hour_of_day'}, {'name': 'f_location_avg_fare', 'id': '3882ab89-ec95-493f-9838-12899f8cef18', 'qualifiedName': 'nyc_taxi__agg_feature_anchor__f_location_avg_fare'}, {'name': 'f_location_max_fare', 'id': 'f18ea3df-bab0-4e0d-80ce-67d4aef2cbd8', 'qualifiedName': 'nyc_taxi__agg_feature_anchor__f_location_max_fare'}]\n"
     ]
    }
   ],
   "source": [
    "try:\n",
    "    client.register_features()\n",
    "except Exception as e:\n",
    "    print(e)\n",
    "print(client.list_registered_features(project_name=PROJECT_NAME))"
   ]
  },
  {
   "cell_type": "code",
   "execution_count": 21,
   "metadata": {},
   "outputs": [
    {
     "data": {
      "text/plain": [
       "[{'name': 'f_day_of_week',\n",
       "  'id': 'fd9c9f60-05ec-41b7-a0b8-c25fccd90b64',\n",
       "  'qualifiedName': 'nyc_taxi__feature_anchor__f_day_of_week'},\n",
       " {'name': 'f_is_long_trip_distance',\n",
       "  'id': '420cec54-6906-49c2-b31f-b183fcc06295',\n",
       "  'qualifiedName': 'nyc_taxi__feature_anchor__f_is_long_trip_distance'},\n",
       " {'name': 'f_trip_speed',\n",
       "  'id': '4f1c3162-dee8-42b2-8cdd-18d9e0fef25b',\n",
       "  'qualifiedName': 'nyc_taxi__f_trip_speed'},\n",
       " {'name': 'f_trip_distance',\n",
       "  'id': '67a74383-ab2d-4621-894e-51a4c4f79770',\n",
       "  'qualifiedName': 'nyc_taxi__feature_anchor__f_trip_distance'},\n",
       " {'name': 'f_trip_time_duration',\n",
       "  'id': 'bda71a00-67b9-49f2-8e35-51efc3f484e1',\n",
       "  'qualifiedName': 'nyc_taxi__feature_anchor__f_trip_time_duration'},\n",
       " {'name': 'f_day_of_month',\n",
       "  'id': 'c9165e5d-3cd1-4bea-8e3d-a4d44b31a7ab',\n",
       "  'qualifiedName': 'nyc_taxi__feature_anchor__f_day_of_month'},\n",
       " {'name': 'f_hour_of_day',\n",
       "  'id': '6530f88d-16b5-4cd6-972d-b3b64f0ba19d',\n",
       "  'qualifiedName': 'nyc_taxi__feature_anchor__f_hour_of_day'},\n",
       " {'name': 'f_location_avg_fare',\n",
       "  'id': '3882ab89-ec95-493f-9838-12899f8cef18',\n",
       "  'qualifiedName': 'nyc_taxi__agg_feature_anchor__f_location_avg_fare'},\n",
       " {'name': 'f_location_max_fare',\n",
       "  'id': 'f18ea3df-bab0-4e0d-80ce-67d4aef2cbd8',\n",
       "  'qualifiedName': 'nyc_taxi__agg_feature_anchor__f_location_max_fare'}]"
      ]
     },
     "execution_count": 21,
     "metadata": {},
     "output_type": "execute_result"
    }
   ],
   "source": [
    "client.list_registered_features(project_name=PROJECT_NAME)"
   ]
  },
  {
   "cell_type": "code",
   "execution_count": 22,
   "metadata": {},
   "outputs": [
    {
     "name": "stderr",
     "output_type": "stream",
     "text": [
      "2024-09-06 16:11:53.399 | INFO     | feathr.client:get_features_from_registry:1147 - Get anchor features from registry: \n",
      "2024-09-06 16:11:53.400 | INFO     | feathr.client:get_features_from_registry:1153 - {\n",
      "  \"name\": \"f_trip_distance\",\n",
      "  \"featureType\": {\n",
      "    \"type\": \"TENSOR\",\n",
      "    \"tensorCategory\": \"DENSE\",\n",
      "    \"dimensionType\": [],\n",
      "    \"valType\": \"FLOAT\"\n",
      "  },\n",
      "  \"key\": [\n",
      "    {\n",
      "      \"keyColumn\": \"NOT_NEEDED\",\n",
      "      \"keyColumnType\": \"UNSPECIFIED\",\n",
      "      \"fullName\": \"feathr.dummy_typedkey\",\n",
      "      \"description\": \"feathr.dummy_typedkey\",\n",
      "      \"keyColumnAlias\": \"NOT_NEEDED\"\n",
      "    }\n",
      "  ],\n",
      "  \"transformation\": {\n",
      "    \"transformExpr\": \"trip_distance\"\n",
      "  }\n",
      "}\n",
      "2024-09-06 16:11:53.400 | INFO     | feathr.client:get_features_from_registry:1153 - {\n",
      "  \"name\": \"f_trip_time_duration\",\n",
      "  \"featureType\": {\n",
      "    \"type\": \"TENSOR\",\n",
      "    \"tensorCategory\": \"DENSE\",\n",
      "    \"dimensionType\": [],\n",
      "    \"valType\": \"FLOAT\"\n",
      "  },\n",
      "  \"key\": [\n",
      "    {\n",
      "      \"keyColumn\": \"NOT_NEEDED\",\n",
      "      \"keyColumnType\": \"UNSPECIFIED\",\n",
      "      \"fullName\": \"feathr.dummy_typedkey\",\n",
      "      \"description\": \"feathr.dummy_typedkey\",\n",
      "      \"keyColumnAlias\": \"NOT_NEEDED\"\n",
      "    }\n",
      "  ],\n",
      "  \"transformation\": {\n",
      "    \"transformExpr\": \"cast_float((to_unix_timestamp(lpep_dropoff_datetime) - to_unix_timestamp(lpep_pickup_datetime)) / 60)\"\n",
      "  }\n",
      "}\n",
      "2024-09-06 16:11:53.401 | INFO     | feathr.client:get_features_from_registry:1153 - {\n",
      "  \"name\": \"f_is_long_trip_distance\",\n",
      "  \"featureType\": {\n",
      "    \"type\": \"TENSOR\",\n",
      "    \"tensorCategory\": \"DENSE\",\n",
      "    \"dimensionType\": [],\n",
      "    \"valType\": \"BOOLEAN\"\n",
      "  },\n",
      "  \"key\": [\n",
      "    {\n",
      "      \"keyColumn\": \"NOT_NEEDED\",\n",
      "      \"keyColumnType\": \"UNSPECIFIED\",\n",
      "      \"fullName\": \"feathr.dummy_typedkey\",\n",
      "      \"description\": \"feathr.dummy_typedkey\",\n",
      "      \"keyColumnAlias\": \"NOT_NEEDED\"\n",
      "    }\n",
      "  ],\n",
      "  \"transformation\": {\n",
      "    \"transformExpr\": \"trip_distance > 30.0\"\n",
      "  }\n",
      "}\n",
      "2024-09-06 16:11:53.401 | INFO     | feathr.client:get_features_from_registry:1153 - {\n",
      "  \"name\": \"f_day_of_week\",\n",
      "  \"featureType\": {\n",
      "    \"type\": \"TENSOR\",\n",
      "    \"tensorCategory\": \"DENSE\",\n",
      "    \"dimensionType\": [],\n",
      "    \"valType\": \"INT\"\n",
      "  },\n",
      "  \"key\": [\n",
      "    {\n",
      "      \"keyColumn\": \"NOT_NEEDED\",\n",
      "      \"keyColumnType\": \"UNSPECIFIED\",\n",
      "      \"fullName\": \"feathr.dummy_typedkey\",\n",
      "      \"description\": \"feathr.dummy_typedkey\",\n",
      "      \"keyColumnAlias\": \"NOT_NEEDED\"\n",
      "    }\n",
      "  ],\n",
      "  \"transformation\": {\n",
      "    \"transformExpr\": \"dayofweek(lpep_dropoff_datetime)\"\n",
      "  }\n",
      "}\n",
      "2024-09-06 16:11:53.402 | INFO     | feathr.client:get_features_from_registry:1153 - {\n",
      "  \"name\": \"f_day_of_month\",\n",
      "  \"featureType\": {\n",
      "    \"type\": \"TENSOR\",\n",
      "    \"tensorCategory\": \"DENSE\",\n",
      "    \"dimensionType\": [],\n",
      "    \"valType\": \"INT\"\n",
      "  },\n",
      "  \"key\": [\n",
      "    {\n",
      "      \"keyColumn\": \"NOT_NEEDED\",\n",
      "      \"keyColumnType\": \"UNSPECIFIED\",\n",
      "      \"fullName\": \"feathr.dummy_typedkey\",\n",
      "      \"description\": \"feathr.dummy_typedkey\",\n",
      "      \"keyColumnAlias\": \"NOT_NEEDED\"\n",
      "    }\n",
      "  ],\n",
      "  \"transformation\": {\n",
      "    \"transformExpr\": \"dayofmonth(lpep_dropoff_datetime)\"\n",
      "  }\n",
      "}\n",
      "2024-09-06 16:11:53.402 | INFO     | feathr.client:get_features_from_registry:1153 - {\n",
      "  \"name\": \"f_hour_of_day\",\n",
      "  \"featureType\": {\n",
      "    \"type\": \"TENSOR\",\n",
      "    \"tensorCategory\": \"DENSE\",\n",
      "    \"dimensionType\": [],\n",
      "    \"valType\": \"INT\"\n",
      "  },\n",
      "  \"key\": [\n",
      "    {\n",
      "      \"keyColumn\": \"NOT_NEEDED\",\n",
      "      \"keyColumnType\": \"UNSPECIFIED\",\n",
      "      \"fullName\": \"feathr.dummy_typedkey\",\n",
      "      \"description\": \"feathr.dummy_typedkey\",\n",
      "      \"keyColumnAlias\": \"NOT_NEEDED\"\n",
      "    }\n",
      "  ],\n",
      "  \"transformation\": {\n",
      "    \"transformExpr\": \"hour(lpep_dropoff_datetime)\"\n",
      "  }\n",
      "}\n",
      "2024-09-06 16:11:53.403 | INFO     | feathr.client:get_features_from_registry:1153 - {\n",
      "  \"name\": \"f_location_avg_fare\",\n",
      "  \"featureType\": {\n",
      "    \"type\": \"TENSOR\",\n",
      "    \"tensorCategory\": \"DENSE\",\n",
      "    \"dimensionType\": [],\n",
      "    \"valType\": \"FLOAT\"\n",
      "  },\n",
      "  \"key\": [\n",
      "    {\n",
      "      \"keyColumn\": \"DOLocationID\",\n",
      "      \"keyColumnType\": \"INT\",\n",
      "      \"fullName\": \"nyc_taxi.location_id\",\n",
      "      \"description\": \"nyc_taxi.location_id\",\n",
      "      \"keyColumnAlias\": \"DOLocationID\"\n",
      "    }\n",
      "  ],\n",
      "  \"transformation\": {\n",
      "    \"defExpr\": \"fare_amount_cents\",\n",
      "    \"aggFunc\": \"AVG\",\n",
      "    \"window\": \"90d\"\n",
      "  }\n",
      "}\n",
      "2024-09-06 16:11:53.404 | INFO     | feathr.client:get_features_from_registry:1153 - {\n",
      "  \"name\": \"f_location_max_fare\",\n",
      "  \"featureType\": {\n",
      "    \"type\": \"TENSOR\",\n",
      "    \"tensorCategory\": \"DENSE\",\n",
      "    \"dimensionType\": [],\n",
      "    \"valType\": \"FLOAT\"\n",
      "  },\n",
      "  \"key\": [\n",
      "    {\n",
      "      \"keyColumn\": \"DOLocationID\",\n",
      "      \"keyColumnType\": \"INT\",\n",
      "      \"fullName\": \"nyc_taxi.location_id\",\n",
      "      \"description\": \"nyc_taxi.location_id\",\n",
      "      \"keyColumnAlias\": \"DOLocationID\"\n",
      "    }\n",
      "  ],\n",
      "  \"transformation\": {\n",
      "    \"defExpr\": \"fare_amount_cents\",\n",
      "    \"aggFunc\": \"MAX\",\n",
      "    \"window\": \"90d\"\n",
      "  }\n",
      "}\n",
      "2024-09-06 16:11:53.404 | INFO     | feathr.client:get_features_from_registry:1155 - Get derived features from registry: \n",
      "2024-09-06 16:11:53.405 | INFO     | feathr.client:get_features_from_registry:1160 - {\n",
      "  \"name\": \"f_trip_speed\",\n",
      "  \"featureType\": {\n",
      "    \"type\": \"TENSOR\",\n",
      "    \"tensorCategory\": \"DENSE\",\n",
      "    \"dimensionType\": [],\n",
      "    \"valType\": \"FLOAT\"\n",
      "  },\n",
      "  \"key\": [\n",
      "    {\n",
      "      \"keyColumn\": \"NOT_NEEDED\",\n",
      "      \"keyColumnType\": \"UNSPECIFIED\",\n",
      "      \"fullName\": \"feathr.dummy_typedkey\",\n",
      "      \"description\": \"feathr.dummy_typedkey\",\n",
      "      \"keyColumnAlias\": \"NOT_NEEDED\"\n",
      "    }\n",
      "  ],\n",
      "  \"inputAnchorFeatures\": [\n",
      "    \"67a74383-ab2d-4621-894e-51a4c4f79770\",\n",
      "    \"bda71a00-67b9-49f2-8e35-51efc3f484e1\"\n",
      "  ],\n",
      "  \"inputDerivedFeatures\": [],\n",
      "  \"transformation\": {\n",
      "    \"transformExpr\": \"f_trip_distance / f_trip_time_duration\"\n",
      "  }\n",
      "}\n"
     ]
    }
   ],
   "source": [
    "feature_dict = client.get_features_from_registry(project_name=PROJECT_NAME, return_keys=True, verbose=True)"
   ]
  },
  {
   "cell_type": "markdown",
   "metadata": {},
   "source": [
    "## we can list all features"
   ]
  },
  {
   "cell_type": "code",
   "execution_count": 23,
   "metadata": {},
   "outputs": [
    {
     "data": {
      "text/plain": [
       "['f_trip_distance',\n",
       " 'f_trip_time_duration',\n",
       " 'f_is_long_trip_distance',\n",
       " 'f_day_of_week',\n",
       " 'f_day_of_month',\n",
       " 'f_hour_of_day',\n",
       " 'f_location_avg_fare',\n",
       " 'f_location_max_fare',\n",
       " 'f_trip_speed']"
      ]
     },
     "execution_count": 23,
     "metadata": {},
     "output_type": "execute_result"
    }
   ],
   "source": [
    "[feat.name for feat in list(feature_dict[0].values())]"
   ]
  },
  {
   "cell_type": "markdown",
   "metadata": {},
   "source": [
    "## we can list all type_key"
   ]
  },
  {
   "cell_type": "code",
   "execution_count": 24,
   "metadata": {},
   "outputs": [
    {
     "data": {
      "text/plain": [
       "['NOT_NEEDED',\n",
       " 'NOT_NEEDED',\n",
       " 'NOT_NEEDED',\n",
       " 'NOT_NEEDED',\n",
       " 'NOT_NEEDED',\n",
       " 'NOT_NEEDED',\n",
       " 'DOLocationID',\n",
       " 'DOLocationID',\n",
       " 'NOT_NEEDED']"
      ]
     },
     "execution_count": 24,
     "metadata": {},
     "output_type": "execute_result"
    }
   ],
   "source": [
    "[type_key.key_column for type_keys in list(feature_dict[1].values()) for type_key in type_keys]"
   ]
  },
  {
   "cell_type": "code",
   "execution_count": 25,
   "metadata": {},
   "outputs": [],
   "source": [
    "# Stop the spark session if it is a local session.\n",
    "if is_jupyter():\n",
    "    spark.stop()"
   ]
  }
 ],
 "metadata": {
  "application/vnd.databricks.v1+notebook": {
   "dashboards": [],
   "language": "python",
   "notebookMetadata": {
    "pythonIndentUnit": 4
   },
   "notebookName": "nyc_driver_demo",
   "notebookOrigID": 930353059183053,
   "widgets": {}
  },
  "celltoolbar": "Tags",
  "kernelspec": {
   "display_name": "Python 3 (ipykernel)",
   "language": "python",
   "name": "python3"
  },
  "language_info": {
   "codemirror_mode": {
    "name": "ipython",
    "version": 3
   },
   "file_extension": ".py",
   "mimetype": "text/x-python",
   "name": "python",
   "nbconvert_exporter": "python",
   "pygments_lexer": "ipython3",
   "version": "3.9.19"
  },
  "vscode": {
   "interpreter": {
    "hash": "ddb0e38f168d5afaa0b8ab4851ddd8c14364f1d087c15de6ff2ee5a559aec1f2"
   }
  }
 },
 "nbformat": 4,
 "nbformat_minor": 4
}
