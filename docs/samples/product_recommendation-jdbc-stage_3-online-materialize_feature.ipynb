{
 "cells": [
  {
   "cell_type": "markdown",
   "metadata": {
    "application/vnd.databricks.v1+cell": {
     "inputWidgets": {},
     "nuid": "e5545a38-44a7-4aca-be6d-a66c51c75ec8",
     "showTitle": false,
     "title": ""
    }
   },
   "source": [
    "# Product Recommendation with Feathr\n",
    "\n",
    "This notebook illustrates the use of Feathr Feature Store to create a model that predict users' rating for different products for a e-commerce website.\n",
    "\n",
    "### Model Problem Statement\n",
    "The e-commerce website has collected past user ratings for various products. The website also collected data about user and product, like user age, product category etc. Now we want to predict users' product rating for new product so that we can recommend the new product to users that give a high rating for those products.\n",
    "\n",
    "### Feature Creation Illustration\n",
    "In this example, our observation data has compound entity key where a record is uniquely identified by `user_id` and `product_id`. With that, we can think about three types of features:\n",
    "1. **User features** that are different for different users but are the same for different products. For example, user age is different for different users but it's product-agnostic.\n",
    "2. **Product features** that are different for different products but are the same for all the users.\n",
    "3. **User-to-product** features that are different for different users AND different products. For example, a feature to represent if the user has bought this product before or not.\n",
    "\n",
    "In this example, we will focus on the first two types of features. After we train a model based on those features, we predict the product ratings that users will give for the products.\n",
    "\n",
    "The feature creation flow is as below:\n",
    "![Feature Flow](https://github.com/feathr-ai/feathr/blob/main/docs/images/product_recommendation_advanced.jpg?raw=true)"
   ]
  },
  {
   "cell_type": "markdown",
   "metadata": {},
   "source": [
    "## 2. Config Feathr Client"
   ]
  },
  {
   "cell_type": "code",
   "execution_count": 1,
   "metadata": {
    "application/vnd.databricks.v1+cell": {
     "inputWidgets": {},
     "nuid": "0f3135eb-15c5-4f46-90ff-881a21cc59df",
     "showTitle": false,
     "title": ""
    }
   },
   "outputs": [
    {
     "name": "stdout",
     "output_type": "stream",
     "text": [
      "Feathr version: 1.0.0\n"
     ]
    }
   ],
   "source": [
    "import glob\n",
    "import os\n",
    "import tempfile\n",
    "from datetime import datetime, timedelta\n",
    "from math import sqrt\n",
    "\n",
    "import pandas as pd\n",
    "from pyspark.sql import DataFrame\n",
    "# from interpret.provider import InlineProvider\n",
    "# from interpret import set_visualize_provider\n",
    "\n",
    "# set_visualize_provider(InlineProvider())\n",
    "\n",
    "import feathr\n",
    "from feathr import (\n",
    "    FeathrClient,\n",
    "    BOOLEAN, FLOAT, INT32, ValueType,\n",
    "    Feature, DerivedFeature, FeatureAnchor,\n",
    "    BackfillTime, MaterializationSettings,\n",
    "    FeatureQuery, ObservationSettings,\n",
    "    RedisSink,\n",
    "    INPUT_CONTEXT, HdfsSource,\n",
    "    WindowAggTransformation,\n",
    "    TypedKey,\n",
    ")\n",
    "from feathr.datasets.constants import (\n",
    "    PRODUCT_RECOMMENDATION_USER_OBSERVATION_URL,\n",
    "    PRODUCT_RECOMMENDATION_USER_PROFILE_URL,\n",
    "    PRODUCT_RECOMMENDATION_USER_PURCHASE_HISTORY_URL,\n",
    "    PRODUCT_RECOMMENDATION_PRODUCT_DETAIL_URL,\n",
    ")\n",
    "from feathr.datasets.utils import maybe_download\n",
    "from feathr.utils.config import generate_config\n",
    "from feathr.utils.job_utils import get_result_df\n",
    "\n",
    "print(f\"Feathr version: {feathr.__version__}\")"
   ]
  },
  {
   "cell_type": "code",
   "execution_count": 2,
   "metadata": {},
   "outputs": [],
   "source": [
    "os.environ['SPARK_LOCAL_IP'] = \"127.0.0.1\"\n",
    "os.environ['REDIS_PASSWORD'] = \"foobared\"\n",
    "PROJECT_NAME = \"product_recommendation_from_jdbc\""
   ]
  },
  {
   "cell_type": "markdown",
   "metadata": {
    "application/vnd.databricks.v1+cell": {
     "inputWidgets": {},
     "nuid": "794492ed-66b0-4787-adc6-3f234c4739a9",
     "showTitle": false,
     "title": ""
    }
   },
   "source": [
    "### Initialize Feathr Client"
   ]
  },
  {
   "cell_type": "code",
   "execution_count": 3,
   "metadata": {
    "application/vnd.databricks.v1+cell": {
     "inputWidgets": {},
     "nuid": "0c748f9d-210b-4c1d-a414-b30328d5e219",
     "showTitle": false,
     "title": ""
    }
   },
   "outputs": [
    {
     "name": "stderr",
     "output_type": "stream",
     "text": [
      "2024-09-09 16:16:46.719 | INFO     | feathr.utils._env_config_reader:get:62 - Config secrets__azure_key_vault__name is not found in the environment variable, configuration file, or the remote key value store. Returning the default value: None.\n",
      "2024-09-09 16:16:46.721 | INFO     | feathr.utils._env_config_reader:get:62 - Config offline_store__s3__s3_enabled is not found in the environment variable, configuration file, or the remote key value store. Returning the default value: None.\n",
      "2024-09-09 16:16:46.721 | INFO     | feathr.utils._env_config_reader:get:62 - Config offline_store__adls__adls_enabled is not found in the environment variable, configuration file, or the remote key value store. Returning the default value: None.\n",
      "2024-09-09 16:16:46.722 | INFO     | feathr.utils._env_config_reader:get:62 - Config offline_store__wasb__wasb_enabled is not found in the environment variable, configuration file, or the remote key value store. Returning the default value: None.\n",
      "2024-09-09 16:16:46.723 | INFO     | feathr.utils._env_config_reader:get:62 - Config offline_store__jdbc__jdbc_enabled is not found in the environment variable, configuration file, or the remote key value store. Returning the default value: None.\n",
      "2024-09-09 16:16:46.724 | INFO     | feathr.utils._env_config_reader:get:62 - Config offline_store__snowflake__snowflake_enabled is not found in the environment variable, configuration file, or the remote key value store. Returning the default value: None.\n",
      "No offline storage enabled.\n",
      "2024-09-09 16:16:46.725 | INFO     | feathr.utils._env_config_reader:get:62 - Config spark_config__local__workspace is not found in the environment variable, configuration file, or the remote key value store. Returning the default value: None.\n",
      "2024-09-09 16:16:46.725 | INFO     | feathr.utils._env_config_reader:get:62 - Config feature_registry__purview__purview_name is not found in the environment variable, configuration file, or the remote key value store. Returning the default value: None.\n",
      "2024-09-09 16:16:46.726 | INFO     | feathr.client:__init__:208 - Feathr client 1.0.0 initialized successfully.\n"
     ]
    }
   ],
   "source": [
    "from pathlib import Path\n",
    "feathr_workspace_folder = Path(f\"./{PROJECT_NAME}_feathr_config.yaml\")\n",
    "client = FeathrClient(str(feathr_workspace_folder))"
   ]
  },
  {
   "cell_type": "markdown",
   "metadata": {
    "application/vnd.databricks.v1+cell": {
     "inputWidgets": {},
     "nuid": "bdc5a2e1-ccd4-4d61-9168-b0e4f571587b",
     "showTitle": false,
     "title": ""
    }
   },
   "source": [
    "### What's a feature in Feathr\n",
    "A feature is an individual measurable property or characteristic of a phenomenon which is sometimes time-sensitive.\n",
    "\n",
    "In Feathr, a feature is defined by the following characteristics:\n",
    "* The typed key (a.k.a. entity id): identifies the subject of feature, e.g. a user id of 123, a product id of SKU234456.\n",
    "* The feature name: the unique identifier of the feature, e.g. user_age, total_spending_in_30_days.\n",
    "* The feature value: the actual value of that aspect at a particular time, e.g. the feature value of the person's age is 30 at year 2022.\n",
    "* The timestamp: this indicates when the event happened. For example, the user purchased certain product on a certain timestamp. This is usually used for point-in-time join.\n",
    "\n",
    "You can feel that this is defined from a feature consumer (a person who wants to use a feature) perspective. It only tells us what a feature is like. In later sections, you can see how a feature consumer can access the features in a very simple way.\n",
    "\n",
    "To define how to produce the feature, we need to specify:\n",
    "* Feature source: what source data that this feature is based on\n",
    "* Transformation: what transformation is used to transform the source data into feature. Transformation can be optional when you just want to take a column out from the source data.\n",
    "\n",
    "(For more details on feature definition, please refer to the [Feathr Feature Definition Guide](https://feathr-ai.github.io/feathr/concepts/feature-definition.html).)"
   ]
  },
  {
   "cell_type": "markdown",
   "metadata": {
    "application/vnd.databricks.v1+cell": {
     "inputWidgets": {},
     "nuid": "30e2c57d-6487-4d72-bd78-80d17325f1a9",
     "showTitle": false,
     "title": ""
    }
   },
   "source": [
    "Note: in some cases, such as features defined on top of request data, may have no entity key or timestamp.\n",
    "It is merely a function/transformation executing against request data at runtime.\n",
    "For example, the day of week of the request, which is calculated by converting the request UNIX timestamp.\n",
    "(We won't cover this in the tutorial.)"
   ]
  },
  {
   "cell_type": "markdown",
   "metadata": {
    "application/vnd.databricks.v1+cell": {
     "inputWidgets": {},
     "nuid": "64fc4ef8-ccde-4724-8eff-1263c08de39f",
     "showTitle": false,
     "title": ""
    }
   },
   "source": [
    "### Define Sources Section with UDFs\n",
    "\n",
    "A feature is called an anchored feature when the feature is directly extracted from the source data, rather than computed on top of other features. The latter case is called derived feature.\n",
    "\n",
    "A [feature source](https://feathr.readthedocs.io/en/latest/#feathr.Source) is needed for anchored features that describes the raw data in which the feature values are computed from. See the python documentation to get the details on each input column.\n",
    "\n",
    "See [the python API documentation](https://feathr.readthedocs.io/en/latest/#feathr.HdfsSource) to get the details of each input fields."
   ]
  },
  {
   "cell_type": "markdown",
   "metadata": {
    "application/vnd.databricks.v1+cell": {
     "inputWidgets": {},
     "nuid": "78e240b4-dcab-499f-b6ed-72a14bfab968",
     "showTitle": false,
     "title": ""
    }
   },
   "source": [
    "### Define window aggregation features\n",
    "\n",
    "[Window aggregation](https://en.wikipedia.org/wiki/Window_function_%28SQL%29) helps us to create more powerful features by compressing large amount of information. For example, we can compute *average purchase amount over the last 90 days* from the purchase history to capture user's recent consumption trend.\n",
    "\n",
    "To create window aggregation features, we define `WindowAggTransformation` with following arguments:\n",
    "1. `agg_expr`: the field/column you want to aggregate. It can be an ANSI SQL expression, e.g. `cast_float(purchase_amount)` to cast `str` type values to `float`.\n",
    "2. `agg_func`: the aggregation function, e.g. `AVG`. See below table for the full list of supported functions.\n",
    "3. `window`: the aggregation window size, e.g. `90d` to aggregate over the 90 days.\n",
    "\n",
    "| Aggregation Type | Input Type | Description |\n",
    "| --- | --- | --- |\n",
    "| `SUM`, `COUNT`, `MAX`, `MIN`, `AVG` | Numeric | Applies the the numerical operation on the numeric inputs. |\n",
    "| `MAX_POOLING`, `MIN_POOLING`, `AVG_POOLING`\t| Numeric Vector | Applies the max/min/avg operation on a per entry basis for a given a collection of numbers. |\n",
    "| `LATEST` | Any | Returns the latest not-null values from within the defined time window. |\n",
    "\n",
    "After you have defined features and sources, bring them together to build an anchor:\n",
    "\n",
    "> Note that if the features comes directly from the observation data, the `source` argument should be `INPUT_CONTEXT` to indicate the source of the anchor is the observation data."
   ]
  },
  {
   "cell_type": "markdown",
   "metadata": {},
   "source": [
    "## Get features from Register Server"
   ]
  },
  {
   "cell_type": "code",
   "execution_count": 4,
   "metadata": {},
   "outputs": [
    {
     "data": {
      "text/plain": [
       "[{'name': 'feature_user_avg_purchase_for_90days',\n",
       "  'id': 'f4ea07a4-8cf5-4667-8b2c-157ae196154f',\n",
       "  'qualifiedName': 'product_recommendation_from_jdbc__aggregationFeatures__feature_user_avg_purchase_for_90days'},\n",
       " {'name': 'feature_user_age',\n",
       "  'id': '3dc6a53e-6926-4ab5-9f45-b88afb1be57c',\n",
       "  'qualifiedName': 'product_recommendation_from_jdbc__anchored_features__feature_user_age'},\n",
       " {'name': 'feature_user_tax_rate',\n",
       "  'id': 'd50c0db5-1fb7-4463-b00f-8e472a17bc7d',\n",
       "  'qualifiedName': 'product_recommendation_from_jdbc__anchored_features__feature_user_tax_rate'},\n",
       " {'name': 'feature_user_gift_card_balance',\n",
       "  'id': '2c12ca49-801f-40f8-ab6f-47e1de6b01af',\n",
       "  'qualifiedName': 'product_recommendation_from_jdbc__anchored_features__feature_user_gift_card_balance'},\n",
       " {'name': 'feature_user_has_valid_credit_card',\n",
       "  'id': 'b5dd2b16-9f15-4cf7-881e-29ef21efe731',\n",
       "  'qualifiedName': 'product_recommendation_from_jdbc__anchored_features__feature_user_has_valid_credit_card'},\n",
       " {'name': 'feature_product_quantity',\n",
       "  'id': 'a9a5175c-8b29-4e71-ae0a-a6b5bdd2f8c6',\n",
       "  'qualifiedName': 'product_recommendation_from_jdbc__product_anchored_features__feature_product_quantity'},\n",
       " {'name': 'feature_product_price',\n",
       "  'id': '78629237-8ac3-4a97-b0f9-6ef67bc294bf',\n",
       "  'qualifiedName': 'product_recommendation_from_jdbc__product_anchored_features__feature_product_price'},\n",
       " {'name': 'feature_user_purchasing_power',\n",
       "  'id': 'd0107e0d-fff1-4fe0-bdf9-1b7f8a9819a6',\n",
       "  'qualifiedName': 'product_recommendation_from_jdbc__feature_user_purchasing_power'}]"
      ]
     },
     "execution_count": 4,
     "metadata": {},
     "output_type": "execute_result"
    }
   ],
   "source": [
    "client.list_registered_features(project_name=PROJECT_NAME)"
   ]
  },
  {
   "cell_type": "code",
   "execution_count": 5,
   "metadata": {},
   "outputs": [],
   "source": [
    "feature_dict = client.get_features_from_registry(project_name=PROJECT_NAME, return_keys=True)"
   ]
  },
  {
   "cell_type": "markdown",
   "metadata": {},
   "source": [
    "## we can list all features"
   ]
  },
  {
   "cell_type": "code",
   "execution_count": 6,
   "metadata": {},
   "outputs": [
    {
     "data": {
      "text/plain": [
       "['feature_user_avg_purchase_for_90days',\n",
       " 'feature_user_gift_card_balance',\n",
       " 'feature_user_has_valid_credit_card',\n",
       " 'feature_user_age',\n",
       " 'feature_user_tax_rate',\n",
       " 'feature_product_quantity',\n",
       " 'feature_product_price',\n",
       " 'feature_user_purchasing_power']"
      ]
     },
     "execution_count": 6,
     "metadata": {},
     "output_type": "execute_result"
    }
   ],
   "source": [
    "[feat.name for feat in list(feature_dict[0].values())]"
   ]
  },
  {
   "cell_type": "markdown",
   "metadata": {},
   "source": [
    "## we can list all type_key"
   ]
  },
  {
   "cell_type": "code",
   "execution_count": 7,
   "metadata": {},
   "outputs": [
    {
     "data": {
      "text/plain": [
       "['user_id',\n",
       " 'user_id',\n",
       " 'user_id',\n",
       " 'user_id',\n",
       " 'user_id',\n",
       " 'product_id',\n",
       " 'product_id',\n",
       " 'user_id']"
      ]
     },
     "execution_count": 7,
     "metadata": {},
     "output_type": "execute_result"
    }
   ],
   "source": [
    "[type_key.key_column for type_keys in list(feature_dict[1].values()) for type_key in type_keys]"
   ]
  },
  {
   "cell_type": "markdown",
   "metadata": {
    "application/vnd.databricks.v1+cell": {
     "inputWidgets": {},
     "nuid": "cc7b6276-70c1-494f-83ca-53d442e3198a",
     "showTitle": false,
     "title": ""
    }
   },
   "source": [
    "Let's use the helper function `get_result_df` to download the result and view it:"
   ]
  },
  {
   "cell_type": "code",
   "execution_count": null,
   "metadata": {},
   "outputs": [],
   "source": []
  },
  {
   "cell_type": "code",
   "execution_count": null,
   "metadata": {},
   "outputs": [],
   "source": []
  },
  {
   "cell_type": "markdown",
   "metadata": {
    "application/vnd.databricks.v1+cell": {
     "inputWidgets": {},
     "nuid": "fda62a21-e7d6-4044-879f-bc05f77d248e",
     "showTitle": false,
     "title": ""
    }
   },
   "source": [
    "## 6. Feature Materialization\n",
    "\n",
    "While Feathr can compute the feature value from the feature definition on-the-fly at request time, it can also pre-compute\n",
    "and materialize the feature value to offline and/or online storage.\n",
    "\n",
    "We can push the generated features to the online store like below:"
   ]
  },
  {
   "cell_type": "code",
   "execution_count": 8,
   "metadata": {},
   "outputs": [],
   "source": [
    "os.environ['USERPROFILEDATA_USER'] = \"postgres\"\n",
    "os.environ['USERPROFILEDATA_PASSWORD'] = \"efcodd\"\n",
    "os.environ['USERPROFILEDATA_DRIVER'] = \"org.postgresql.Driver\"\n",
    "\n",
    "os.environ['PRODUCTPROFILEDATA_USER'] = \"postgres\"\n",
    "os.environ['PRODUCTPROFILEDATA_PASSWORD'] = \"efcodd\"\n",
    "os.environ['PRODUCTPROFILEDATA_DRIVER'] = \"org.postgresql.Driver\"\n",
    "\n",
    "os.environ['PURCHASE_HISTORY_DATA_USER'] = \"postgres\"\n",
    "os.environ['PURCHASE_HISTORY_DATA_PASSWORD'] = \"efcodd\"\n",
    "os.environ['PURCHASE_HISTORY_DATA_DRIVER'] = \"org.postgresql.Driver\""
   ]
  },
  {
   "cell_type": "code",
   "execution_count": 9,
   "metadata": {},
   "outputs": [],
   "source": [
    "os.environ['S3_ENDPOINT'] = \"127.0.0.1:9000\"\n",
    "os.environ['S3_ACCESS_KEY'] = \"zDaLfup26Qf2psWSVksV\"\n",
    "os.environ['S3_SECRET_KEY'] = \"0uP2ohdTWeLXzV5UAlF8z5JVn17aEbr6OmOa9dkv\""
   ]
  },
  {
   "cell_type": "code",
   "execution_count": null,
   "metadata": {},
   "outputs": [],
   "source": [
    "\n"
   ]
  },
  {
   "cell_type": "code",
   "execution_count": 10,
   "metadata": {},
   "outputs": [],
   "source": [
    "# user key \n",
    "\n",
    "# user_feature_names = ['feature_user_avg_purchase_for_90days',\n",
    "#        'feature_user_gift_card_balance', 'feature_user_has_valid_credit_card',\n",
    "#        'feature_user_tax_rate', 'feature_user_age',\n",
    "#        'feature_user_purchasing_power']\n",
    "feature_dict = client.get_features_from_registry(project_name=PROJECT_NAME, return_keys=True)\n",
    "key_user_id = feature_dict[1][\"feature_user_avg_purchase_for_90days\"][0]\n",
    "user_feature_names = [fea for fea in feature_dict[1] if (feature_dict[1][fea][0].key_column == key_user_id.key_column) ]\n",
    "\n"
   ]
  },
  {
   "cell_type": "code",
   "execution_count": 11,
   "metadata": {
    "application/vnd.databricks.v1+cell": {
     "inputWidgets": {},
     "nuid": "3375f18d-cb64-4f13-8789-07b9d9c5835e",
     "showTitle": false,
     "title": ""
    }
   },
   "outputs": [
    {
     "name": "stderr",
     "output_type": "stream",
     "text": [
      "2024-09-09 16:16:47.657 | WARNING  | feathr.utils._env_config_reader:get_from_env_or_akv:88 - Config KAFKA_SASL_JAAS_CONFIG is not found in the environment variable or the remote key value store.\n",
      "2024-09-09 16:16:47.659 | INFO     | feathr.utils._env_config_reader:get:62 - Config monitoring__database__sql__url is not found in the environment variable, configuration file, or the remote key value store. Returning the default value: None.\n",
      "2024-09-09 16:16:47.660 | INFO     | feathr.utils._env_config_reader:get:62 - Config monitoring__database__sql__user is not found in the environment variable, configuration file, or the remote key value store. Returning the default value: None.\n",
      "2024-09-09 16:16:47.661 | WARNING  | feathr.utils._env_config_reader:get_from_env_or_akv:88 - Config MONITORING_DATABASE_SQL_PASSWORD is not found in the environment variable or the remote key value store.\n",
      "2024-09-09 16:16:47.662 | WARNING  | feathr.spark_provider._localspark_submission:submit_feathr_job:78 - Local Spark Mode only support basic params right now and should be used only for testing purpose.\n",
      "2024-09-09 16:16:47.663 | INFO     | feathr.spark_provider._localspark_submission:_get_debug_file_name:296 - Spark log path is debug/product_recommendation_from_jdbc_feathr_feature_materialization_job20240909161647\n",
      "2024-09-09 16:16:47.666 | INFO     | feathr.spark_provider._localspark_submission:_init_args:271 - Spark job: product_recommendation_from_jdbc_feathr_feature_materialization_job is running on local spark with master: local[*].\n",
      "2024-09-09 16:16:47.682 | INFO     | feathr.spark_provider._localspark_submission:submit_feathr_job:151 - Detail job stdout and stderr are in debug/product_recommendation_from_jdbc_feathr_feature_materialization_job20240909161647/log.\n",
      "bash: /mnt/e/setup/miniconda3/lib/libtinfo.so.6: no version information available (required by bash)\n",
      "2024-09-09 16:16:47.688 | INFO     | feathr.spark_provider._localspark_submission:submit_feathr_job:161 - Local Spark job submit with pid: 1034249.\n",
      "2024-09-09 16:16:47.690 | INFO     | feathr.spark_provider._localspark_submission:wait_for_completion:171 - 1 local spark job(s) in this Launcher, only the latest will be monitored.\n",
      "2024-09-09 16:16:47.691 | INFO     | feathr.spark_provider._localspark_submission:wait_for_completion:172 - Please check auto generated spark command in debug/product_recommendation_from_jdbc_feathr_feature_materialization_job20240909161647/command.sh and detail logs in debug/product_recommendation_from_jdbc_feathr_feature_materialization_job20240909161647/log.\n",
      "bash: /mnt/e/setup/miniconda3/lib/libtinfo.so.6: no version information available (required by bash)\n",
      "https://repository.mulesoft.org/nexus/content/repositories/public/ added as a remote repository with the name: repo-1\n",
      "https://linkedin.jfrog.io/artifactory/open-source/ added as a remote repository with the name: repo-2\n",
      "Ivy Default Cache set to: /home/cuong/.ivy2/cache\n",
      "The jars for the packages stored in: /home/cuong/.ivy2/jars\n",
      "org.apache.spark#spark-avro_2.12 added as a dependency\n",
      "org.apache.logging.log4j#log4j-core added as a dependency\n",
      "com.typesafe#config added as a dependency\n",
      "org.apache.hadoop#hadoop-mapreduce-client-core added as a dependency\n",
      "org.apache.hadoop#hadoop-common added as a dependency\n",
      "org.apache.avro#avro added as a dependency\n",
      "org.apache.xbean#xbean-asm6-shaded added as a dependency\n",
      "org.apache.spark#spark-sql-kafka-0-10_2.12 added as a dependency\n",
      "org.apache.kafka#kafka-clients added as a dependency\n",
      "com.jasonclawson#jackson-dataformat-hocon added as a dependency\n",
      "com.redislabs#spark-redis_2.12 added as a dependency\n",
      "org.apache.xbean#xbean-asm6-shaded added as a dependency\n",
      "com.google.protobuf#protobuf-java added as a dependency\n",
      "commons-io#commons-io added as a dependency\n",
      "org.postgresql#postgresql added as a dependency\n",
      ":: resolving dependencies :: org.apache.spark#spark-submit-parent-4643a01c-be6b-4920-8541-3d2f89a80c35;1.0\n",
      "\tconfs: [default]\n",
      "\tfound org.apache.spark#spark-avro_2.12;3.3.0 in central\n"
     ]
    },
    {
     "name": "stdout",
     "output_type": "stream",
     "text": [
      ">"
     ]
    },
    {
     "name": "stderr",
     "output_type": "stream",
     "text": [
      "\tfound org.tukaani#xz;1.8 in central\n",
      "\tfound org.spark-project.spark#unused;1.0.0 in central\n",
      "\tfound org.apache.logging.log4j#log4j-core;2.17.2 in central\n",
      "\tfound com.typesafe#config;1.3.4 in central\n",
      "\tfound org.apache.hadoop#hadoop-mapreduce-client-core;3.3.2 in central\n",
      "\tfound org.apache.hadoop#hadoop-yarn-client;3.3.2 in central\n",
      "\tfound org.apache.hadoop.thirdparty#hadoop-shaded-guava;1.1.1 in central\n",
      "\tfound commons-cli#commons-cli;1.2 in central\n",
      "\tfound log4j#log4j;1.2.17 in central\n",
      "\tfound org.eclipse.jetty.websocket#websocket-client;9.4.43.v20210629 in central\n",
      "\tfound org.eclipse.jetty#jetty-client;9.4.43.v20210629 in central\n",
      "\tfound org.eclipse.jetty#jetty-http;9.4.43.v20210629 in central\n",
      "\tfound org.eclipse.jetty#jetty-util;9.4.43.v20210629 in central\n",
      "\tfound org.eclipse.jetty#jetty-io;9.4.43.v20210629 in central\n",
      "\tfound org.eclipse.jetty.websocket#websocket-common;9.4.43.v20210629 in central\n",
      "\tfound org.eclipse.jetty.websocket#websocket-api;9.4.43.v20210629 in central\n",
      "\tfound org.apache.hadoop#hadoop-annotations;3.3.2 in central\n",
      "\tfound org.apache.hadoop#hadoop-yarn-api;3.3.2 in central\n",
      "\tfound javax.xml.bind#jaxb-api;2.2.11 in central\n",
      "\tfound org.apache.hadoop.thirdparty#hadoop-shaded-protobuf_3_7;1.1.1 in central\n",
      "\tfound com.fasterxml.jackson.core#jackson-annotations;2.13.0 in central\n",
      "\tfound javax.ws.rs#javax.ws.rs-api;2.1.1 in central\n",
      "\tfound org.apache.hadoop#hadoop-yarn-common;3.3.2 in central\n",
      "\tfound org.apache.hadoop#hadoop-hdfs-client;3.3.2 in central\n",
      "\tfound com.squareup.okhttp#okhttp;2.7.5 in central\n",
      "\tfound com.squareup.okio#okio;1.6.0 in central\n",
      "\tfound com.fasterxml.jackson.core#jackson-databind;2.13.0 in central\n",
      "\tfound com.fasterxml.jackson.core#jackson-core;2.13.0 in central\n",
      "\tfound org.apache.hadoop#hadoop-auth;3.3.2 in central\n",
      "\tfound org.slf4j#slf4j-api;1.7.30 in central\n",
      "\tfound commons-codec#commons-codec;1.11 in central\n",
      "\tfound org.apache.httpcomponents#httpclient;4.5.13 in central\n",
      "\tfound org.apache.httpcomponents#httpcore;4.4.13 in central\n",
      "\tfound commons-logging#commons-logging;1.1.3 in central\n",
      "\tfound com.nimbusds#nimbus-jose-jwt;9.8.1 in central\n",
      "\tfound com.github.stephenc.jcip#jcip-annotations;1.0-1 in central\n",
      "\tfound net.minidev#json-smart;2.4.7 in central\n",
      "\tfound net.minidev#accessors-smart;2.4.7 in central\n",
      "\tfound org.ow2.asm#asm;5.0.4 in central\n",
      "\tfound org.apache.zookeeper#zookeeper;3.5.6 in central\n",
      "\tfound org.apache.zookeeper#zookeeper-jute;3.5.6 in central\n",
      "\tfound org.apache.yetus#audience-annotations;0.5.0 in central\n",
      "\tfound org.apache.curator#curator-framework;4.2.0 in central\n",
      "\tfound org.apache.curator#curator-client;4.2.0 in central\n",
      "\tfound org.apache.kerby#kerb-simplekdc;1.0.1 in central\n",
      "\tfound org.apache.kerby#kerb-client;1.0.1 in central\n",
      "\tfound org.apache.kerby#kerby-config;1.0.1 in central\n",
      "\tfound org.apache.kerby#kerb-core;1.0.1 in central\n",
      "\tfound org.apache.kerby#kerby-pkix;1.0.1 in central\n",
      "\tfound org.apache.kerby#kerby-asn1;1.0.1 in central\n",
      "\tfound org.apache.kerby#kerby-util;1.0.1 in central\n",
      "\tfound org.apache.kerby#kerb-common;1.0.1 in central\n",
      "\tfound org.apache.kerby#kerb-crypto;1.0.1 in spark-list\n",
      "\tfound commons-io#commons-io;2.8.0 in central\n",
      "\tfound org.apache.kerby#kerb-util;1.0.1 in central\n",
      "\tfound org.apache.kerby#token-provider;1.0.1 in central\n",
      "\tfound org.apache.kerby#kerb-admin;1.0.1 in central\n",
      "\tfound org.apache.kerby#kerb-server;1.0.1 in central\n",
      "\tfound org.apache.kerby#kerb-identity;1.0.1 in central\n",
      "\tfound org.apache.kerby#kerby-xdr;1.0.1 in central\n",
      "\tfound org.apache.commons#commons-compress;1.21 in central\n",
      "\tfound javax.servlet#javax.servlet-api;3.1.0 in central\n",
      "\tfound com.sun.jersey#jersey-core;1.19 in central\n",
      "\tfound javax.ws.rs#jsr311-api;1.1.1 in central\n",
      "\tfound com.sun.jersey#jersey-client;1.19 in central\n",
      "\tfound com.google.inject.extensions#guice-servlet;4.0 in central\n",
      "\tfound com.google.inject#guice;4.0 in central\n",
      "\tfound javax.inject#javax.inject;1 in central\n",
      "\tfound aopalliance#aopalliance;1.0 in central\n",
      "\tfound com.google.guava#guava;27.0-jre in central\n",
      "\tfound com.google.guava#failureaccess;1.0 in central\n",
      "\tfound com.google.guava#listenablefuture;9999.0-empty-to-avoid-conflict-with-guava in central\n",
      "\tfound com.google.code.findbugs#jsr305;3.0.2 in central\n",
      "\tfound org.checkerframework#checker-qual;2.5.2 in central\n",
      "\tfound com.google.errorprone#error_prone_annotations;2.2.0 in central\n",
      "\tfound com.google.j2objc#j2objc-annotations;1.1 in central\n",
      "\tfound org.codehaus.mojo#animal-sniffer-annotations;1.17 in central\n",
      "\tfound com.sun.jersey#jersey-server;1.19 in central\n",
      "\tfound com.sun.jersey#jersey-json;1.19 in central\n",
      "\tfound org.codehaus.jettison#jettison;1.1 in central\n",
      "\tfound com.sun.xml.bind#jaxb-impl;2.2.3-1 in central\n"
     ]
    },
    {
     "name": "stdout",
     "output_type": "stream",
     "text": [
      "x"
     ]
    },
    {
     "name": "stderr",
     "output_type": "stream",
     "text": [
      "\tfound org.codehaus.jackson#jackson-core-asl;1.9.13 in central\n",
      "\tfound org.codehaus.jackson#jackson-mapper-asl;1.9.13 in spark-list\n",
      "\tfound org.codehaus.jackson#jackson-jaxrs;1.9.13 in central\n",
      "\tfound org.codehaus.jackson#jackson-xc;1.9.13 in spark-list\n",
      "\tfound com.sun.jersey.contribs#jersey-guice;1.19 in spark-list\n",
      "\tfound com.sun.jersey#jersey-servlet;1.19 in central\n",
      "\tfound com.fasterxml.jackson.module#jackson-module-jaxb-annotations;2.13.0 in central\n",
      "\tfound jakarta.xml.bind#jakarta.xml.bind-api;2.3.3 in central\n",
      "\tfound jakarta.activation#jakarta.activation-api;1.2.1 in central\n",
      "\tfound com.fasterxml.jackson.jaxrs#jackson-jaxrs-json-provider;2.13.0 in central\n",
      "\tfound com.fasterxml.jackson.jaxrs#jackson-jaxrs-base;2.13.0 in central\n",
      "\tfound org.slf4j#slf4j-log4j12;1.7.30 in central\n",
      "\tfound org.jline#jline;3.9.0 in central\n",
      "\tfound io.netty#netty;3.10.6.Final in central\n",
      "\tfound org.apache.hadoop#hadoop-common;3.3.2 in central\n",
      "\tfound org.apache.commons#commons-math3;3.1.1 in central\n",
      "\tfound commons-net#commons-net;3.6 in central\n",
      "\tfound commons-collections#commons-collections;3.2.2 in central\n",
      "\tfound org.eclipse.jetty#jetty-server;9.4.43.v20210629 in central\n",
      "\tfound org.eclipse.jetty#jetty-servlet;9.4.43.v20210629 in central\n",
      "\tfound org.eclipse.jetty#jetty-security;9.4.43.v20210629 in central\n",
      "\tfound org.eclipse.jetty#jetty-util-ajax;9.4.43.v20210629 in central\n",
      "\tfound org.eclipse.jetty#jetty-webapp;9.4.43.v20210629 in central\n",
      "\tfound org.eclipse.jetty#jetty-xml;9.4.43.v20210629 in central\n",
      "\tfound commons-beanutils#commons-beanutils;1.9.4 in central\n",
      "\tfound org.apache.commons#commons-configuration2;2.1.1 in central\n",
      "\tfound org.apache.commons#commons-lang3;3.12.0 in central\n",
      "\tfound org.apache.commons#commons-text;1.4 in central\n",
      "\tfound com.google.re2j#re2j;1.1 in central\n",
      "\tfound com.google.code.gson#gson;2.8.9 in central\n",
      "\tfound com.jcraft#jsch;0.1.55 in central\n",
      "\tfound org.apache.curator#curator-recipes;4.2.0 in central\n",
      "\tfound org.codehaus.woodstox#stax2-api;4.2.1 in central\n",
      "\tfound com.fasterxml.woodstox#woodstox-core;5.3.0 in central\n",
      "\tfound dnsjava#dnsjava;2.1.7 in central\n",
      "\tfound org.xerial.snappy#snappy-java;1.1.8.2 in central\n",
      "\tfound javax.servlet.jsp#jsp-api;2.1 in central\n",
      "\tfound org.apache.avro#avro;1.8.2 in central\n",
      "\tfound com.thoughtworks.paranamer#paranamer;2.7 in central\n",
      "\tfound org.apache.xbean#xbean-asm6-shaded;4.10 in central\n",
      "\tfound org.apache.spark#spark-sql-kafka-0-10_2.12;3.1.3 in central\n",
      "\tfound org.apache.spark#spark-token-provider-kafka-0-10_2.12;3.1.3 in central\n",
      "\tfound org.apache.commons#commons-pool2;2.6.2 in central\n",
      "\tfound org.apache.kafka#kafka-clients;3.1.0 in central\n",
      "\tfound com.github.luben#zstd-jni;1.5.0-4 in central\n",
      "\tfound org.lz4#lz4-java;1.8.0 in central\n",
      "\tfound org.xerial.snappy#snappy-java;1.1.8.4 in central\n",
      "\tfound com.jasonclawson#jackson-dataformat-hocon;1.1.0 in central\n",
      "\tfound com.redislabs#spark-redis_2.12;3.1.0 in central\n",
      "\tfound redis.clients#jedis;3.9.0 in central\n",
      "\tfound org.apache.commons#commons-pool2;2.11.1 in central\n",
      "\tfound com.google.protobuf#protobuf-java;3.19.4 in central\n",
      "\tfound org.postgresql#postgresql;42.3.4 in central\n",
      "\tfound org.checkerframework#checker-qual;3.5.0 in central\n",
      ":: resolution report :: resolve 1804ms :: artifacts dl 37ms\n",
      "\t:: modules in use:\n",
      "\taopalliance#aopalliance;1.0 from central in [default]\n",
      "\tcom.fasterxml.jackson.core#jackson-annotations;2.13.0 from central in [default]\n",
      "\tcom.fasterxml.jackson.core#jackson-core;2.13.0 from central in [default]\n",
      "\tcom.fasterxml.jackson.core#jackson-databind;2.13.0 from central in [default]\n",
      "\tcom.fasterxml.jackson.jaxrs#jackson-jaxrs-base;2.13.0 from central in [default]\n",
      "\tcom.fasterxml.jackson.jaxrs#jackson-jaxrs-json-provider;2.13.0 from central in [default]\n",
      "\tcom.fasterxml.jackson.module#jackson-module-jaxb-annotations;2.13.0 from central in [default]\n",
      "\tcom.fasterxml.woodstox#woodstox-core;5.3.0 from central in [default]\n",
      "\tcom.github.luben#zstd-jni;1.5.0-4 from central in [default]\n",
      "\tcom.github.stephenc.jcip#jcip-annotations;1.0-1 from central in [default]\n",
      "\tcom.google.code.findbugs#jsr305;3.0.2 from central in [default]\n",
      "\tcom.google.code.gson#gson;2.8.9 from central in [default]\n",
      "\tcom.google.errorprone#error_prone_annotations;2.2.0 from central in [default]\n",
      "\tcom.google.guava#failureaccess;1.0 from central in [default]\n",
      "\tcom.google.guava#guava;27.0-jre from central in [default]\n",
      "\tcom.google.guava#listenablefuture;9999.0-empty-to-avoid-conflict-with-guava from central in [default]\n",
      "\tcom.google.inject#guice;4.0 from central in [default]\n",
      "\tcom.google.inject.extensions#guice-servlet;4.0 from central in [default]\n",
      "\tcom.google.j2objc#j2objc-annotations;1.1 from central in [default]\n",
      "\tcom.google.protobuf#protobuf-java;3.19.4 from central in [default]\n",
      "\tcom.google.re2j#re2j;1.1 from central in [default]\n",
      "\tcom.jasonclawson#jackson-dataformat-hocon;1.1.0 from central in [default]\n",
      "\tcom.jcraft#jsch;0.1.55 from central in [default]\n",
      "\tcom.nimbusds#nimbus-jose-jwt;9.8.1 from central in [default]\n",
      "\tcom.redislabs#spark-redis_2.12;3.1.0 from central in [default]\n",
      "\tcom.squareup.okhttp#okhttp;2.7.5 from central in [default]\n",
      "\tcom.squareup.okio#okio;1.6.0 from central in [default]\n",
      "\tcom.sun.jersey#jersey-client;1.19 from central in [default]\n",
      "\tcom.sun.jersey#jersey-core;1.19 from central in [default]\n",
      "\tcom.sun.jersey#jersey-json;1.19 from central in [default]\n",
      "\tcom.sun.jersey#jersey-server;1.19 from central in [default]\n",
      "\tcom.sun.jersey#jersey-servlet;1.19 from central in [default]\n",
      "\tcom.sun.jersey.contribs#jersey-guice;1.19 from spark-list in [default]\n",
      "\tcom.sun.xml.bind#jaxb-impl;2.2.3-1 from central in [default]\n",
      "\tcom.thoughtworks.paranamer#paranamer;2.7 from central in [default]\n",
      "\tcom.typesafe#config;1.3.4 from central in [default]\n",
      "\tcommons-beanutils#commons-beanutils;1.9.4 from central in [default]\n",
      "\tcommons-cli#commons-cli;1.2 from central in [default]\n",
      "\tcommons-codec#commons-codec;1.11 from central in [default]\n",
      "\tcommons-collections#commons-collections;3.2.2 from central in [default]\n",
      "\tcommons-io#commons-io;2.8.0 from central in [default]\n",
      "\tcommons-logging#commons-logging;1.1.3 from central in [default]\n",
      "\tcommons-net#commons-net;3.6 from central in [default]\n",
      "\tdnsjava#dnsjava;2.1.7 from central in [default]\n",
      "\tio.netty#netty;3.10.6.Final from central in [default]\n",
      "\tjakarta.activation#jakarta.activation-api;1.2.1 from central in [default]\n",
      "\tjakarta.xml.bind#jakarta.xml.bind-api;2.3.3 from central in [default]\n",
      "\tjavax.inject#javax.inject;1 from central in [default]\n",
      "\tjavax.servlet#javax.servlet-api;3.1.0 from central in [default]\n",
      "\tjavax.servlet.jsp#jsp-api;2.1 from central in [default]\n",
      "\tjavax.ws.rs#javax.ws.rs-api;2.1.1 from central in [default]\n",
      "\tjavax.ws.rs#jsr311-api;1.1.1 from central in [default]\n",
      "\tjavax.xml.bind#jaxb-api;2.2.11 from central in [default]\n",
      "\tlog4j#log4j;1.2.17 from central in [default]\n",
      "\tnet.minidev#accessors-smart;2.4.7 from central in [default]\n",
      "\tnet.minidev#json-smart;2.4.7 from central in [default]\n",
      "\torg.apache.avro#avro;1.8.2 from central in [default]\n",
      "\torg.apache.commons#commons-compress;1.21 from central in [default]\n",
      "\torg.apache.commons#commons-configuration2;2.1.1 from central in [default]\n",
      "\torg.apache.commons#commons-lang3;3.12.0 from central in [default]\n",
      "\torg.apache.commons#commons-math3;3.1.1 from central in [default]\n",
      "\torg.apache.commons#commons-pool2;2.11.1 from central in [default]\n",
      "\torg.apache.commons#commons-text;1.4 from central in [default]\n",
      "\torg.apache.curator#curator-client;4.2.0 from central in [default]\n",
      "\torg.apache.curator#curator-framework;4.2.0 from central in [default]\n",
      "\torg.apache.curator#curator-recipes;4.2.0 from central in [default]\n",
      "\torg.apache.hadoop#hadoop-annotations;3.3.2 from central in [default]\n",
      "\torg.apache.hadoop#hadoop-auth;3.3.2 from central in [default]\n",
      "\torg.apache.hadoop#hadoop-common;3.3.2 from central in [default]\n",
      "\torg.apache.hadoop#hadoop-hdfs-client;3.3.2 from central in [default]\n",
      "\torg.apache.hadoop#hadoop-mapreduce-client-core;3.3.2 from central in [default]\n",
      "\torg.apache.hadoop#hadoop-yarn-api;3.3.2 from central in [default]\n",
      "\torg.apache.hadoop#hadoop-yarn-client;3.3.2 from central in [default]\n",
      "\torg.apache.hadoop#hadoop-yarn-common;3.3.2 from central in [default]\n",
      "\torg.apache.hadoop.thirdparty#hadoop-shaded-guava;1.1.1 from central in [default]\n",
      "\torg.apache.hadoop.thirdparty#hadoop-shaded-protobuf_3_7;1.1.1 from central in [default]\n",
      "\torg.apache.httpcomponents#httpclient;4.5.13 from central in [default]\n",
      "\torg.apache.httpcomponents#httpcore;4.4.13 from central in [default]\n",
      "\torg.apache.kafka#kafka-clients;3.1.0 from central in [default]\n",
      "\torg.apache.kerby#kerb-admin;1.0.1 from central in [default]\n",
      "\torg.apache.kerby#kerb-client;1.0.1 from central in [default]\n",
      "\torg.apache.kerby#kerb-common;1.0.1 from central in [default]\n",
      "\torg.apache.kerby#kerb-core;1.0.1 from central in [default]\n",
      "\torg.apache.kerby#kerb-crypto;1.0.1 from spark-list in [default]\n",
      "\torg.apache.kerby#kerb-identity;1.0.1 from central in [default]\n",
      "\torg.apache.kerby#kerb-server;1.0.1 from central in [default]\n",
      "\torg.apache.kerby#kerb-simplekdc;1.0.1 from central in [default]\n",
      "\torg.apache.kerby#kerb-util;1.0.1 from central in [default]\n",
      "\torg.apache.kerby#kerby-asn1;1.0.1 from central in [default]\n",
      "\torg.apache.kerby#kerby-config;1.0.1 from central in [default]\n",
      "\torg.apache.kerby#kerby-pkix;1.0.1 from central in [default]\n",
      "\torg.apache.kerby#kerby-util;1.0.1 from central in [default]\n",
      "\torg.apache.kerby#kerby-xdr;1.0.1 from central in [default]\n",
      "\torg.apache.kerby#token-provider;1.0.1 from central in [default]\n",
      "\torg.apache.logging.log4j#log4j-core;2.17.2 from central in [default]\n",
      "\torg.apache.spark#spark-avro_2.12;3.3.0 from central in [default]\n",
      "\torg.apache.spark#spark-sql-kafka-0-10_2.12;3.1.3 from central in [default]\n",
      "\torg.apache.spark#spark-token-provider-kafka-0-10_2.12;3.1.3 from central in [default]\n",
      "\torg.apache.xbean#xbean-asm6-shaded;4.10 from central in [default]\n",
      "\torg.apache.yetus#audience-annotations;0.5.0 from central in [default]\n",
      "\torg.apache.zookeeper#zookeeper;3.5.6 from central in [default]\n",
      "\torg.apache.zookeeper#zookeeper-jute;3.5.6 from central in [default]\n",
      "\torg.checkerframework#checker-qual;3.5.0 from central in [default]\n",
      "\torg.codehaus.jackson#jackson-core-asl;1.9.13 from central in [default]\n",
      "\torg.codehaus.jackson#jackson-jaxrs;1.9.13 from central in [default]\n",
      "\torg.codehaus.jackson#jackson-mapper-asl;1.9.13 from spark-list in [default]\n",
      "\torg.codehaus.jackson#jackson-xc;1.9.13 from spark-list in [default]\n",
      "\torg.codehaus.jettison#jettison;1.1 from central in [default]\n",
      "\torg.codehaus.mojo#animal-sniffer-annotations;1.17 from central in [default]\n",
      "\torg.codehaus.woodstox#stax2-api;4.2.1 from central in [default]\n",
      "\torg.eclipse.jetty#jetty-client;9.4.43.v20210629 from central in [default]\n",
      "\torg.eclipse.jetty#jetty-http;9.4.43.v20210629 from central in [default]\n",
      "\torg.eclipse.jetty#jetty-io;9.4.43.v20210629 from central in [default]\n",
      "\torg.eclipse.jetty#jetty-security;9.4.43.v20210629 from central in [default]\n",
      "\torg.eclipse.jetty#jetty-server;9.4.43.v20210629 from central in [default]\n",
      "\torg.eclipse.jetty#jetty-servlet;9.4.43.v20210629 from central in [default]\n",
      "\torg.eclipse.jetty#jetty-util;9.4.43.v20210629 from central in [default]\n",
      "\torg.eclipse.jetty#jetty-util-ajax;9.4.43.v20210629 from central in [default]\n",
      "\torg.eclipse.jetty#jetty-webapp;9.4.43.v20210629 from central in [default]\n",
      "\torg.eclipse.jetty#jetty-xml;9.4.43.v20210629 from central in [default]\n",
      "\torg.eclipse.jetty.websocket#websocket-api;9.4.43.v20210629 from central in [default]\n",
      "\torg.eclipse.jetty.websocket#websocket-client;9.4.43.v20210629 from central in [default]\n",
      "\torg.eclipse.jetty.websocket#websocket-common;9.4.43.v20210629 from central in [default]\n",
      "\torg.jline#jline;3.9.0 from central in [default]\n",
      "\torg.lz4#lz4-java;1.8.0 from central in [default]\n",
      "\torg.ow2.asm#asm;5.0.4 from central in [default]\n",
      "\torg.postgresql#postgresql;42.3.4 from central in [default]\n",
      "\torg.slf4j#slf4j-api;1.7.30 from central in [default]\n",
      "\torg.slf4j#slf4j-log4j12;1.7.30 from central in [default]\n",
      "\torg.spark-project.spark#unused;1.0.0 from central in [default]\n",
      "\torg.tukaani#xz;1.8 from central in [default]\n",
      "\torg.xerial.snappy#snappy-java;1.1.8.4 from central in [default]\n",
      "\tredis.clients#jedis;3.9.0 from central in [default]\n",
      "\t:: evicted modules:\n",
      "\tcom.google.protobuf#protobuf-java;2.5.0 by [com.google.protobuf#protobuf-java;3.19.4] in [default]\n",
      "\torg.checkerframework#checker-qual;2.5.2 by [org.checkerframework#checker-qual;3.5.0] in [default]\n",
      "\torg.apache.avro#avro;1.7.7 by [org.apache.avro#avro;1.8.2] in [default]\n",
      "\torg.xerial.snappy#snappy-java;1.1.8.2 by [org.xerial.snappy#snappy-java;1.1.8.4] in [default]\n",
      "\torg.xerial.snappy#snappy-java;1.1.1.3 by [org.xerial.snappy#snappy-java;1.1.8.2] in [default]\n",
      "\torg.apache.commons#commons-compress;1.8.1 by [org.apache.commons#commons-compress;1.21] in [default]\n",
      "\torg.tukaani#xz;1.5 by [org.tukaani#xz;1.8] in [default]\n",
      "\torg.slf4j#slf4j-api;1.7.7 by [org.slf4j#slf4j-api;1.7.30] in [default]\n",
      "\torg.apache.kafka#kafka-clients;2.6.0 by [org.apache.kafka#kafka-clients;3.1.0] in [default]\n",
      "\torg.apache.commons#commons-pool2;2.6.2 by [org.apache.commons#commons-pool2;2.11.1] in [default]\n",
      "\tcom.fasterxml.jackson.core#jackson-core;2.4.1.1 by [com.fasterxml.jackson.core#jackson-core;2.13.0] in [default]\n",
      "\tcom.fasterxml.jackson.core#jackson-annotations;2.4.1 by [com.fasterxml.jackson.core#jackson-annotations;2.13.0] in [default]\n",
      "\tcom.fasterxml.jackson.core#jackson-databind;2.4.1.1 by [com.fasterxml.jackson.core#jackson-databind;2.13.0] in [default]\n",
      "\tcom.typesafe#config;1.2.1 by [com.typesafe#config;1.3.4] in [default]\n",
      "\tcommons-io#commons-io;2.6 by [commons-io#commons-io;2.8.0] in [default]\n",
      "\t---------------------------------------------------------------------\n",
      "\t|                  |            modules            ||   artifacts   |\n",
      "\t|       conf       | number| search|dwnlded|evicted|| number|dwnlded|\n",
      "\t---------------------------------------------------------------------\n",
      "\t|      default     |  148  |   0   |   0   |   15  ||  133  |   0   |\n",
      "\t---------------------------------------------------------------------\n",
      ":: retrieving :: org.apache.spark#spark-submit-parent-4643a01c-be6b-4920-8541-3d2f89a80c35\n",
      "\tconfs: [default]\n",
      "\t0 artifacts copied, 133 already retrieved (0kB/22ms)\n",
      "2024-09-09 16:17:20.729 | INFO     | feathr.spark_provider._localspark_submission:wait_for_completion:198 - Pyspark job Completed\n"
     ]
    },
    {
     "name": "stdout",
     "output_type": "stream",
     "text": [
      ">"
     ]
    },
    {
     "name": "stderr",
     "output_type": "stream",
     "text": [
      "2024-09-09 16:17:21.733 | INFO     | feathr.spark_provider._localspark_submission:wait_for_completion:234 - Spark job with pid 1034249 finished in: 34 seconds.\n"
     ]
    },
    {
     "name": "stdout",
     "output_type": "stream",
     "text": [
      ">"
     ]
    }
   ],
   "source": [
    "# Materialize user features\n",
    "# Note, you can only materialize features of same entity key into one table.\n",
    "redisSink = RedisSink(table_name=\"user_features\")\n",
    "settings = MaterializationSettings(\n",
    "    name=\"user_feature_setting\",\n",
    "    sinks=[redisSink],\n",
    "    feature_names=user_feature_names,\n",
    ")\n",
    "\n",
    "client.materialize_features(settings=settings,\n",
    "                            allow_materialize_non_agg_feature=True,\n",
    "                            execution_configurations={\n",
    "                              'spark.jars.plus.packages':\"org.postgresql:postgresql:42.3.4\"\n",
    "                             }\n",
    "                           )\n",
    "client.wait_job_to_finish(timeout_sec=300)"
   ]
  },
  {
   "cell_type": "markdown",
   "metadata": {
    "application/vnd.databricks.v1+cell": {
     "inputWidgets": {},
     "nuid": "7fb61ed8-6db4-461c-bd86-a5ff268a7c3d",
     "showTitle": false,
     "title": ""
    }
   },
   "source": [
    "We can then get the features from the online store (Redis):"
   ]
  },
  {
   "cell_type": "code",
   "execution_count": 12,
   "metadata": {
    "application/vnd.databricks.v1+cell": {
     "inputWidgets": {},
     "nuid": "9d8f3710-d2d4-463a-b452-99bd56bb3482",
     "showTitle": false,
     "title": ""
    }
   },
   "outputs": [
    {
     "data": {
      "text/plain": [
       "[0.0, 204.0, True, 44, 0.03999999910593033, 304.0]"
      ]
     },
     "execution_count": 12,
     "metadata": {},
     "output_type": "execute_result"
    }
   ],
   "source": [
    "client.get_online_features(\n",
    "    \"user_features\", \"2\", user_feature_names\n",
    ")"
   ]
  },
  {
   "cell_type": "code",
   "execution_count": 13,
   "metadata": {
    "application/vnd.databricks.v1+cell": {
     "inputWidgets": {},
     "nuid": "e8aa6e5f-5b2d-4778-bafa-5a3a45fdd3b5",
     "showTitle": false,
     "title": ""
    }
   },
   "outputs": [
    {
     "data": {
      "text/plain": [
       "{'1': [0.0, 1515.0, True, 23, 0.029999999329447746, 1615.0],\n",
       " '2': [0.0, 204.0, True, 44, 0.03999999910593033, 304.0],\n",
       " '34': [0.0, 1939.0, True, 56, 0.019999999552965164, 2039.0],\n",
       " '45': [0.0, 1479.0, True, 37, 0.03999999910593033, 1579.0],\n",
       " '78': [0.0, 1146.0, True, 45, 0.05000000074505806, 1246.0]}"
      ]
     },
     "execution_count": 13,
     "metadata": {},
     "output_type": "execute_result"
    }
   ],
   "source": [
    "client.multi_get_online_features(\n",
    "    \"user_features\", [\"1\", \"2\", \"34\", \"45\", \"78\"], user_feature_names\n",
    ")"
   ]
  },
  {
   "cell_type": "code",
   "execution_count": 14,
   "metadata": {},
   "outputs": [],
   "source": [
    "# product key\n",
    "\n",
    "# product_feature_names = [\n",
    "#        'feature_product_price', 'feature_product_quantity',\n",
    "# ]\n",
    "feature_dict = client.get_features_from_registry(project_name=PROJECT_NAME, return_keys=True)\n",
    "key_product_id = feature_dict[1][\"feature_product_quantity\"][0]\n",
    "product_feature_names = [fea for fea in feature_dict[1] if (feature_dict[1][fea][0].key_column == key_product_id.key_column) ]"
   ]
  },
  {
   "cell_type": "code",
   "execution_count": 16,
   "metadata": {},
   "outputs": [
    {
     "name": "stderr",
     "output_type": "stream",
     "text": [
      "2024-09-09 16:20:50.864 | WARNING  | feathr.utils._env_config_reader:get_from_env_or_akv:88 - Config KAFKA_SASL_JAAS_CONFIG is not found in the environment variable or the remote key value store.\n",
      "2024-09-09 16:20:50.866 | INFO     | feathr.utils._env_config_reader:get:62 - Config monitoring__database__sql__url is not found in the environment variable, configuration file, or the remote key value store. Returning the default value: None.\n",
      "2024-09-09 16:20:50.867 | INFO     | feathr.utils._env_config_reader:get:62 - Config monitoring__database__sql__user is not found in the environment variable, configuration file, or the remote key value store. Returning the default value: None.\n",
      "2024-09-09 16:20:50.867 | WARNING  | feathr.utils._env_config_reader:get_from_env_or_akv:88 - Config MONITORING_DATABASE_SQL_PASSWORD is not found in the environment variable or the remote key value store.\n",
      "2024-09-09 16:20:50.868 | WARNING  | feathr.spark_provider._localspark_submission:submit_feathr_job:78 - Local Spark Mode only support basic params right now and should be used only for testing purpose.\n",
      "2024-09-09 16:20:50.869 | INFO     | feathr.spark_provider._localspark_submission:_get_debug_file_name:296 - Spark log path is debug/product_recommendation_from_jdbc_feathr_feature_materialization_job20240909162050\n",
      "2024-09-09 16:20:50.869 | INFO     | feathr.spark_provider._localspark_submission:_init_args:271 - Spark job: product_recommendation_from_jdbc_feathr_feature_materialization_job is running on local spark with master: local[*].\n",
      "2024-09-09 16:20:50.877 | INFO     | feathr.spark_provider._localspark_submission:submit_feathr_job:151 - Detail job stdout and stderr are in debug/product_recommendation_from_jdbc_feathr_feature_materialization_job20240909162050/log.\n",
      "bash: /mnt/e/setup/miniconda3/lib/libtinfo.so.6: no version information available (required by bash)\n",
      "2024-09-09 16:20:50.879 | INFO     | feathr.spark_provider._localspark_submission:submit_feathr_job:161 - Local Spark job submit with pid: 1037568.\n",
      "2024-09-09 16:20:50.880 | INFO     | feathr.spark_provider._localspark_submission:wait_for_completion:171 - 3 local spark job(s) in this Launcher, only the latest will be monitored.\n",
      "2024-09-09 16:20:50.881 | INFO     | feathr.spark_provider._localspark_submission:wait_for_completion:172 - Please check auto generated spark command in debug/product_recommendation_from_jdbc_feathr_feature_materialization_job20240909162050/command.sh and detail logs in debug/product_recommendation_from_jdbc_feathr_feature_materialization_job20240909162050/log.\n",
      "bash: /mnt/e/setup/miniconda3/lib/libtinfo.so.6: no version information available (required by bash)\n",
      "https://repository.mulesoft.org/nexus/content/repositories/public/ added as a remote repository with the name: repo-1\n",
      "https://linkedin.jfrog.io/artifactory/open-source/ added as a remote repository with the name: repo-2\n",
      "Ivy Default Cache set to: /home/cuong/.ivy2/cache\n",
      "The jars for the packages stored in: /home/cuong/.ivy2/jars\n",
      "org.apache.spark#spark-avro_2.12 added as a dependency\n",
      "org.apache.logging.log4j#log4j-core added as a dependency\n",
      "com.typesafe#config added as a dependency\n",
      "org.apache.hadoop#hadoop-mapreduce-client-core added as a dependency\n",
      "org.apache.hadoop#hadoop-common added as a dependency\n",
      "org.apache.avro#avro added as a dependency\n",
      "org.apache.xbean#xbean-asm6-shaded added as a dependency\n",
      "org.apache.spark#spark-sql-kafka-0-10_2.12 added as a dependency\n",
      "org.apache.kafka#kafka-clients added as a dependency\n",
      "com.jasonclawson#jackson-dataformat-hocon added as a dependency\n",
      "com.redislabs#spark-redis_2.12 added as a dependency\n",
      "org.apache.xbean#xbean-asm6-shaded added as a dependency\n",
      "com.google.protobuf#protobuf-java added as a dependency\n",
      "commons-io#commons-io added as a dependency\n",
      "org.postgresql#postgresql added as a dependency\n",
      ":: resolving dependencies :: org.apache.spark#spark-submit-parent-5cb4b7cf-5487-46f4-9ff0-93fd9c099310;1.0\n",
      "\tconfs: [default]\n",
      "\tfound org.apache.spark#spark-avro_2.12;3.3.0 in central\n",
      "\tfound org.tukaani#xz;1.8 in central\n",
      "\tfound org.spark-project.spark#unused;1.0.0 in central\n"
     ]
    },
    {
     "name": "stdout",
     "output_type": "stream",
     "text": [
      ">"
     ]
    },
    {
     "name": "stderr",
     "output_type": "stream",
     "text": [
      "\tfound org.apache.logging.log4j#log4j-core;2.17.2 in central\n",
      "\tfound com.typesafe#config;1.3.4 in central\n",
      "\tfound org.apache.hadoop#hadoop-mapreduce-client-core;3.3.2 in central\n",
      "\tfound org.apache.hadoop#hadoop-yarn-client;3.3.2 in central\n",
      "\tfound org.apache.hadoop.thirdparty#hadoop-shaded-guava;1.1.1 in central\n",
      "\tfound commons-cli#commons-cli;1.2 in central\n",
      "\tfound log4j#log4j;1.2.17 in central\n",
      "\tfound org.eclipse.jetty.websocket#websocket-client;9.4.43.v20210629 in central\n",
      "\tfound org.eclipse.jetty#jetty-client;9.4.43.v20210629 in central\n",
      "\tfound org.eclipse.jetty#jetty-http;9.4.43.v20210629 in central\n",
      "\tfound org.eclipse.jetty#jetty-util;9.4.43.v20210629 in central\n",
      "\tfound org.eclipse.jetty#jetty-io;9.4.43.v20210629 in central\n",
      "\tfound org.eclipse.jetty.websocket#websocket-common;9.4.43.v20210629 in central\n",
      "\tfound org.eclipse.jetty.websocket#websocket-api;9.4.43.v20210629 in central\n",
      "\tfound org.apache.hadoop#hadoop-annotations;3.3.2 in central\n",
      "\tfound org.apache.hadoop#hadoop-yarn-api;3.3.2 in central\n",
      "\tfound javax.xml.bind#jaxb-api;2.2.11 in central\n",
      "\tfound org.apache.hadoop.thirdparty#hadoop-shaded-protobuf_3_7;1.1.1 in central\n",
      "\tfound com.fasterxml.jackson.core#jackson-annotations;2.13.0 in central\n",
      "\tfound javax.ws.rs#javax.ws.rs-api;2.1.1 in central\n",
      "\tfound org.apache.hadoop#hadoop-yarn-common;3.3.2 in central\n",
      "\tfound org.apache.hadoop#hadoop-hdfs-client;3.3.2 in central\n",
      "\tfound com.squareup.okhttp#okhttp;2.7.5 in central\n",
      "\tfound com.squareup.okio#okio;1.6.0 in central\n",
      "\tfound com.fasterxml.jackson.core#jackson-databind;2.13.0 in central\n",
      "\tfound com.fasterxml.jackson.core#jackson-core;2.13.0 in central\n",
      "\tfound org.apache.hadoop#hadoop-auth;3.3.2 in central\n",
      "\tfound org.slf4j#slf4j-api;1.7.30 in central\n",
      "\tfound commons-codec#commons-codec;1.11 in central\n",
      "\tfound org.apache.httpcomponents#httpclient;4.5.13 in central\n",
      "\tfound org.apache.httpcomponents#httpcore;4.4.13 in central\n",
      "\tfound commons-logging#commons-logging;1.1.3 in central\n",
      "\tfound com.nimbusds#nimbus-jose-jwt;9.8.1 in central\n",
      "\tfound com.github.stephenc.jcip#jcip-annotations;1.0-1 in central\n",
      "\tfound net.minidev#json-smart;2.4.7 in central\n",
      "\tfound net.minidev#accessors-smart;2.4.7 in central\n",
      "\tfound org.ow2.asm#asm;5.0.4 in central\n",
      "\tfound org.apache.zookeeper#zookeeper;3.5.6 in central\n",
      "\tfound org.apache.zookeeper#zookeeper-jute;3.5.6 in central\n",
      "\tfound org.apache.yetus#audience-annotations;0.5.0 in central\n",
      "\tfound org.apache.curator#curator-framework;4.2.0 in central\n",
      "\tfound org.apache.curator#curator-client;4.2.0 in central\n",
      "\tfound org.apache.kerby#kerb-simplekdc;1.0.1 in central\n",
      "\tfound org.apache.kerby#kerb-client;1.0.1 in central\n",
      "\tfound org.apache.kerby#kerby-config;1.0.1 in central\n",
      "\tfound org.apache.kerby#kerb-core;1.0.1 in central\n",
      "\tfound org.apache.kerby#kerby-pkix;1.0.1 in central\n",
      "\tfound org.apache.kerby#kerby-asn1;1.0.1 in central\n",
      "\tfound org.apache.kerby#kerby-util;1.0.1 in central\n",
      "\tfound org.apache.kerby#kerb-common;1.0.1 in central\n",
      "\tfound org.apache.kerby#kerb-crypto;1.0.1 in spark-list\n",
      "\tfound commons-io#commons-io;2.8.0 in central\n",
      "\tfound org.apache.kerby#kerb-util;1.0.1 in central\n",
      "\tfound org.apache.kerby#token-provider;1.0.1 in central\n",
      "\tfound org.apache.kerby#kerb-admin;1.0.1 in central\n",
      "\tfound org.apache.kerby#kerb-server;1.0.1 in central\n",
      "\tfound org.apache.kerby#kerb-identity;1.0.1 in central\n",
      "\tfound org.apache.kerby#kerby-xdr;1.0.1 in central\n",
      "\tfound org.apache.commons#commons-compress;1.21 in central\n",
      "\tfound javax.servlet#javax.servlet-api;3.1.0 in central\n",
      "\tfound com.sun.jersey#jersey-core;1.19 in central\n",
      "\tfound javax.ws.rs#jsr311-api;1.1.1 in central\n",
      "\tfound com.sun.jersey#jersey-client;1.19 in central\n",
      "\tfound com.google.inject.extensions#guice-servlet;4.0 in central\n",
      "\tfound com.google.inject#guice;4.0 in central\n",
      "\tfound javax.inject#javax.inject;1 in central\n",
      "\tfound aopalliance#aopalliance;1.0 in central\n",
      "\tfound com.google.guava#guava;27.0-jre in central\n",
      "\tfound com.google.guava#failureaccess;1.0 in central\n",
      "\tfound com.google.guava#listenablefuture;9999.0-empty-to-avoid-conflict-with-guava in central\n",
      "\tfound com.google.code.findbugs#jsr305;3.0.2 in central\n",
      "\tfound org.checkerframework#checker-qual;2.5.2 in central\n",
      "\tfound com.google.errorprone#error_prone_annotations;2.2.0 in central\n",
      "\tfound com.google.j2objc#j2objc-annotations;1.1 in central\n",
      "\tfound org.codehaus.mojo#animal-sniffer-annotations;1.17 in central\n",
      "\tfound com.sun.jersey#jersey-server;1.19 in central\n",
      "\tfound com.sun.jersey#jersey-json;1.19 in central\n",
      "\tfound org.codehaus.jettison#jettison;1.1 in central\n",
      "\tfound com.sun.xml.bind#jaxb-impl;2.2.3-1 in central\n",
      "\tfound org.codehaus.jackson#jackson-core-asl;1.9.13 in central\n",
      "\tfound org.codehaus.jackson#jackson-mapper-asl;1.9.13 in spark-list\n"
     ]
    },
    {
     "name": "stdout",
     "output_type": "stream",
     "text": [
      "x"
     ]
    },
    {
     "name": "stderr",
     "output_type": "stream",
     "text": [
      "\tfound org.codehaus.jackson#jackson-jaxrs;1.9.13 in central\n",
      "\tfound org.codehaus.jackson#jackson-xc;1.9.13 in spark-list\n",
      "\tfound com.sun.jersey.contribs#jersey-guice;1.19 in spark-list\n",
      "\tfound com.sun.jersey#jersey-servlet;1.19 in central\n",
      "\tfound com.fasterxml.jackson.module#jackson-module-jaxb-annotations;2.13.0 in central\n",
      "\tfound jakarta.xml.bind#jakarta.xml.bind-api;2.3.3 in central\n",
      "\tfound jakarta.activation#jakarta.activation-api;1.2.1 in central\n",
      "\tfound com.fasterxml.jackson.jaxrs#jackson-jaxrs-json-provider;2.13.0 in central\n",
      "\tfound com.fasterxml.jackson.jaxrs#jackson-jaxrs-base;2.13.0 in central\n",
      "\tfound org.slf4j#slf4j-log4j12;1.7.30 in central\n",
      "\tfound org.jline#jline;3.9.0 in central\n",
      "\tfound io.netty#netty;3.10.6.Final in central\n",
      "\tfound org.apache.hadoop#hadoop-common;3.3.2 in central\n",
      "\tfound org.apache.commons#commons-math3;3.1.1 in central\n",
      "\tfound commons-net#commons-net;3.6 in central\n",
      "\tfound commons-collections#commons-collections;3.2.2 in central\n",
      "\tfound org.eclipse.jetty#jetty-server;9.4.43.v20210629 in central\n",
      "\tfound org.eclipse.jetty#jetty-servlet;9.4.43.v20210629 in central\n",
      "\tfound org.eclipse.jetty#jetty-security;9.4.43.v20210629 in central\n",
      "\tfound org.eclipse.jetty#jetty-util-ajax;9.4.43.v20210629 in central\n",
      "\tfound org.eclipse.jetty#jetty-webapp;9.4.43.v20210629 in central\n",
      "\tfound org.eclipse.jetty#jetty-xml;9.4.43.v20210629 in central\n",
      "\tfound commons-beanutils#commons-beanutils;1.9.4 in central\n",
      "\tfound org.apache.commons#commons-configuration2;2.1.1 in central\n",
      "\tfound org.apache.commons#commons-lang3;3.12.0 in central\n",
      "\tfound org.apache.commons#commons-text;1.4 in central\n",
      "\tfound com.google.re2j#re2j;1.1 in central\n",
      "\tfound com.google.code.gson#gson;2.8.9 in central\n",
      "\tfound com.jcraft#jsch;0.1.55 in central\n",
      "\tfound org.apache.curator#curator-recipes;4.2.0 in central\n",
      "\tfound org.codehaus.woodstox#stax2-api;4.2.1 in central\n",
      "\tfound com.fasterxml.woodstox#woodstox-core;5.3.0 in central\n",
      "\tfound dnsjava#dnsjava;2.1.7 in central\n",
      "\tfound org.xerial.snappy#snappy-java;1.1.8.2 in central\n",
      "\tfound javax.servlet.jsp#jsp-api;2.1 in central\n",
      "\tfound org.apache.avro#avro;1.8.2 in central\n",
      "\tfound com.thoughtworks.paranamer#paranamer;2.7 in central\n",
      "\tfound org.apache.xbean#xbean-asm6-shaded;4.10 in central\n",
      "\tfound org.apache.spark#spark-sql-kafka-0-10_2.12;3.1.3 in central\n",
      "\tfound org.apache.spark#spark-token-provider-kafka-0-10_2.12;3.1.3 in central\n",
      "\tfound org.apache.commons#commons-pool2;2.6.2 in central\n",
      "\tfound org.apache.kafka#kafka-clients;3.1.0 in central\n",
      "\tfound com.github.luben#zstd-jni;1.5.0-4 in central\n",
      "\tfound org.lz4#lz4-java;1.8.0 in central\n",
      "\tfound org.xerial.snappy#snappy-java;1.1.8.4 in central\n",
      "\tfound com.jasonclawson#jackson-dataformat-hocon;1.1.0 in central\n",
      "\tfound com.redislabs#spark-redis_2.12;3.1.0 in central\n",
      "\tfound redis.clients#jedis;3.9.0 in central\n",
      "\tfound org.apache.commons#commons-pool2;2.11.1 in central\n",
      "\tfound com.google.protobuf#protobuf-java;3.19.4 in central\n",
      "\tfound org.postgresql#postgresql;42.3.4 in central\n",
      "\tfound org.checkerframework#checker-qual;3.5.0 in central\n",
      ":: resolution report :: resolve 1667ms :: artifacts dl 32ms\n",
      "\t:: modules in use:\n",
      "\taopalliance#aopalliance;1.0 from central in [default]\n",
      "\tcom.fasterxml.jackson.core#jackson-annotations;2.13.0 from central in [default]\n",
      "\tcom.fasterxml.jackson.core#jackson-core;2.13.0 from central in [default]\n",
      "\tcom.fasterxml.jackson.core#jackson-databind;2.13.0 from central in [default]\n",
      "\tcom.fasterxml.jackson.jaxrs#jackson-jaxrs-base;2.13.0 from central in [default]\n",
      "\tcom.fasterxml.jackson.jaxrs#jackson-jaxrs-json-provider;2.13.0 from central in [default]\n",
      "\tcom.fasterxml.jackson.module#jackson-module-jaxb-annotations;2.13.0 from central in [default]\n",
      "\tcom.fasterxml.woodstox#woodstox-core;5.3.0 from central in [default]\n",
      "\tcom.github.luben#zstd-jni;1.5.0-4 from central in [default]\n",
      "\tcom.github.stephenc.jcip#jcip-annotations;1.0-1 from central in [default]\n",
      "\tcom.google.code.findbugs#jsr305;3.0.2 from central in [default]\n",
      "\tcom.google.code.gson#gson;2.8.9 from central in [default]\n",
      "\tcom.google.errorprone#error_prone_annotations;2.2.0 from central in [default]\n",
      "\tcom.google.guava#failureaccess;1.0 from central in [default]\n",
      "\tcom.google.guava#guava;27.0-jre from central in [default]\n",
      "\tcom.google.guava#listenablefuture;9999.0-empty-to-avoid-conflict-with-guava from central in [default]\n",
      "\tcom.google.inject#guice;4.0 from central in [default]\n",
      "\tcom.google.inject.extensions#guice-servlet;4.0 from central in [default]\n",
      "\tcom.google.j2objc#j2objc-annotations;1.1 from central in [default]\n",
      "\tcom.google.protobuf#protobuf-java;3.19.4 from central in [default]\n",
      "\tcom.google.re2j#re2j;1.1 from central in [default]\n",
      "\tcom.jasonclawson#jackson-dataformat-hocon;1.1.0 from central in [default]\n",
      "\tcom.jcraft#jsch;0.1.55 from central in [default]\n",
      "\tcom.nimbusds#nimbus-jose-jwt;9.8.1 from central in [default]\n",
      "\tcom.redislabs#spark-redis_2.12;3.1.0 from central in [default]\n",
      "\tcom.squareup.okhttp#okhttp;2.7.5 from central in [default]\n",
      "\tcom.squareup.okio#okio;1.6.0 from central in [default]\n",
      "\tcom.sun.jersey#jersey-client;1.19 from central in [default]\n",
      "\tcom.sun.jersey#jersey-core;1.19 from central in [default]\n",
      "\tcom.sun.jersey#jersey-json;1.19 from central in [default]\n",
      "\tcom.sun.jersey#jersey-server;1.19 from central in [default]\n",
      "\tcom.sun.jersey#jersey-servlet;1.19 from central in [default]\n",
      "\tcom.sun.jersey.contribs#jersey-guice;1.19 from spark-list in [default]\n",
      "\tcom.sun.xml.bind#jaxb-impl;2.2.3-1 from central in [default]\n",
      "\tcom.thoughtworks.paranamer#paranamer;2.7 from central in [default]\n",
      "\tcom.typesafe#config;1.3.4 from central in [default]\n",
      "\tcommons-beanutils#commons-beanutils;1.9.4 from central in [default]\n",
      "\tcommons-cli#commons-cli;1.2 from central in [default]\n",
      "\tcommons-codec#commons-codec;1.11 from central in [default]\n",
      "\tcommons-collections#commons-collections;3.2.2 from central in [default]\n",
      "\tcommons-io#commons-io;2.8.0 from central in [default]\n",
      "\tcommons-logging#commons-logging;1.1.3 from central in [default]\n",
      "\tcommons-net#commons-net;3.6 from central in [default]\n",
      "\tdnsjava#dnsjava;2.1.7 from central in [default]\n",
      "\tio.netty#netty;3.10.6.Final from central in [default]\n",
      "\tjakarta.activation#jakarta.activation-api;1.2.1 from central in [default]\n",
      "\tjakarta.xml.bind#jakarta.xml.bind-api;2.3.3 from central in [default]\n",
      "\tjavax.inject#javax.inject;1 from central in [default]\n",
      "\tjavax.servlet#javax.servlet-api;3.1.0 from central in [default]\n",
      "\tjavax.servlet.jsp#jsp-api;2.1 from central in [default]\n",
      "\tjavax.ws.rs#javax.ws.rs-api;2.1.1 from central in [default]\n",
      "\tjavax.ws.rs#jsr311-api;1.1.1 from central in [default]\n",
      "\tjavax.xml.bind#jaxb-api;2.2.11 from central in [default]\n",
      "\tlog4j#log4j;1.2.17 from central in [default]\n",
      "\tnet.minidev#accessors-smart;2.4.7 from central in [default]\n",
      "\tnet.minidev#json-smart;2.4.7 from central in [default]\n",
      "\torg.apache.avro#avro;1.8.2 from central in [default]\n",
      "\torg.apache.commons#commons-compress;1.21 from central in [default]\n",
      "\torg.apache.commons#commons-configuration2;2.1.1 from central in [default]\n",
      "\torg.apache.commons#commons-lang3;3.12.0 from central in [default]\n",
      "\torg.apache.commons#commons-math3;3.1.1 from central in [default]\n",
      "\torg.apache.commons#commons-pool2;2.11.1 from central in [default]\n",
      "\torg.apache.commons#commons-text;1.4 from central in [default]\n",
      "\torg.apache.curator#curator-client;4.2.0 from central in [default]\n",
      "\torg.apache.curator#curator-framework;4.2.0 from central in [default]\n",
      "\torg.apache.curator#curator-recipes;4.2.0 from central in [default]\n",
      "\torg.apache.hadoop#hadoop-annotations;3.3.2 from central in [default]\n",
      "\torg.apache.hadoop#hadoop-auth;3.3.2 from central in [default]\n",
      "\torg.apache.hadoop#hadoop-common;3.3.2 from central in [default]\n",
      "\torg.apache.hadoop#hadoop-hdfs-client;3.3.2 from central in [default]\n",
      "\torg.apache.hadoop#hadoop-mapreduce-client-core;3.3.2 from central in [default]\n",
      "\torg.apache.hadoop#hadoop-yarn-api;3.3.2 from central in [default]\n",
      "\torg.apache.hadoop#hadoop-yarn-client;3.3.2 from central in [default]\n",
      "\torg.apache.hadoop#hadoop-yarn-common;3.3.2 from central in [default]\n",
      "\torg.apache.hadoop.thirdparty#hadoop-shaded-guava;1.1.1 from central in [default]\n",
      "\torg.apache.hadoop.thirdparty#hadoop-shaded-protobuf_3_7;1.1.1 from central in [default]\n",
      "\torg.apache.httpcomponents#httpclient;4.5.13 from central in [default]\n",
      "\torg.apache.httpcomponents#httpcore;4.4.13 from central in [default]\n",
      "\torg.apache.kafka#kafka-clients;3.1.0 from central in [default]\n",
      "\torg.apache.kerby#kerb-admin;1.0.1 from central in [default]\n",
      "\torg.apache.kerby#kerb-client;1.0.1 from central in [default]\n",
      "\torg.apache.kerby#kerb-common;1.0.1 from central in [default]\n",
      "\torg.apache.kerby#kerb-core;1.0.1 from central in [default]\n",
      "\torg.apache.kerby#kerb-crypto;1.0.1 from spark-list in [default]\n",
      "\torg.apache.kerby#kerb-identity;1.0.1 from central in [default]\n",
      "\torg.apache.kerby#kerb-server;1.0.1 from central in [default]\n",
      "\torg.apache.kerby#kerb-simplekdc;1.0.1 from central in [default]\n",
      "\torg.apache.kerby#kerb-util;1.0.1 from central in [default]\n",
      "\torg.apache.kerby#kerby-asn1;1.0.1 from central in [default]\n",
      "\torg.apache.kerby#kerby-config;1.0.1 from central in [default]\n",
      "\torg.apache.kerby#kerby-pkix;1.0.1 from central in [default]\n",
      "\torg.apache.kerby#kerby-util;1.0.1 from central in [default]\n",
      "\torg.apache.kerby#kerby-xdr;1.0.1 from central in [default]\n",
      "\torg.apache.kerby#token-provider;1.0.1 from central in [default]\n",
      "\torg.apache.logging.log4j#log4j-core;2.17.2 from central in [default]\n",
      "\torg.apache.spark#spark-avro_2.12;3.3.0 from central in [default]\n",
      "\torg.apache.spark#spark-sql-kafka-0-10_2.12;3.1.3 from central in [default]\n",
      "\torg.apache.spark#spark-token-provider-kafka-0-10_2.12;3.1.3 from central in [default]\n",
      "\torg.apache.xbean#xbean-asm6-shaded;4.10 from central in [default]\n",
      "\torg.apache.yetus#audience-annotations;0.5.0 from central in [default]\n",
      "\torg.apache.zookeeper#zookeeper;3.5.6 from central in [default]\n",
      "\torg.apache.zookeeper#zookeeper-jute;3.5.6 from central in [default]\n",
      "\torg.checkerframework#checker-qual;3.5.0 from central in [default]\n",
      "\torg.codehaus.jackson#jackson-core-asl;1.9.13 from central in [default]\n",
      "\torg.codehaus.jackson#jackson-jaxrs;1.9.13 from central in [default]\n",
      "\torg.codehaus.jackson#jackson-mapper-asl;1.9.13 from spark-list in [default]\n",
      "\torg.codehaus.jackson#jackson-xc;1.9.13 from spark-list in [default]\n",
      "\torg.codehaus.jettison#jettison;1.1 from central in [default]\n",
      "\torg.codehaus.mojo#animal-sniffer-annotations;1.17 from central in [default]\n",
      "\torg.codehaus.woodstox#stax2-api;4.2.1 from central in [default]\n",
      "\torg.eclipse.jetty#jetty-client;9.4.43.v20210629 from central in [default]\n",
      "\torg.eclipse.jetty#jetty-http;9.4.43.v20210629 from central in [default]\n",
      "\torg.eclipse.jetty#jetty-io;9.4.43.v20210629 from central in [default]\n",
      "\torg.eclipse.jetty#jetty-security;9.4.43.v20210629 from central in [default]\n",
      "\torg.eclipse.jetty#jetty-server;9.4.43.v20210629 from central in [default]\n",
      "\torg.eclipse.jetty#jetty-servlet;9.4.43.v20210629 from central in [default]\n",
      "\torg.eclipse.jetty#jetty-util;9.4.43.v20210629 from central in [default]\n",
      "\torg.eclipse.jetty#jetty-util-ajax;9.4.43.v20210629 from central in [default]\n",
      "\torg.eclipse.jetty#jetty-webapp;9.4.43.v20210629 from central in [default]\n",
      "\torg.eclipse.jetty#jetty-xml;9.4.43.v20210629 from central in [default]\n",
      "\torg.eclipse.jetty.websocket#websocket-api;9.4.43.v20210629 from central in [default]\n",
      "\torg.eclipse.jetty.websocket#websocket-client;9.4.43.v20210629 from central in [default]\n",
      "\torg.eclipse.jetty.websocket#websocket-common;9.4.43.v20210629 from central in [default]\n",
      "\torg.jline#jline;3.9.0 from central in [default]\n",
      "\torg.lz4#lz4-java;1.8.0 from central in [default]\n",
      "\torg.ow2.asm#asm;5.0.4 from central in [default]\n",
      "\torg.postgresql#postgresql;42.3.4 from central in [default]\n",
      "\torg.slf4j#slf4j-api;1.7.30 from central in [default]\n",
      "\torg.slf4j#slf4j-log4j12;1.7.30 from central in [default]\n",
      "\torg.spark-project.spark#unused;1.0.0 from central in [default]\n",
      "\torg.tukaani#xz;1.8 from central in [default]\n",
      "\torg.xerial.snappy#snappy-java;1.1.8.4 from central in [default]\n",
      "\tredis.clients#jedis;3.9.0 from central in [default]\n",
      "\t:: evicted modules:\n",
      "\tcom.google.protobuf#protobuf-java;2.5.0 by [com.google.protobuf#protobuf-java;3.19.4] in [default]\n",
      "\torg.checkerframework#checker-qual;2.5.2 by [org.checkerframework#checker-qual;3.5.0] in [default]\n",
      "\torg.apache.avro#avro;1.7.7 by [org.apache.avro#avro;1.8.2] in [default]\n",
      "\torg.xerial.snappy#snappy-java;1.1.8.2 by [org.xerial.snappy#snappy-java;1.1.8.4] in [default]\n",
      "\torg.xerial.snappy#snappy-java;1.1.1.3 by [org.xerial.snappy#snappy-java;1.1.8.2] in [default]\n",
      "\torg.apache.commons#commons-compress;1.8.1 by [org.apache.commons#commons-compress;1.21] in [default]\n",
      "\torg.tukaani#xz;1.5 by [org.tukaani#xz;1.8] in [default]\n",
      "\torg.slf4j#slf4j-api;1.7.7 by [org.slf4j#slf4j-api;1.7.30] in [default]\n",
      "\torg.apache.kafka#kafka-clients;2.6.0 by [org.apache.kafka#kafka-clients;3.1.0] in [default]\n",
      "\torg.apache.commons#commons-pool2;2.6.2 by [org.apache.commons#commons-pool2;2.11.1] in [default]\n",
      "\tcom.fasterxml.jackson.core#jackson-core;2.4.1.1 by [com.fasterxml.jackson.core#jackson-core;2.13.0] in [default]\n",
      "\tcom.fasterxml.jackson.core#jackson-annotations;2.4.1 by [com.fasterxml.jackson.core#jackson-annotations;2.13.0] in [default]\n",
      "\tcom.fasterxml.jackson.core#jackson-databind;2.4.1.1 by [com.fasterxml.jackson.core#jackson-databind;2.13.0] in [default]\n",
      "\tcom.typesafe#config;1.2.1 by [com.typesafe#config;1.3.4] in [default]\n",
      "\tcommons-io#commons-io;2.6 by [commons-io#commons-io;2.8.0] in [default]\n",
      "\t---------------------------------------------------------------------\n",
      "\t|                  |            modules            ||   artifacts   |\n",
      "\t|       conf       | number| search|dwnlded|evicted|| number|dwnlded|\n",
      "\t---------------------------------------------------------------------\n",
      "\t|      default     |  148  |   0   |   0   |   15  ||  133  |   0   |\n",
      "\t---------------------------------------------------------------------\n",
      ":: retrieving :: org.apache.spark#spark-submit-parent-5cb4b7cf-5487-46f4-9ff0-93fd9c099310\n",
      "\tconfs: [default]\n",
      "\t0 artifacts copied, 133 already retrieved (0kB/22ms)\n",
      "2024-09-09 16:21:23.917 | INFO     | feathr.spark_provider._localspark_submission:wait_for_completion:198 - Pyspark job Completed\n"
     ]
    },
    {
     "name": "stdout",
     "output_type": "stream",
     "text": [
      ">"
     ]
    },
    {
     "name": "stderr",
     "output_type": "stream",
     "text": [
      "2024-09-09 16:21:24.920 | INFO     | feathr.spark_provider._localspark_submission:wait_for_completion:234 - Spark job with pid 1037568 finished in: 34 seconds.\n"
     ]
    },
    {
     "name": "stdout",
     "output_type": "stream",
     "text": [
      ">"
     ]
    }
   ],
   "source": [
    "# Materialize user features\n",
    "# Note, you can only materialize features of same entity key into one table.\n",
    "product_redisSink = RedisSink(table_name=\"product_features1\")\n",
    "product_settings = MaterializationSettings(\n",
    "    name=\"product_feature_setting\",\n",
    "    sinks=[product_redisSink],\n",
    "    feature_names=product_feature_names,\n",
    ")\n",
    "\n",
    "client.materialize_features(settings=product_settings,\n",
    "                            allow_materialize_non_agg_feature=True,\n",
    "                            execution_configurations={ \n",
    "                              'spark.jars.plus.packages':\"org.postgresql:postgresql:42.3.4\"\n",
    "                            }\n",
    "                           )\n",
    "client.wait_job_to_finish(timeout_sec=300)"
   ]
  },
  {
   "cell_type": "code",
   "execution_count": 17,
   "metadata": {},
   "outputs": [
    {
     "data": {
      "text/plain": [
       "['feature_product_quantity', 'feature_product_price']"
      ]
     },
     "execution_count": 17,
     "metadata": {},
     "output_type": "execute_result"
    }
   ],
   "source": [
    "product_feature_names"
   ]
  },
  {
   "cell_type": "code",
   "execution_count": 18,
   "metadata": {},
   "outputs": [
    {
     "data": {
      "text/plain": [
       "[14.0, 104.39189147949219]"
      ]
     },
     "execution_count": 18,
     "metadata": {},
     "output_type": "execute_result"
    }
   ],
   "source": [
    "client.get_online_features(\n",
    "    \"product_features1\", \"1\", product_feature_names\n",
    ")"
   ]
  },
  {
   "cell_type": "code",
   "execution_count": 19,
   "metadata": {},
   "outputs": [
    {
     "data": {
      "text/plain": [
       "{'1': [14.0, 104.39189147949219],\n",
       " '2': [69.0, 60.08137893676758],\n",
       " '3': [16.0, 24.84902000427246],\n",
       " '4': [10.0, 152.512939453125],\n",
       " '5': [88.0, 1.3630683422088623],\n",
       " '6': [49.0, 67.41737365722656],\n",
       " '7': [88.0, 33.198917388916016],\n",
       " '8': [61.0, 183.12388610839844],\n",
       " '9': [31.0, 8.413022994995117],\n",
       " '10': [88.0, 59.487388610839844],\n",
       " '11': [13.0, 50.92708206176758],\n",
       " '12': [40.0, 80.02034759521484],\n",
       " '13': [55.0, 136.61766052246094],\n",
       " '14': [70.0, 87.16132354736328],\n",
       " '15': [97.0, 11.105215072631836],\n",
       " '16': [11.0, 135.34413146972656],\n",
       " '17': [11.0, 100.65690612792969],\n",
       " '18': [83.0, 39.408809661865234],\n",
       " '19': [28.0, 135.954833984375],\n",
       " '20': [63.0, 138.9633331298828],\n",
       " '21': [34.0, 44.26852798461914],\n",
       " '22': [57.0, 22.263668060302734],\n",
       " '23': [80.0, 180.9148712158203],\n",
       " '24': [54.0, 101.99103546142578],\n",
       " '25': [6.0, 68.22028350830078],\n",
       " '26': [59.0, 85.59817504882812],\n",
       " '27': [70.0, 81.89146423339844],\n",
       " '28': [85.0, 130.9653778076172],\n",
       " '29': [93.0, 93.73111724853516],\n",
       " '30': [62.0, 5.826688289642334],\n",
       " '31': [18.0, 51.79441452026367],\n",
       " '32': [60.0, 163.75909423828125],\n",
       " '33': [34.0, 23.253236770629883],\n",
       " '34': [79.0, 156.21954345703125],\n",
       " '35': [31.0, 169.8437042236328],\n",
       " '36': [1.0, 187.46974182128906],\n",
       " '37': [3.0, 64.75121307373047],\n",
       " '38': [63.0, 101.19690704345703],\n",
       " '39': [63.0, 81.51998901367188],\n",
       " '40': [72.0, 53.007728576660156],\n",
       " '41': [92.0, 143.97459411621094],\n",
       " '42': [61.0, 166.8167724609375],\n",
       " '43': [90.0, 81.13796997070312],\n",
       " '44': [89.0, 186.66468811035156],\n",
       " '45': [13.0, 47.849273681640625],\n",
       " '46': [72.0, 21.656391143798828],\n",
       " '47': [92.0, 91.73265075683594],\n",
       " '48': [70.0, 195.40269470214844],\n",
       " '49': [42.0, 130.539794921875],\n",
       " '50': [27.0, 175.66549682617188],\n",
       " '51': [51.0, 122.92671966552734],\n",
       " '52': [81.0, 109.78526306152344],\n",
       " '53': [91.0, 2.5863144397735596],\n",
       " '54': [88.0, 90.14756774902344],\n",
       " '55': [30.0, 190.5438690185547],\n",
       " '56': [88.0, 52.20410919189453],\n",
       " '57': [74.0, 59.090145111083984],\n",
       " '58': [85.0, 73.00204467773438],\n",
       " '59': [5.0, 10.666929244995117],\n",
       " '60': [70.0, 171.37881469726562],\n",
       " '61': [26.0, 134.4261474609375],\n",
       " '62': [97.0, 162.72044372558594],\n",
       " '63': [68.0, 180.64761352539062],\n",
       " '64': [92.0, 92.53445434570312],\n",
       " '65': [98.0, 165.29052734375],\n",
       " '66': [22.0, 171.36512756347656],\n",
       " '67': [29.0, 103.04069519042969],\n",
       " '68': [40.0, 148.25790405273438],\n",
       " '69': [17.0, 160.44500732421875],\n",
       " '70': [55.0, 47.44396209716797],\n",
       " '71': [83.0, 136.63531494140625],\n",
       " '72': [23.0, 38.74378204345703],\n",
       " '73': [70.0, 130.72390747070312],\n",
       " '74': [27.0, 125.54420471191406],\n",
       " '75': [1.0, 149.11065673828125],\n",
       " '76': [11.0, 93.62040710449219],\n",
       " '77': [68.0, 83.33797454833984],\n",
       " '78': [92.0, 133.8566436767578],\n",
       " '79': [86.0, 178.74368286132812],\n",
       " '80': [41.0, 80.23371124267578],\n",
       " '81': [50.0, 7.892298698425293],\n",
       " '82': [65.0, 76.57217407226562],\n",
       " '83': [89.0, 154.3855438232422],\n",
       " '84': [34.0, 80.2944564819336],\n",
       " '85': [49.0, 127.85679626464844],\n",
       " '86': [12.0, 54.32088851928711],\n",
       " '87': [87.0, 79.98389434814453],\n",
       " '88': [11.0, 15.335043907165527],\n",
       " '89': [29.0, 26.987638473510742],\n",
       " '90': [65.0, 24.37383270263672],\n",
       " '91': [64.0, 198.90472412109375],\n",
       " '92': [3.0, 133.2492218017578],\n",
       " '93': [37.0, 66.23785400390625],\n",
       " '94': [22.0, 118.90148162841797],\n",
       " '95': [91.0, 10.849149703979492],\n",
       " '96': [97.0, 16.68600082397461],\n",
       " '97': [35.0, 108.27703094482422],\n",
       " '98': [61.0, 179.86276245117188],\n",
       " '99': [18.0, 85.76517486572266]}"
      ]
     },
     "execution_count": 19,
     "metadata": {},
     "output_type": "execute_result"
    }
   ],
   "source": [
    "client.multi_get_online_features(\n",
    "    \"product_features1\", [str(i) for i in range(1,100,1)], product_feature_names\n",
    ")"
   ]
  },
  {
   "cell_type": "markdown",
   "metadata": {},
   "source": [
    "# get features for infer step"
   ]
  },
  {
   "cell_type": "code",
   "execution_count": 20,
   "metadata": {},
   "outputs": [],
   "source": [
    "infer_user_features = client.multi_get_online_features(\n",
    "    \"user_features\", [\"1\", \"2\", \"34\", \"45\", \"78\"], user_feature_names\n",
    ")\n",
    "infer_user_features_df = pd.DataFrame(infer_user_features).T.reset_index()\n",
    "infer_user_features_df.columns =[\"user_id\"] + user_feature_names"
   ]
  },
  {
   "cell_type": "code",
   "execution_count": 21,
   "metadata": {},
   "outputs": [],
   "source": [
    "infer_product_features = client.multi_get_online_features(\n",
    "    \"product_features1\", [str(i) for i in range(1,100,1)], product_feature_names\n",
    ")\n",
    "infer_product_features_df = pd.DataFrame(infer_product_features).T.reset_index()\n",
    "infer_product_features_df.columns =[\"product_id\"] + product_feature_names"
   ]
  },
  {
   "cell_type": "code",
   "execution_count": 22,
   "metadata": {},
   "outputs": [],
   "source": [
    "infer_user_features_df[\"cross_key\"] = 1\n",
    "infer_product_features_df[\"cross_key\"] = 1"
   ]
  },
  {
   "cell_type": "code",
   "execution_count": 23,
   "metadata": {},
   "outputs": [],
   "source": [
    "features_df = pd.merge(infer_user_features_df, infer_product_features_df, on ='cross_key').drop(labels=\"cross_key\", axis=1)"
   ]
  },
  {
   "cell_type": "code",
   "execution_count": 24,
   "metadata": {},
   "outputs": [],
   "source": [
    "order_features = ['user_id', 'product_id', 'feature_user_avg_purchase_for_90days',\n",
    "       'feature_product_price', 'feature_product_quantity',\n",
    "       'feature_user_gift_card_balance', 'feature_user_has_valid_credit_card',\n",
    "       'feature_user_tax_rate', 'feature_user_age',\n",
    "       'feature_user_purchasing_power']"
   ]
  },
  {
   "cell_type": "code",
   "execution_count": 25,
   "metadata": {},
   "outputs": [
    {
     "data": {
      "text/html": [
       "<div>\n",
       "<style scoped>\n",
       "    .dataframe tbody tr th:only-of-type {\n",
       "        vertical-align: middle;\n",
       "    }\n",
       "\n",
       "    .dataframe tbody tr th {\n",
       "        vertical-align: top;\n",
       "    }\n",
       "\n",
       "    .dataframe thead th {\n",
       "        text-align: right;\n",
       "    }\n",
       "</style>\n",
       "<table border=\"1\" class=\"dataframe\">\n",
       "  <thead>\n",
       "    <tr style=\"text-align: right;\">\n",
       "      <th></th>\n",
       "      <th>user_id</th>\n",
       "      <th>product_id</th>\n",
       "      <th>feature_user_avg_purchase_for_90days</th>\n",
       "      <th>feature_product_price</th>\n",
       "      <th>feature_product_quantity</th>\n",
       "      <th>feature_user_gift_card_balance</th>\n",
       "      <th>feature_user_has_valid_credit_card</th>\n",
       "      <th>feature_user_tax_rate</th>\n",
       "      <th>feature_user_age</th>\n",
       "      <th>feature_user_purchasing_power</th>\n",
       "    </tr>\n",
       "  </thead>\n",
       "  <tbody>\n",
       "    <tr>\n",
       "      <th>0</th>\n",
       "      <td>1</td>\n",
       "      <td>1</td>\n",
       "      <td>0.0</td>\n",
       "      <td>104.391891</td>\n",
       "      <td>14.0</td>\n",
       "      <td>1515.0</td>\n",
       "      <td>True</td>\n",
       "      <td>0.03</td>\n",
       "      <td>23</td>\n",
       "      <td>1615.0</td>\n",
       "    </tr>\n",
       "    <tr>\n",
       "      <th>1</th>\n",
       "      <td>1</td>\n",
       "      <td>2</td>\n",
       "      <td>0.0</td>\n",
       "      <td>60.081379</td>\n",
       "      <td>69.0</td>\n",
       "      <td>1515.0</td>\n",
       "      <td>True</td>\n",
       "      <td>0.03</td>\n",
       "      <td>23</td>\n",
       "      <td>1615.0</td>\n",
       "    </tr>\n",
       "    <tr>\n",
       "      <th>2</th>\n",
       "      <td>1</td>\n",
       "      <td>3</td>\n",
       "      <td>0.0</td>\n",
       "      <td>24.849020</td>\n",
       "      <td>16.0</td>\n",
       "      <td>1515.0</td>\n",
       "      <td>True</td>\n",
       "      <td>0.03</td>\n",
       "      <td>23</td>\n",
       "      <td>1615.0</td>\n",
       "    </tr>\n",
       "    <tr>\n",
       "      <th>3</th>\n",
       "      <td>1</td>\n",
       "      <td>4</td>\n",
       "      <td>0.0</td>\n",
       "      <td>152.512939</td>\n",
       "      <td>10.0</td>\n",
       "      <td>1515.0</td>\n",
       "      <td>True</td>\n",
       "      <td>0.03</td>\n",
       "      <td>23</td>\n",
       "      <td>1615.0</td>\n",
       "    </tr>\n",
       "    <tr>\n",
       "      <th>4</th>\n",
       "      <td>1</td>\n",
       "      <td>5</td>\n",
       "      <td>0.0</td>\n",
       "      <td>1.363068</td>\n",
       "      <td>88.0</td>\n",
       "      <td>1515.0</td>\n",
       "      <td>True</td>\n",
       "      <td>0.03</td>\n",
       "      <td>23</td>\n",
       "      <td>1615.0</td>\n",
       "    </tr>\n",
       "    <tr>\n",
       "      <th>...</th>\n",
       "      <td>...</td>\n",
       "      <td>...</td>\n",
       "      <td>...</td>\n",
       "      <td>...</td>\n",
       "      <td>...</td>\n",
       "      <td>...</td>\n",
       "      <td>...</td>\n",
       "      <td>...</td>\n",
       "      <td>...</td>\n",
       "      <td>...</td>\n",
       "    </tr>\n",
       "    <tr>\n",
       "      <th>490</th>\n",
       "      <td>78</td>\n",
       "      <td>95</td>\n",
       "      <td>0.0</td>\n",
       "      <td>10.849150</td>\n",
       "      <td>91.0</td>\n",
       "      <td>1146.0</td>\n",
       "      <td>True</td>\n",
       "      <td>0.05</td>\n",
       "      <td>45</td>\n",
       "      <td>1246.0</td>\n",
       "    </tr>\n",
       "    <tr>\n",
       "      <th>491</th>\n",
       "      <td>78</td>\n",
       "      <td>96</td>\n",
       "      <td>0.0</td>\n",
       "      <td>16.686001</td>\n",
       "      <td>97.0</td>\n",
       "      <td>1146.0</td>\n",
       "      <td>True</td>\n",
       "      <td>0.05</td>\n",
       "      <td>45</td>\n",
       "      <td>1246.0</td>\n",
       "    </tr>\n",
       "    <tr>\n",
       "      <th>492</th>\n",
       "      <td>78</td>\n",
       "      <td>97</td>\n",
       "      <td>0.0</td>\n",
       "      <td>108.277031</td>\n",
       "      <td>35.0</td>\n",
       "      <td>1146.0</td>\n",
       "      <td>True</td>\n",
       "      <td>0.05</td>\n",
       "      <td>45</td>\n",
       "      <td>1246.0</td>\n",
       "    </tr>\n",
       "    <tr>\n",
       "      <th>493</th>\n",
       "      <td>78</td>\n",
       "      <td>98</td>\n",
       "      <td>0.0</td>\n",
       "      <td>179.862762</td>\n",
       "      <td>61.0</td>\n",
       "      <td>1146.0</td>\n",
       "      <td>True</td>\n",
       "      <td>0.05</td>\n",
       "      <td>45</td>\n",
       "      <td>1246.0</td>\n",
       "    </tr>\n",
       "    <tr>\n",
       "      <th>494</th>\n",
       "      <td>78</td>\n",
       "      <td>99</td>\n",
       "      <td>0.0</td>\n",
       "      <td>85.765175</td>\n",
       "      <td>18.0</td>\n",
       "      <td>1146.0</td>\n",
       "      <td>True</td>\n",
       "      <td>0.05</td>\n",
       "      <td>45</td>\n",
       "      <td>1246.0</td>\n",
       "    </tr>\n",
       "  </tbody>\n",
       "</table>\n",
       "<p>495 rows × 10 columns</p>\n",
       "</div>"
      ],
      "text/plain": [
       "    user_id product_id feature_user_avg_purchase_for_90days  \\\n",
       "0         1          1                                  0.0   \n",
       "1         1          2                                  0.0   \n",
       "2         1          3                                  0.0   \n",
       "3         1          4                                  0.0   \n",
       "4         1          5                                  0.0   \n",
       "..      ...        ...                                  ...   \n",
       "490      78         95                                  0.0   \n",
       "491      78         96                                  0.0   \n",
       "492      78         97                                  0.0   \n",
       "493      78         98                                  0.0   \n",
       "494      78         99                                  0.0   \n",
       "\n",
       "     feature_product_price  feature_product_quantity  \\\n",
       "0               104.391891                      14.0   \n",
       "1                60.081379                      69.0   \n",
       "2                24.849020                      16.0   \n",
       "3               152.512939                      10.0   \n",
       "4                 1.363068                      88.0   \n",
       "..                     ...                       ...   \n",
       "490              10.849150                      91.0   \n",
       "491              16.686001                      97.0   \n",
       "492             108.277031                      35.0   \n",
       "493             179.862762                      61.0   \n",
       "494              85.765175                      18.0   \n",
       "\n",
       "    feature_user_gift_card_balance feature_user_has_valid_credit_card  \\\n",
       "0                           1515.0                               True   \n",
       "1                           1515.0                               True   \n",
       "2                           1515.0                               True   \n",
       "3                           1515.0                               True   \n",
       "4                           1515.0                               True   \n",
       "..                             ...                                ...   \n",
       "490                         1146.0                               True   \n",
       "491                         1146.0                               True   \n",
       "492                         1146.0                               True   \n",
       "493                         1146.0                               True   \n",
       "494                         1146.0                               True   \n",
       "\n",
       "    feature_user_tax_rate feature_user_age feature_user_purchasing_power  \n",
       "0                    0.03               23                        1615.0  \n",
       "1                    0.03               23                        1615.0  \n",
       "2                    0.03               23                        1615.0  \n",
       "3                    0.03               23                        1615.0  \n",
       "4                    0.03               23                        1615.0  \n",
       "..                    ...              ...                           ...  \n",
       "490                  0.05               45                        1246.0  \n",
       "491                  0.05               45                        1246.0  \n",
       "492                  0.05               45                        1246.0  \n",
       "493                  0.05               45                        1246.0  \n",
       "494                  0.05               45                        1246.0  \n",
       "\n",
       "[495 rows x 10 columns]"
      ]
     },
     "execution_count": 25,
     "metadata": {},
     "output_type": "execute_result"
    }
   ],
   "source": [
    "features_df[order_features]"
   ]
  },
  {
   "cell_type": "code",
   "execution_count": null,
   "metadata": {},
   "outputs": [],
   "source": []
  },
  {
   "cell_type": "code",
   "execution_count": null,
   "metadata": {},
   "outputs": [],
   "source": []
  }
 ],
 "metadata": {
  "application/vnd.databricks.v1+notebook": {
   "dashboards": [],
   "language": "python",
   "notebookMetadata": {
    "pythonIndentUnit": 4
   },
   "notebookName": "product_recommendation_demo_advanced",
   "notebookOrigID": 411375353096492,
   "widgets": {}
  },
  "kernelspec": {
   "display_name": "Python 3 (ipykernel)",
   "language": "python",
   "name": "python3"
  },
  "language_info": {
   "codemirror_mode": {
    "name": "ipython",
    "version": 3
   },
   "file_extension": ".py",
   "mimetype": "text/x-python",
   "name": "python",
   "nbconvert_exporter": "python",
   "pygments_lexer": "ipython3",
   "version": "3.9.19"
  },
  "vscode": {
   "interpreter": {
    "hash": "197b83f153f250c1ab26c6f20b4199af9ff4d61ee3c56eceb059d2c848b8ae73"
   }
  }
 },
 "nbformat": 4,
 "nbformat_minor": 4
}
